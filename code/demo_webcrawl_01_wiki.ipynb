{
 "cells": [
  {
   "cell_type": "markdown",
   "id": "3e1e5523",
   "metadata": {},
   "source": [
    "### Web Crawling of Wikipedia"
   ]
  },
  {
   "cell_type": "code",
   "execution_count": 1,
   "id": "59a62ee2",
   "metadata": {},
   "outputs": [
    {
     "name": "stdout",
     "output_type": "stream",
     "text": [
      "Ready.\n"
     ]
    }
   ],
   "source": [
    "import requests\n",
    "from bs4 import BeautifulSoup\n",
    "print (\"Ready.\")"
   ]
  },
  {
   "cell_type": "markdown",
   "id": "6fc6d3b0",
   "metadata": {},
   "source": [
    "### Define `entity` for simple search"
   ]
  },
  {
   "cell_type": "code",
   "execution_count": 2,
   "id": "8b8a9137",
   "metadata": {},
   "outputs": [
    {
     "name": "stdout",
     "output_type": "stream",
     "text": [
      "entity:[President of South Korea]\n"
     ]
    }
   ],
   "source": [
    "entity = 'President of South Korea'\n",
    "print (\"entity:[%s]\"%(entity))"
   ]
  },
  {
   "cell_type": "markdown",
   "id": "f8ff88b8",
   "metadata": {},
   "source": [
    "### Now crawl"
   ]
  },
  {
   "cell_type": "code",
   "execution_count": 3,
   "id": "e7855fe1",
   "metadata": {},
   "outputs": [],
   "source": [
    "entity_ = entity.replace(\" \", \"+\")\n",
    "search_url = f\"https://en.wikipedia.org/w/index.php?search={entity_}\"\n",
    "response_text = requests.get(search_url).text\n",
    "soup = BeautifulSoup(response_text, features=\"html.parser\")\n",
    "result_divs = soup.find_all(\"div\", {\"class\": \"mw-search-result-heading\"})\n",
    "if result_divs:  # mismatch\n",
    "    print (\"entity:[%s] mismatched.\"%(entity))\n",
    "else:\n",
    "    page = [p.get_text().strip() for p in soup.find_all(\"p\") + soup.find_all(\"ul\")]"
   ]
  },
  {
   "cell_type": "code",
   "execution_count": 4,
   "id": "07d60379",
   "metadata": {
    "scrolled": true
   },
   "outputs": [
    {
     "data": {
      "text/plain": [
       "['',\n",
       " '',\n",
       " '',\n",
       " '',\n",
       " 'The president of the Republic of Korea (Korean:\\xa0대한민국 대통령; RR:\\xa0Daehanmin-guk daetongnyeong), also known as the president of South Korea (Korean:\\xa0대통령), is the head of state and head of government of the Republic of Korea. The president leads the State Council, and is the chief of the executive branch of the national government as well as the commander-in-chief of the Republic of Korea Armed Forces.',\n",
       " 'The Constitution and the amended Presidential Election Act of 1987 provide for election of the president by direct, secret ballot, ending sixteen years of indirect presidential elections under the preceding two authoritarian governments. The president is directly elected to a five-year term, with no possibility of re-election.[2] If a presidential vacancy should occur, a successor must be elected within sixty days, during which time presidential duties are to be performed by the prime minister or other senior cabinet members in the order of priority as determined by law. The president is exempt from criminal liability (except for insurrection or treason).',\n",
       " \"The current president, Yoon Suk Yeol, a former prosecutor general and member of the conservative People Power Party, assumed office on 10 May 2022,[3][4] after defeating the Democratic Party's nominee Lee Jae-myung with a narrow 48.5% plurality in the 2022 South Korean presidential election.[5]\",\n",
       " \"Prior to the establishment of the First Republic in 1948, the Provisional Government of the Republic of Korea established in Shanghai in September 1919 as the continuation of several governments proclaimed in the aftermath of March 1st Movement earlier that year coordinated Korean people's resistance against the Japanese occupation. The legitimacy of the Provisional Government has been recognized and succeeded by South Korea in the latter's original Constitution of 1948 and the current Constitution of 1988.\",\n",
       " 'The presidential term has been set at five years since 1988. It was previously set at four years from 1948 to 1972, six years from 1972 to 1981, and seven years from 1981 to 1988. Since 1981, the president has been barred from re-election.',\n",
       " 'Chapter 3 of the South Korean constitution states the duties and the powers of the president.\\nThe president is required to:',\n",
       " 'Also, the president is given the powers:',\n",
       " 'If the National Assembly votes against a presidential decision, it will be declared void immediately.',\n",
       " 'The president may refer important policy matters to a national referendum, declare war, conclude peace and other treaties, appoint senior public officials, and grant amnesty (with the concurrence of the National Assembly). In times of serious internal or external turmoil or threat, or economic or financial crises, the president may assume emergency powers \"for the maintenance of national security or public peace and order.\" Emergency measures may be taken only when the National Assembly is not in session and when there is no time for it to convene. The measures are limited to the \"minimum necessary.\"',\n",
       " 'The 1987 Constitution removed the 1980 Constitution\\'s explicit provisions that empowered the government to temporarily suspend the freedoms and rights of the people. However, the president is permitted to take other measures that could amend or abolish existing laws for the duration of a crisis. It is unclear whether such emergency measures could temporarily suspend portions of the Constitution itself. Emergency measures must be referred to the National Assembly for concurrence. If not endorsed by the assembly, the emergency measures can be revoked; any laws that had been overridden by presidential order regain their original effect. In this respect, the power of the legislature is more vigorously asserted than in cases of ratification of treaties or declarations of war, in which the Constitution simply states that the National Assembly \"has the right to consent\" to the president\\'s actions. In a change from the 1980 Constitution, the 1987 Constitution stated that the president is not permitted to dissolve the National Assembly.',\n",
       " 'The presidential election rules are defined by the South Korean Constitution and the Public Official Election Act. The president is elected by direct popular vote, conducted using first-past-the-post.',\n",
       " 'Breakdown of votes by region for candidates with at least 1% of the total votes.',\n",
       " 'Breakdown of votes by region for candidates with less than 1% of the total votes.',\n",
       " '',\n",
       " 'The president is assisted by the staff of the Presidential Secretariat, headed by a cabinet-rank secretary general. Apart from the State Council, or cabinet, the chief executive relies on several constitutional organs.',\n",
       " 'These constitutional organs included the National Security Council, which provided advice concerning the foreign, military, and domestic policies bearing on national security. Chaired by the president, the council in 1990 had as its statutory members the prime minister, the deputy prime minister, the ministers for foreign affairs, home affairs, finance, and national defense, the director of the Agency for National Security Planning (ANSP) which was known as the Korean Central Intelligence Agency (KCIA) until December 1980, and others designated by the president. Another important body is the Peaceful Unification Advisory Council, inaugurated in June 1981 under the chairmanship of the president. From its inception, this body had no policy role, but rather appeared to serve as a government sounding board and as a means to disburse political rewards by providing large numbers of dignitaries and others with titles and opportunities to meet periodically with the president and other senior officials.',\n",
       " 'The president also was assisted in 1990 by the Audit and Inspection Board. In addition to auditing the accounts of all public institutions, the board scrutinized the administrative performance of government agencies and public officials. Its findings were reported to the president and the National Assembly, which itself had broad powers to inspect the work of the bureaucracy under the provisions of the Constitution. Board members were appointed by the president.',\n",
       " 'One controversial constitutional organ was the Advisory Council of Elder Statesmen, which replaced a smaller body in February 1988, just before Roh Tae Woo was sworn in as president. This body was supposed to be chaired by the immediate former president; its expansion to eighty members, broadened functions, and elevation to cabinet rank made it appear to have been designed, as one Seoul newspaper said, to \"preserve the status and position of a certain individual.\" The government announced plans to reduce the size and functions of this body immediately after Roh\\'s inauguration. Public suspicions that the council might provide former President Chun with a power base within the Sixth Republic were rendered moot when Chun withdrew to an isolated Buddhist temple in self-imposed exile in November 1988.',\n",
       " 'The procedure for impeachment is set out in the 10th Constitution of South Korea in 1987. According to Article 65 Clause 1, if the President, Prime Minister, or other state council members violate the Constitution or other laws of official duty, the National Assembly can impeach them.',\n",
       " 'Clause 2 states the impeachment bill must be proposed by one third and approved by a majority of members of the National Assembly for passage. In the case of the President, the motion must be proposed by a majority and approved by two thirds or more of the total members of the National Assembly, meaning that 200 of 300 members of the parliament must approve the bill. This article also states that any person against whom a motion for impeachment has been passed shall be suspended from exercising power until the impeachment has been adjudicated, and a decision on impeachment shall not extend further than removal from public office. However, impeachment shall not exempt the person impeached from civil or criminal liability for such violations.[7]',\n",
       " 'By the Constitutional Court Act, the Constitutional Court must make a final decision within 180 days after it receives any case for adjudication, including impeachment cases. If the respondent has already left office before the pronouncement of the decision, the case is dismissed.[8]',\n",
       " 'Two presidents have been impeached since the establishing of the Republic of Korea in 1948. Roh Moo-hyun in 2004 was impeached by the National Assembly, but the impeachment was overturned by the Constitutional Court. Park Geun-hye in 2016 was impeached by the National Assembly, and the impeachment was confirmed by the Constitutional Court on March 10, 2017.[9][10]',\n",
       " 'As of 2021, the president receives a salary of ₩240,648,000[1] along with an undisclosed expense account to cover travel, goods and services while in office.',\n",
       " 'In addition, the presidency of the republic maintains the Chongri Gonggwan (\"Official Residence of the Prime Minister\") and the Prime Ministers Office in Seoul. The Chongri Gonggwan is the Prime Minister\\'s official residence and official workplace. The Prime Minister is allowed use of all other official government offices and residences.',\n",
       " 'The president also has many regional offices especially in the major cities ready to receive the president at any time. Although not residences, they are owned by the national government and are used when the president is in the region or city.',\n",
       " 'For ground travel the president uses a highly modified Hyundai Nexo SUV to serve as the presidential state vehicle.[11] For air travel the president uses a highly modified plane which is a military version of the Boeing 747-400 with the call sign Code One and a highly modified helicopter which is a military version of the Sikorsky S-92 that serves as the presidential helicopter.',\n",
       " 'All former presidents receive a lifelong pension and Presidential Security Service detail. Unlike the Prime Minister, a former president cannot decline PSS protection. Except Chun Doo-hwan and Roh Tae-woo,[12] all former presidents are given a state funeral and a presidential library as a memorial. In recent years, South Korean presidents tend to have controversial post-presidencies; four of the last six have served time in prison.[13][14][15]',\n",
       " 'Impeached presidents are stripped of their post-presidential benefits such as pension, free medical services, state funding for post-retirement offices, personal assistants and a chauffeur, and right to burial at the Seoul National Cemetery after death. However, such individuals are still entitled to retain security protection under the Presidential Security Act.[16]',\n",
       " 'The Act on the Establishment and Management of National Cemeteries states that a deceased president can be buried in a national cemetery, but the Act also bans former presidents who were convicted of a crime after leaving office from being laid to rest there.[17] This means that the living former presidents Park Geun-hye and Lee Myung-bak and the deceased Roh Moo-hyun, Roh Tae-woo and Chun Doo-hwan are not allowed to be buried in a national cemetery.',\n",
       " \"Article 71 of the Constitution of South Korea states, 'In the event of the president not being able to discharge the duties of his/her office, the Prime Minister and ministers in line of the order of succession shall be the acting president.' Article 68 of the Constitution requires the acting president to hold new elections within 60 days.[18]\",\n",
       " 'According to article 12, section 2 and article 22, section 1 of the Government Organization Act, order of succession follows:',\n",
       " 'Main pageContentsCurrent eventsRandom articleAbout WikipediaContact usDonate',\n",
       " 'HelpLearn to editCommunity portalRecent changesUpload file',\n",
       " 'Create accountLog in',\n",
       " 'Create account Log in',\n",
       " 'ContributionsTalk',\n",
       " '(Top)\\n\\n\\n\\n\\n\\n1History\\n\\n\\n\\n\\n\\n\\n\\n2Powers and duties of the president\\n\\n\\n\\n\\n\\n\\n\\n3Election\\n\\n\\n\\nToggle Election subsection\\n\\n\\n\\n\\n\\n3.1Latest election\\n\\n\\n\\n\\n\\n\\n\\n3.2By region\\n\\n\\n\\n\\n\\n3.2.1Major candidates\\n\\n\\n\\n\\n\\n\\n\\n3.2.2Minor candidates\\n\\n\\n\\n\\n\\n\\n\\n\\n\\n\\n\\n4Related constitutional organs\\n\\n\\n\\n\\n\\n\\n\\n5Removal\\n\\n\\n\\n\\n\\n\\n\\n6Compensation and privileges of office\\n\\n\\n\\n\\n\\n\\n\\n7Post-presidency\\n\\n\\n\\n\\n\\n\\n\\n8Order of succession\\n\\n\\n\\n\\n\\n\\n\\n9Timeline of presidents\\n\\n\\n\\n\\n\\n\\n\\n10See also\\n\\n\\n\\n\\n\\n\\n\\n11References\\n\\n\\n\\n\\n\\n\\n\\n12External links',\n",
       " '',\n",
       " '',\n",
       " '3.1Latest election\\n\\n\\n\\n\\n\\n\\n\\n3.2By region\\n\\n\\n\\n\\n\\n3.2.1Major candidates\\n\\n\\n\\n\\n\\n\\n\\n3.2.2Minor candidates',\n",
       " '',\n",
       " '3.2.1Major candidates\\n\\n\\n\\n\\n\\n\\n\\n3.2.2Minor candidates',\n",
       " '',\n",
       " '',\n",
       " '',\n",
       " '',\n",
       " '',\n",
       " '',\n",
       " '',\n",
       " '',\n",
       " '',\n",
       " '',\n",
       " '',\n",
       " 'العربيةAragonésБеларускаяБългарскиBosanskiCatalàČeštinaDanskDeutschΕλληνικάEsperantoفارسیFrançaisGaeilgeGalego客家語/Hak-kâ-ngî한국어Հայերենहिन्दीBahasa IndonesiaעבריתქართულიҚазақшаLietuviųمصرىBahasa MelayuМонголမြန်မာဘာသာ日本語پښتوPolskiPortuguêsSimple EnglishSlovenščinaکوردیSrpskohrvatski / српскохрватскиSuomiไทยTürkçeУкраїнськаVènetoTiếng Việt文言粵語中文',\n",
       " 'Article\\n\\nTalk',\n",
       " '',\n",
       " 'Read\\n\\nEdit\\n\\nView history',\n",
       " 'ReadEditView history',\n",
       " 'What links hereRelated changesUpload fileSpecial pagesPermanent linkPage informationCite this pageWikidata item',\n",
       " 'Download as PDFPrintable version',\n",
       " 'Wikimedia Commons',\n",
       " 'Mr. President (informal)\\nHis Excellency (diplomatic)',\n",
       " 'Head of stateHead of government',\n",
       " 'State CouncilNational Security CouncilNational Unification Advisory Council',\n",
       " 'Constitution of South Korea',\n",
       " 'Law\\nHuman rights',\n",
       " 'National Assembly',\n",
       " 'Speaker Kim Jin-pyo (I)',\n",
       " 'Deputy Speaker Kim Young-joo (D)',\n",
       " 'Deputy Speaker Chung Jin-suk (P)',\n",
       " 'Members',\n",
       " 'President of South Korea',\n",
       " 'Yoon Suk-yeol (P)',\n",
       " 'Prime Minister of South Korea',\n",
       " 'Han Duck-soo (I)',\n",
       " 'State Council\\nAdministrative divisions',\n",
       " 'Supreme Court of Korea',\n",
       " 'Chief Justice Kim Myeong-soo',\n",
       " 'Constitutional Court of Korea',\n",
       " 'President Yoo Nam-seok',\n",
       " 'Presidential elections\\nLegislative elections\\nLocal elections',\n",
       " 'By-elections',\n",
       " 'Democratic\\nPPP',\n",
       " 'Justice\\nBasic Income Party\\nTransition Korea',\n",
       " 'Reunification\\nSunshine Policy',\n",
       " 'Other countries',\n",
       " 'vte',\n",
       " 'uphold the Constitution\\npreserve the safety and homeland of South Korea\\nwork for the peaceful reunification of Korea, typically act as the Chairperson of the Peaceful Unification Advisory Council',\n",
       " 'as the head of the executive branch of government\\nas the commander-in-chief of the South Korean military\\nto declare war\\nto hold referendums regarding issues of national importance\\nto issue executive orders\\nto issue medals in honor of service for the nation\\nto issue pardons\\nto declare a state of emergency suspending all laws or enacting a state of martial law\\nto veto bills (subject to a two thirds majority veto override by the National Assembly)[6]',\n",
       " \"Argentina\\nAustria\\nBrazil\\nColombia\\nPeople's Republic of China\\nRepublic of China\\nDR Congo\\nFinland\\nFrance\\nGermany\\nIndia\\nIndonesia\\nIsrael\\nItaly\\nIreland\\nRepublic of Korea\\nMexico\\nPakistan\\nPeru\\nPhilippines\\nPoland\\nRomania\\nSri Lanka\\nUnited States\\nUruguay\\nVietnam\",\n",
       " 'vte',\n",
       " 'Biography portalSouth Korea portal',\n",
       " 'List of presidents of South Korea\\nList of presidents of South Korea by time in office\\nPresidential elections in South Korea\\nList of international trips made by presidents of South Korea\\nList of official vehicles of the president of South Korea\\nTransportation of the president of South Korea\\nFirst Lady of South Korea\\nVice President of South Korea\\nList of leaders of North Korea',\n",
       " 'U.S. Library of Congress Country Studies',\n",
       " 'Official website (in English)\\nOfficial website (in Korean)',\n",
       " 'vte',\n",
       " 'vte',\n",
       " 'Syngman Rhee\\nYi Dong-nyeong\\nPark Eun-sik\\nYi Yu-pil\\nYi Sang-ryong\\nYang Gi-tak\\nYi Dong-nyeong\\nAhn Changho\\nYi Dong-nyeong\\nHong Jin\\nKim Gu\\nYi Dong-nyeong\\nSong Byeong-jo\\nYi Dong-nyeong\\nKim Gu\\nSyngman Rhee',\n",
       " 'Kim Il Sung\\nKim Jong Il\\nKim Jong Un',\n",
       " 'Kim Tu-bong\\nChoe Yong-gon\\nKim Il Sung\\nYang Hyong-sop\\nKim Yong-nam\\nKim Jong Un',\n",
       " 'Kim Il Sung\\nKim Il\\nPak Song-chol\\nRi Jong-ok\\nKang Song-san\\nRi Kun-mo\\nYon Hyong-muk\\nKang Song-san\\nHong Song-nam\\nPak Pong-ju\\nKim Yong-il\\nChoe Yong-rim\\nPak Pong-ju\\nKim Jae-ryong\\nKim Tok-hun',\n",
       " 'Syngman Rhee\\nHeo Jeong\\nKwak Sang-hoon\\nBaek Nak-jun\\nYun Posun(Jang Myeon)\\nPark Chung Hee\\nChoi Kyu-hah\\nPak Choong-hoon\\nChun Doo-hwan\\nRoh Tae-woo\\nKim Young-sam\\nKim Dae-jung\\nRoh Moo-hyun\\nGoh Kun\\nRoh Moo-hyun\\nLee Myung-bak\\nPark Geun-hye\\nHwang Kyo-ahn\\nMoon Jae-in\\nYoon Suk-yeol',\n",
       " 'vte',\n",
       " 'Afghanistan\\nArmenia1\\nAzerbaijan1\\nBahrain\\nBangladesh\\nBhutan\\nBrunei\\nCambodia\\nChina\\nCyprus\\nEast Timor\\nEgypt2\\nGeorgia1\\nIndia\\nIndonesia\\nIran\\nIraq\\nIsrael\\nJapan\\nJordan\\nKazakhstan\\nKuwait\\nKyrgyzstan\\nLaos\\nLebanon\\nMalaysia\\nMaldives\\nMongolia\\nMyanmar\\nNepal\\nNorth Korea\\nOman\\nPakistan\\nPalestine\\nPhilippines\\nQatar\\nRussia1\\nSaudi Arabia\\nSingapore\\nSri Lanka\\nSouth Korea\\nSyria\\nTajikistan\\nThailand\\nTurkey\\nTurkmenistan\\nUnited Arab Emirates\\nUzbekistan\\nVietnam\\nYemen',\n",
       " 'Abkhazia1\\nNagorno-Karabakh1\\nNorthern Cyprus1\\nSouth Ossetia1\\nTaiwan',\n",
       " 'Afghanistan\\nArmenia1\\nAzerbaijan1\\nBahrain\\nBangladesh\\nBhutan\\nBrunei\\nCambodia\\nChina\\nCyprus\\nEast Timor\\nEgypt2\\nGeorgia1\\nIndia\\nIndonesia\\nIran\\nIraq\\nIsrael\\nJapan\\nJordan\\nKazakhstan\\nKuwait\\nKyrgyzstan\\nLaos\\nLebanon\\nMalaysia\\nMaldives\\nMongolia\\nMyanmar\\nNepal\\nNorth Korea\\nOman\\nPakistan\\nPalestine\\nPhilippines\\nQatar\\nRussia1\\nSaudi Arabia\\nSingapore\\nSri Lanka\\nSouth Korea\\nSyria\\nTajikistan\\nThailand\\nTurkey\\nTurkmenistan\\nUnited Arab Emirates\\nUzbekistan\\nVietnam\\nYemen',\n",
       " 'Abkhazia1\\nNagorno-Karabakh1\\nNorthern Cyprus1\\nSouth Ossetia1\\nTaiwan',\n",
       " 'Afghanistan\\nChina\\nIran\\nLaos\\nMyanmar\\nNorth Korea\\nTurkmenistan\\nVietnam',\n",
       " 'ISNI\\nVIAF',\n",
       " 'Germany\\nIsrael\\nUnited States\\nJapan',\n",
       " 'Government of South KoreaPresidents of South Korea1948 establishments in South Korea',\n",
       " 'Pages using the EasyTimeline extensionCS1 Chinese-language sources (zh)CS1 Korean-language sources (ko)Articles with short descriptionShort description matches WikidataUse dmy dates from September 2016Articles containing Korean-language textOfficial website different in Wikidata and WikipediaArticles with Korean-language sources (ko)Commons link is on WikidataArticles with ISNI identifiersArticles with VIAF identifiersArticles with GND identifiersArticles with J9U identifiersArticles with LCCN identifiersArticles with NDL identifiers',\n",
       " 'This page was last edited on 3 July 2023, at 19:01\\xa0(UTC).\\nText is available under the Creative Commons Attribution-ShareAlike License 4.0;\\nadditional terms may apply.  By using this site, you agree to the Terms of Use and Privacy Policy. Wikipedia® is a registered trademark of the Wikimedia Foundation, Inc., a non-profit organization.',\n",
       " 'Privacy policy\\nAbout Wikipedia\\nDisclaimers\\nContact Wikipedia\\nCode of Conduct\\nMobile view\\nDevelopers\\nStatistics\\nCookie statement',\n",
       " '']"
      ]
     },
     "execution_count": 4,
     "metadata": {},
     "output_type": "execute_result"
    }
   ],
   "source": [
    "page"
   ]
  },
  {
   "cell_type": "markdown",
   "id": "00500a63",
   "metadata": {},
   "source": [
    "### Clean `page` to `paragraphs`"
   ]
  },
  {
   "cell_type": "code",
   "execution_count": 5,
   "id": "900845ea",
   "metadata": {},
   "outputs": [
    {
     "name": "stdout",
     "output_type": "stream",
     "text": [
      "We have [358] paragraphs.\n"
     ]
    }
   ],
   "source": [
    "def clean_str(p):\n",
    "    return p.encode().decode(\"unicode-escape\").encode(\"latin1\").decode(\"utf-8\")\n",
    "page_clean = \"\"\n",
    "for p in page:\n",
    "    page_clean += clean_str(p)\n",
    "    if not p.endswith('\\n'):\n",
    "        page_clean += '\\n'\n",
    "paragraphs = page_clean.split(\"\\n\")\n",
    "paragraphs = [p.strip() for p in paragraphs if p.strip()]\n",
    "print (\"We have [%d] paragraphs.\"%(len(paragraphs)))"
   ]
  },
  {
   "cell_type": "code",
   "execution_count": 6,
   "id": "20652bb1",
   "metadata": {
    "scrolled": true
   },
   "outputs": [
    {
     "data": {
      "text/plain": [
       "['The president of the Republic of Korea (Korean:\\xa0대한민국 대통령; RR:\\xa0Daehanmin-guk daetongnyeong), also known as the president of South Korea (Korean:\\xa0대통령), is the head of state and head of government of the Republic of Korea. The president leads the State Council, and is the chief of the executive branch of the national government as well as the commander-in-chief of the Republic of Korea Armed Forces.',\n",
       " 'The Constitution and the amended Presidential Election Act of 1987 provide for election of the president by direct, secret ballot, ending sixteen years of indirect presidential elections under the preceding two authoritarian governments. The president is directly elected to a five-year term, with no possibility of re-election.[2] If a presidential vacancy should occur, a successor must be elected within sixty days, during which time presidential duties are to be performed by the prime minister or other senior cabinet members in the order of priority as determined by law. The president is exempt from criminal liability (except for insurrection or treason).',\n",
       " \"The current president, Yoon Suk Yeol, a former prosecutor general and member of the conservative People Power Party, assumed office on 10 May 2022,[3][4] after defeating the Democratic Party's nominee Lee Jae-myung with a narrow 48.5% plurality in the 2022 South Korean presidential election.[5]\",\n",
       " \"Prior to the establishment of the First Republic in 1948, the Provisional Government of the Republic of Korea established in Shanghai in September 1919 as the continuation of several governments proclaimed in the aftermath of March 1st Movement earlier that year coordinated Korean people's resistance against the Japanese occupation. The legitimacy of the Provisional Government has been recognized and succeeded by South Korea in the latter's original Constitution of 1948 and the current Constitution of 1988.\",\n",
       " 'The presidential term has been set at five years since 1988. It was previously set at four years from 1948 to 1972, six years from 1972 to 1981, and seven years from 1981 to 1988. Since 1981, the president has been barred from re-election.',\n",
       " 'Chapter 3 of the South Korean constitution states the duties and the powers of the president.',\n",
       " 'The president is required to:',\n",
       " 'Also, the president is given the powers:',\n",
       " 'If the National Assembly votes against a presidential decision, it will be declared void immediately.',\n",
       " 'The president may refer important policy matters to a national referendum, declare war, conclude peace and other treaties, appoint senior public officials, and grant amnesty (with the concurrence of the National Assembly). In times of serious internal or external turmoil or threat, or economic or financial crises, the president may assume emergency powers \"for the maintenance of national security or public peace and order.\" Emergency measures may be taken only when the National Assembly is not in session and when there is no time for it to convene. The measures are limited to the \"minimum necessary.\"',\n",
       " 'The 1987 Constitution removed the 1980 Constitution\\'s explicit provisions that empowered the government to temporarily suspend the freedoms and rights of the people. However, the president is permitted to take other measures that could amend or abolish existing laws for the duration of a crisis. It is unclear whether such emergency measures could temporarily suspend portions of the Constitution itself. Emergency measures must be referred to the National Assembly for concurrence. If not endorsed by the assembly, the emergency measures can be revoked; any laws that had been overridden by presidential order regain their original effect. In this respect, the power of the legislature is more vigorously asserted than in cases of ratification of treaties or declarations of war, in which the Constitution simply states that the National Assembly \"has the right to consent\" to the president\\'s actions. In a change from the 1980 Constitution, the 1987 Constitution stated that the president is not permitted to dissolve the National Assembly.',\n",
       " 'The presidential election rules are defined by the South Korean Constitution and the Public Official Election Act. The president is elected by direct popular vote, conducted using first-past-the-post.',\n",
       " 'Breakdown of votes by region for candidates with at least 1% of the total votes.',\n",
       " 'Breakdown of votes by region for candidates with less than 1% of the total votes.',\n",
       " 'The president is assisted by the staff of the Presidential Secretariat, headed by a cabinet-rank secretary general. Apart from the State Council, or cabinet, the chief executive relies on several constitutional organs.',\n",
       " 'These constitutional organs included the National Security Council, which provided advice concerning the foreign, military, and domestic policies bearing on national security. Chaired by the president, the council in 1990 had as its statutory members the prime minister, the deputy prime minister, the ministers for foreign affairs, home affairs, finance, and national defense, the director of the Agency for National Security Planning (ANSP) which was known as the Korean Central Intelligence Agency (KCIA) until December 1980, and others designated by the president. Another important body is the Peaceful Unification Advisory Council, inaugurated in June 1981 under the chairmanship of the president. From its inception, this body had no policy role, but rather appeared to serve as a government sounding board and as a means to disburse political rewards by providing large numbers of dignitaries and others with titles and opportunities to meet periodically with the president and other senior officials.',\n",
       " 'The president also was assisted in 1990 by the Audit and Inspection Board. In addition to auditing the accounts of all public institutions, the board scrutinized the administrative performance of government agencies and public officials. Its findings were reported to the president and the National Assembly, which itself had broad powers to inspect the work of the bureaucracy under the provisions of the Constitution. Board members were appointed by the president.',\n",
       " 'One controversial constitutional organ was the Advisory Council of Elder Statesmen, which replaced a smaller body in February 1988, just before Roh Tae Woo was sworn in as president. This body was supposed to be chaired by the immediate former president; its expansion to eighty members, broadened functions, and elevation to cabinet rank made it appear to have been designed, as one Seoul newspaper said, to \"preserve the status and position of a certain individual.\" The government announced plans to reduce the size and functions of this body immediately after Roh\\'s inauguration. Public suspicions that the council might provide former President Chun with a power base within the Sixth Republic were rendered moot when Chun withdrew to an isolated Buddhist temple in self-imposed exile in November 1988.',\n",
       " 'The procedure for impeachment is set out in the 10th Constitution of South Korea in 1987. According to Article 65 Clause 1, if the President, Prime Minister, or other state council members violate the Constitution or other laws of official duty, the National Assembly can impeach them.',\n",
       " 'Clause 2 states the impeachment bill must be proposed by one third and approved by a majority of members of the National Assembly for passage. In the case of the President, the motion must be proposed by a majority and approved by two thirds or more of the total members of the National Assembly, meaning that 200 of 300 members of the parliament must approve the bill. This article also states that any person against whom a motion for impeachment has been passed shall be suspended from exercising power until the impeachment has been adjudicated, and a decision on impeachment shall not extend further than removal from public office. However, impeachment shall not exempt the person impeached from civil or criminal liability for such violations.[7]',\n",
       " 'By the Constitutional Court Act, the Constitutional Court must make a final decision within 180 days after it receives any case for adjudication, including impeachment cases. If the respondent has already left office before the pronouncement of the decision, the case is dismissed.[8]',\n",
       " 'Two presidents have been impeached since the establishing of the Republic of Korea in 1948. Roh Moo-hyun in 2004 was impeached by the National Assembly, but the impeachment was overturned by the Constitutional Court. Park Geun-hye in 2016 was impeached by the National Assembly, and the impeachment was confirmed by the Constitutional Court on March 10, 2017.[9][10]',\n",
       " 'As of 2021, the president receives a salary of ₩240,648,000[1] along with an undisclosed expense account to cover travel, goods and services while in office.',\n",
       " 'In addition, the presidency of the republic maintains the Chongri Gonggwan (\"Official Residence of the Prime Minister\") and the Prime Ministers Office in Seoul. The Chongri Gonggwan is the Prime Minister\\'s official residence and official workplace. The Prime Minister is allowed use of all other official government offices and residences.',\n",
       " 'The president also has many regional offices especially in the major cities ready to receive the president at any time. Although not residences, they are owned by the national government and are used when the president is in the region or city.',\n",
       " 'For ground travel the president uses a highly modified Hyundai Nexo SUV to serve as the presidential state vehicle.[11] For air travel the president uses a highly modified plane which is a military version of the Boeing 747-400 with the call sign Code One and a highly modified helicopter which is a military version of the Sikorsky S-92 that serves as the presidential helicopter.',\n",
       " 'All former presidents receive a lifelong pension and Presidential Security Service detail. Unlike the Prime Minister, a former president cannot decline PSS protection. Except Chun Doo-hwan and Roh Tae-woo,[12] all former presidents are given a state funeral and a presidential library as a memorial. In recent years, South Korean presidents tend to have controversial post-presidencies; four of the last six have served time in prison.[13][14][15]',\n",
       " 'Impeached presidents are stripped of their post-presidential benefits such as pension, free medical services, state funding for post-retirement offices, personal assistants and a chauffeur, and right to burial at the Seoul National Cemetery after death. However, such individuals are still entitled to retain security protection under the Presidential Security Act.[16]',\n",
       " 'The Act on the Establishment and Management of National Cemeteries states that a deceased president can be buried in a national cemetery, but the Act also bans former presidents who were convicted of a crime after leaving office from being laid to rest there.[17] This means that the living former presidents Park Geun-hye and Lee Myung-bak and the deceased Roh Moo-hyun, Roh Tae-woo and Chun Doo-hwan are not allowed to be buried in a national cemetery.',\n",
       " \"Article 71 of the Constitution of South Korea states, 'In the event of the president not being able to discharge the duties of his/her office, the Prime Minister and ministers in line of the order of succession shall be the acting president.' Article 68 of the Constitution requires the acting president to hold new elections within 60 days.[18]\",\n",
       " 'According to article 12, section 2 and article 22, section 1 of the Government Organization Act, order of succession follows:',\n",
       " 'Main pageContentsCurrent eventsRandom articleAbout WikipediaContact usDonate',\n",
       " 'HelpLearn to editCommunity portalRecent changesUpload file',\n",
       " 'Create accountLog in',\n",
       " 'Create account Log in',\n",
       " 'ContributionsTalk',\n",
       " '(Top)',\n",
       " '1History',\n",
       " '2Powers and duties of the president',\n",
       " '3Election',\n",
       " 'Toggle Election subsection',\n",
       " '3.1Latest election',\n",
       " '3.2By region',\n",
       " '3.2.1Major candidates',\n",
       " '3.2.2Minor candidates',\n",
       " '4Related constitutional organs',\n",
       " '5Removal',\n",
       " '6Compensation and privileges of office',\n",
       " '7Post-presidency',\n",
       " '8Order of succession',\n",
       " '9Timeline of presidents',\n",
       " '10See also',\n",
       " '11References',\n",
       " '12External links',\n",
       " '3.1Latest election',\n",
       " '3.2By region',\n",
       " '3.2.1Major candidates',\n",
       " '3.2.2Minor candidates',\n",
       " '3.2.1Major candidates',\n",
       " '3.2.2Minor candidates',\n",
       " 'العربيةAragonésБеларускаяБългарскиBosanskiCatalàČeštinaDanskDeutschΕλληνικάEsperantoفارسیFrançaisGaeilgeGalego客家語/Hak-kâ-ngî한국어Հայերենहिन्दीBahasa IndonesiaעבריתქართულიҚазақшаLietuviųمصرىBahasa MelayuМонголမြန်မာဘာသာ日本語پښتوPolskiPortuguêsSimple EnglishSlovenščinaکوردیSrpskohrvatski / српскохрватскиSuomiไทยTürkçeУкраїнськаVènetoTiếng Việt文言粵語中文',\n",
       " 'Article',\n",
       " 'Talk',\n",
       " 'Read',\n",
       " 'Edit',\n",
       " 'View history',\n",
       " 'ReadEditView history',\n",
       " 'What links hereRelated changesUpload fileSpecial pagesPermanent linkPage informationCite this pageWikidata item',\n",
       " 'Download as PDFPrintable version',\n",
       " 'Wikimedia Commons',\n",
       " 'Mr. President (informal)',\n",
       " 'His Excellency (diplomatic)',\n",
       " 'Head of stateHead of government',\n",
       " 'State CouncilNational Security CouncilNational Unification Advisory Council',\n",
       " 'Constitution of South Korea',\n",
       " 'Law',\n",
       " 'Human rights',\n",
       " 'National Assembly',\n",
       " 'Speaker Kim Jin-pyo (I)',\n",
       " 'Deputy Speaker Kim Young-joo (D)',\n",
       " 'Deputy Speaker Chung Jin-suk (P)',\n",
       " 'Members',\n",
       " 'President of South Korea',\n",
       " 'Yoon Suk-yeol (P)',\n",
       " 'Prime Minister of South Korea',\n",
       " 'Han Duck-soo (I)',\n",
       " 'State Council',\n",
       " 'Administrative divisions',\n",
       " 'Supreme Court of Korea',\n",
       " 'Chief Justice Kim Myeong-soo',\n",
       " 'Constitutional Court of Korea',\n",
       " 'President Yoo Nam-seok',\n",
       " 'Presidential elections',\n",
       " 'Legislative elections',\n",
       " 'Local elections',\n",
       " 'By-elections',\n",
       " 'Democratic',\n",
       " 'PPP',\n",
       " 'Justice',\n",
       " 'Basic Income Party',\n",
       " 'Transition Korea',\n",
       " 'Reunification',\n",
       " 'Sunshine Policy',\n",
       " 'Other countries',\n",
       " 'vte',\n",
       " 'uphold the Constitution',\n",
       " 'preserve the safety and homeland of South Korea',\n",
       " 'work for the peaceful reunification of Korea, typically act as the Chairperson of the Peaceful Unification Advisory Council',\n",
       " 'as the head of the executive branch of government',\n",
       " 'as the commander-in-chief of the South Korean military',\n",
       " 'to declare war',\n",
       " 'to hold referendums regarding issues of national importance',\n",
       " 'to issue executive orders',\n",
       " 'to issue medals in honor of service for the nation',\n",
       " 'to issue pardons',\n",
       " 'to declare a state of emergency suspending all laws or enacting a state of martial law',\n",
       " 'to veto bills (subject to a two thirds majority veto override by the National Assembly)[6]',\n",
       " 'Argentina',\n",
       " 'Austria',\n",
       " 'Brazil',\n",
       " 'Colombia',\n",
       " \"People's Republic of China\",\n",
       " 'Republic of China',\n",
       " 'DR Congo',\n",
       " 'Finland',\n",
       " 'France',\n",
       " 'Germany',\n",
       " 'India',\n",
       " 'Indonesia',\n",
       " 'Israel',\n",
       " 'Italy',\n",
       " 'Ireland',\n",
       " 'Republic of Korea',\n",
       " 'Mexico',\n",
       " 'Pakistan',\n",
       " 'Peru',\n",
       " 'Philippines',\n",
       " 'Poland',\n",
       " 'Romania',\n",
       " 'Sri Lanka',\n",
       " 'United States',\n",
       " 'Uruguay',\n",
       " 'Vietnam',\n",
       " 'vte',\n",
       " 'Biography portalSouth Korea portal',\n",
       " 'List of presidents of South Korea',\n",
       " 'List of presidents of South Korea by time in office',\n",
       " 'Presidential elections in South Korea',\n",
       " 'List of international trips made by presidents of South Korea',\n",
       " 'List of official vehicles of the president of South Korea',\n",
       " 'Transportation of the president of South Korea',\n",
       " 'First Lady of South Korea',\n",
       " 'Vice President of South Korea',\n",
       " 'List of leaders of North Korea',\n",
       " 'U.S. Library of Congress Country Studies',\n",
       " 'Official website (in English)',\n",
       " 'Official website (in Korean)',\n",
       " 'vte',\n",
       " 'vte',\n",
       " 'Syngman Rhee',\n",
       " 'Yi Dong-nyeong',\n",
       " 'Park Eun-sik',\n",
       " 'Yi Yu-pil',\n",
       " 'Yi Sang-ryong',\n",
       " 'Yang Gi-tak',\n",
       " 'Yi Dong-nyeong',\n",
       " 'Ahn Changho',\n",
       " 'Yi Dong-nyeong',\n",
       " 'Hong Jin',\n",
       " 'Kim Gu',\n",
       " 'Yi Dong-nyeong',\n",
       " 'Song Byeong-jo',\n",
       " 'Yi Dong-nyeong',\n",
       " 'Kim Gu',\n",
       " 'Syngman Rhee',\n",
       " 'Kim Il Sung',\n",
       " 'Kim Jong Il',\n",
       " 'Kim Jong Un',\n",
       " 'Kim Tu-bong',\n",
       " 'Choe Yong-gon',\n",
       " 'Kim Il Sung',\n",
       " 'Yang Hyong-sop',\n",
       " 'Kim Yong-nam',\n",
       " 'Kim Jong Un',\n",
       " 'Kim Il Sung',\n",
       " 'Kim Il',\n",
       " 'Pak Song-chol',\n",
       " 'Ri Jong-ok',\n",
       " 'Kang Song-san',\n",
       " 'Ri Kun-mo',\n",
       " 'Yon Hyong-muk',\n",
       " 'Kang Song-san',\n",
       " 'Hong Song-nam',\n",
       " 'Pak Pong-ju',\n",
       " 'Kim Yong-il',\n",
       " 'Choe Yong-rim',\n",
       " 'Pak Pong-ju',\n",
       " 'Kim Jae-ryong',\n",
       " 'Kim Tok-hun',\n",
       " 'Syngman Rhee',\n",
       " 'Heo Jeong',\n",
       " 'Kwak Sang-hoon',\n",
       " 'Baek Nak-jun',\n",
       " 'Yun Posun(Jang Myeon)',\n",
       " 'Park Chung Hee',\n",
       " 'Choi Kyu-hah',\n",
       " 'Pak Choong-hoon',\n",
       " 'Chun Doo-hwan',\n",
       " 'Roh Tae-woo',\n",
       " 'Kim Young-sam',\n",
       " 'Kim Dae-jung',\n",
       " 'Roh Moo-hyun',\n",
       " 'Goh Kun',\n",
       " 'Roh Moo-hyun',\n",
       " 'Lee Myung-bak',\n",
       " 'Park Geun-hye',\n",
       " 'Hwang Kyo-ahn',\n",
       " 'Moon Jae-in',\n",
       " 'Yoon Suk-yeol',\n",
       " 'vte',\n",
       " 'Afghanistan',\n",
       " 'Armenia1',\n",
       " 'Azerbaijan1',\n",
       " 'Bahrain',\n",
       " 'Bangladesh',\n",
       " 'Bhutan',\n",
       " 'Brunei',\n",
       " 'Cambodia',\n",
       " 'China',\n",
       " 'Cyprus',\n",
       " 'East Timor',\n",
       " 'Egypt2',\n",
       " 'Georgia1',\n",
       " 'India',\n",
       " 'Indonesia',\n",
       " 'Iran',\n",
       " 'Iraq',\n",
       " 'Israel',\n",
       " 'Japan',\n",
       " 'Jordan',\n",
       " 'Kazakhstan',\n",
       " 'Kuwait',\n",
       " 'Kyrgyzstan',\n",
       " 'Laos',\n",
       " 'Lebanon',\n",
       " 'Malaysia',\n",
       " 'Maldives',\n",
       " 'Mongolia',\n",
       " 'Myanmar',\n",
       " 'Nepal',\n",
       " 'North Korea',\n",
       " 'Oman',\n",
       " 'Pakistan',\n",
       " 'Palestine',\n",
       " 'Philippines',\n",
       " 'Qatar',\n",
       " 'Russia1',\n",
       " 'Saudi Arabia',\n",
       " 'Singapore',\n",
       " 'Sri Lanka',\n",
       " 'South Korea',\n",
       " 'Syria',\n",
       " 'Tajikistan',\n",
       " 'Thailand',\n",
       " 'Turkey',\n",
       " 'Turkmenistan',\n",
       " 'United Arab Emirates',\n",
       " 'Uzbekistan',\n",
       " 'Vietnam',\n",
       " 'Yemen',\n",
       " 'Abkhazia1',\n",
       " 'Nagorno-Karabakh1',\n",
       " 'Northern Cyprus1',\n",
       " 'South Ossetia1',\n",
       " 'Taiwan',\n",
       " 'Afghanistan',\n",
       " 'Armenia1',\n",
       " 'Azerbaijan1',\n",
       " 'Bahrain',\n",
       " 'Bangladesh',\n",
       " 'Bhutan',\n",
       " 'Brunei',\n",
       " 'Cambodia',\n",
       " 'China',\n",
       " 'Cyprus',\n",
       " 'East Timor',\n",
       " 'Egypt2',\n",
       " 'Georgia1',\n",
       " 'India',\n",
       " 'Indonesia',\n",
       " 'Iran',\n",
       " 'Iraq',\n",
       " 'Israel',\n",
       " 'Japan',\n",
       " 'Jordan',\n",
       " 'Kazakhstan',\n",
       " 'Kuwait',\n",
       " 'Kyrgyzstan',\n",
       " 'Laos',\n",
       " 'Lebanon',\n",
       " 'Malaysia',\n",
       " 'Maldives',\n",
       " 'Mongolia',\n",
       " 'Myanmar',\n",
       " 'Nepal',\n",
       " 'North Korea',\n",
       " 'Oman',\n",
       " 'Pakistan',\n",
       " 'Palestine',\n",
       " 'Philippines',\n",
       " 'Qatar',\n",
       " 'Russia1',\n",
       " 'Saudi Arabia',\n",
       " 'Singapore',\n",
       " 'Sri Lanka',\n",
       " 'South Korea',\n",
       " 'Syria',\n",
       " 'Tajikistan',\n",
       " 'Thailand',\n",
       " 'Turkey',\n",
       " 'Turkmenistan',\n",
       " 'United Arab Emirates',\n",
       " 'Uzbekistan',\n",
       " 'Vietnam',\n",
       " 'Yemen',\n",
       " 'Abkhazia1',\n",
       " 'Nagorno-Karabakh1',\n",
       " 'Northern Cyprus1',\n",
       " 'South Ossetia1',\n",
       " 'Taiwan',\n",
       " 'Afghanistan',\n",
       " 'China',\n",
       " 'Iran',\n",
       " 'Laos',\n",
       " 'Myanmar',\n",
       " 'North Korea',\n",
       " 'Turkmenistan',\n",
       " 'Vietnam',\n",
       " 'ISNI',\n",
       " 'VIAF',\n",
       " 'Germany',\n",
       " 'Israel',\n",
       " 'United States',\n",
       " 'Japan',\n",
       " 'Government of South KoreaPresidents of South Korea1948 establishments in South Korea',\n",
       " 'Pages using the EasyTimeline extensionCS1 Chinese-language sources (zh)CS1 Korean-language sources (ko)Articles with short descriptionShort description matches WikidataUse dmy dates from September 2016Articles containing Korean-language textOfficial website different in Wikidata and WikipediaArticles with Korean-language sources (ko)Commons link is on WikidataArticles with ISNI identifiersArticles with VIAF identifiersArticles with GND identifiersArticles with J9U identifiersArticles with LCCN identifiersArticles with NDL identifiers',\n",
       " 'This page was last edited on 3 July 2023, at 19:01\\xa0(UTC).',\n",
       " 'Text is available under the Creative Commons Attribution-ShareAlike License 4.0;',\n",
       " 'additional terms may apply.  By using this site, you agree to the Terms of Use and Privacy Policy. Wikipedia® is a registered trademark of the Wikimedia Foundation, Inc., a non-profit organization.',\n",
       " 'Privacy policy',\n",
       " 'About Wikipedia',\n",
       " 'Disclaimers',\n",
       " 'Contact Wikipedia',\n",
       " 'Code of Conduct',\n",
       " 'Mobile view',\n",
       " 'Developers',\n",
       " 'Statistics',\n",
       " 'Cookie statement']"
      ]
     },
     "execution_count": 6,
     "metadata": {},
     "output_type": "execute_result"
    }
   ],
   "source": [
    "paragraphs"
   ]
  },
  {
   "cell_type": "code",
   "execution_count": 7,
   "id": "213921df",
   "metadata": {},
   "outputs": [
    {
     "name": "stdout",
     "output_type": "stream",
     "text": [
      "Now we have [31] filtered paragraphs and [8] returning paragraphs where k:[5] and m:[3]\n"
     ]
    }
   ],
   "source": [
    "min_char_len = 100 # minimum number of characters in a paragraph\n",
    "first_k      = 5   # we want 'first_k' paragraphs to be included\n",
    "top_m_excluding_first_k = 3 # we want to get 'top_m' exluding 'first_k' making the total 'k+m'\n",
    "paragraphs_filtered = [p for p in paragraphs if len(p) >= min_char_len]\n",
    "paragraphs_first_k  = paragraphs_filtered[:first_k]\n",
    "praagraphs_remain   = paragraphs_filtered[first_k:]\n",
    "paragraphs_sorted   = sorted(praagraphs_remain,key=len,reverse=True)\n",
    "paragraphs_top_m    = paragraphs_sorted[:top_m_excluding_first_k]\n",
    "paragraphs_return   = paragraphs_first_k + paragraphs_top_m\n",
    "print (\"Now we have [%d] filtered paragraphs and [%d] returning paragraphs where k:[%d] and m:[%d]\"%\n",
    "       (len(paragraphs_filtered),len(paragraphs_return),first_k,top_m_excluding_first_k))"
   ]
  },
  {
   "cell_type": "code",
   "execution_count": 8,
   "id": "f6e68456",
   "metadata": {
    "scrolled": true
   },
   "outputs": [
    {
     "name": "stdout",
     "output_type": "stream",
     "text": [
      "[0/8]\n",
      "The president of the Republic of Korea (Korean: 대한민국 대통령; RR: Daehanmin-guk daetongnyeong), also known as the president of South Korea (Korean: 대통령), is the head of state and head of government of the Republic of Korea. The president leads the State Council, and is the chief of the executive branch of the national government as well as the commander-in-chief of the Republic of Korea Armed Forces.\n",
      "[1/8]\n",
      "The Constitution and the amended Presidential Election Act of 1987 provide for election of the president by direct, secret ballot, ending sixteen years of indirect presidential elections under the preceding two authoritarian governments. The president is directly elected to a five-year term, with no possibility of re-election.[2] If a presidential vacancy should occur, a successor must be elected within sixty days, during which time presidential duties are to be performed by the prime minister or other senior cabinet members in the order of priority as determined by law. The president is exempt from criminal liability (except for insurrection or treason).\n",
      "[2/8]\n",
      "The current president, Yoon Suk Yeol, a former prosecutor general and member of the conservative People Power Party, assumed office on 10 May 2022,[3][4] after defeating the Democratic Party's nominee Lee Jae-myung with a narrow 48.5% plurality in the 2022 South Korean presidential election.[5]\n",
      "[3/8]\n",
      "Prior to the establishment of the First Republic in 1948, the Provisional Government of the Republic of Korea established in Shanghai in September 1919 as the continuation of several governments proclaimed in the aftermath of March 1st Movement earlier that year coordinated Korean people's resistance against the Japanese occupation. The legitimacy of the Provisional Government has been recognized and succeeded by South Korea in the latter's original Constitution of 1948 and the current Constitution of 1988.\n",
      "[4/8]\n",
      "The presidential term has been set at five years since 1988. It was previously set at four years from 1948 to 1972, six years from 1972 to 1981, and seven years from 1981 to 1988. Since 1981, the president has been barred from re-election.\n",
      "[5/8]\n",
      "The 1987 Constitution removed the 1980 Constitution's explicit provisions that empowered the government to temporarily suspend the freedoms and rights of the people. However, the president is permitted to take other measures that could amend or abolish existing laws for the duration of a crisis. It is unclear whether such emergency measures could temporarily suspend portions of the Constitution itself. Emergency measures must be referred to the National Assembly for concurrence. If not endorsed by the assembly, the emergency measures can be revoked; any laws that had been overridden by presidential order regain their original effect. In this respect, the power of the legislature is more vigorously asserted than in cases of ratification of treaties or declarations of war, in which the Constitution simply states that the National Assembly \"has the right to consent\" to the president's actions. In a change from the 1980 Constitution, the 1987 Constitution stated that the president is not permitted to dissolve the National Assembly.\n",
      "[6/8]\n",
      "These constitutional organs included the National Security Council, which provided advice concerning the foreign, military, and domestic policies bearing on national security. Chaired by the president, the council in 1990 had as its statutory members the prime minister, the deputy prime minister, the ministers for foreign affairs, home affairs, finance, and national defense, the director of the Agency for National Security Planning (ANSP) which was known as the Korean Central Intelligence Agency (KCIA) until December 1980, and others designated by the president. Another important body is the Peaceful Unification Advisory Council, inaugurated in June 1981 under the chairmanship of the president. From its inception, this body had no policy role, but rather appeared to serve as a government sounding board and as a means to disburse political rewards by providing large numbers of dignitaries and others with titles and opportunities to meet periodically with the president and other senior officials.\n",
      "[7/8]\n",
      "One controversial constitutional organ was the Advisory Council of Elder Statesmen, which replaced a smaller body in February 1988, just before Roh Tae Woo was sworn in as president. This body was supposed to be chaired by the immediate former president; its expansion to eighty members, broadened functions, and elevation to cabinet rank made it appear to have been designed, as one Seoul newspaper said, to \"preserve the status and position of a certain individual.\" The government announced plans to reduce the size and functions of this body immediately after Roh's inauguration. Public suspicions that the council might provide former President Chun with a power base within the Sixth Republic were rendered moot when Chun withdrew to an isolated Buddhist temple in self-imposed exile in November 1988.\n"
     ]
    }
   ],
   "source": [
    "for p_idx,p in enumerate(paragraphs_return):\n",
    "    print (\"[%d/%d]\\n%s\"%(p_idx,len(paragraphs_return),p))"
   ]
  },
  {
   "cell_type": "markdown",
   "id": "76dbadb9",
   "metadata": {},
   "source": [
    "### Summarize each paragraph using `GPT`"
   ]
  },
  {
   "cell_type": "code",
   "execution_count": 9,
   "id": "a74cf387",
   "metadata": {},
   "outputs": [
    {
     "name": "stdout",
     "output_type": "stream",
     "text": [
      "Ready.\n"
     ]
    }
   ],
   "source": [
    "import openai\n",
    "from IPython.display import Markdown,display\n",
    "def printmd(string):\n",
    "    display(Markdown(string))\n",
    "class GPTchatClass():\n",
    "    def __init__(self,\n",
    "                 gpt_model = 'gpt-4',\n",
    "                 role_msg  = 'Your are a helpful assistant.',\n",
    "                 VERBOSE   = True\n",
    "                ):\n",
    "        self.gpt_model     = gpt_model\n",
    "        self.messages      = [{'role':'system','content':f'{role_msg}'}]\n",
    "        self.init_messages = [{'role':'system','content':f'{role_msg}'}]\n",
    "        self.VERBOSE       = VERBOSE\n",
    "        self.response      = None\n",
    "        if self.VERBOSE:\n",
    "            print (\"Chat agent using [%s] initialized with the follow role:[%s]\"%\n",
    "                   (self.gpt_model,role_msg))\n",
    "    \n",
    "    def _add_message(self,role='assistant',content=''):\n",
    "        \"\"\"\n",
    "            role: 'assistant' / 'user'\n",
    "        \"\"\"\n",
    "        self.messages.append({'role':role, 'content':content})\n",
    "        \n",
    "    def _get_response_content(self):\n",
    "        if self.response:\n",
    "            return self.response['choices'][0]['message']['content']\n",
    "        else:\n",
    "            return None\n",
    "        \n",
    "    def _get_response_status(self):\n",
    "        if self.response:\n",
    "            return self.response['choices'][0]['message']['finish_reason']\n",
    "        else:\n",
    "            return None\n",
    "    \n",
    "    def chat(self,user_msg='hi',\n",
    "             PRINT_USER_MSG=True,PRINT_GPT_OUTPUT=True,\n",
    "             RESET_CHAT=False,RETURN_RESPONSE=True):\n",
    "        self._add_message(role='user',content=user_msg)\n",
    "        self.response = openai.ChatCompletion.create(\n",
    "            model    = self.gpt_model,\n",
    "            messages = self.messages\n",
    "        )\n",
    "        # Backup response for continous chatting\n",
    "        self._add_message(role='assistant',content=self._get_response_content())\n",
    "        if PRINT_USER_MSG:\n",
    "            print(\"[USER_MSG]\")\n",
    "            printmd(user_msg)\n",
    "        if PRINT_GPT_OUTPUT:\n",
    "            print(\"[GPT_OUTPUT]\")\n",
    "            printmd(self._get_response_content())\n",
    "        # Reset\n",
    "        if RESET_CHAT:\n",
    "            self.messages = self.init_messages\n",
    "        # Return\n",
    "        if RETURN_RESPONSE:\n",
    "            return self._get_response_content()\n",
    "print (\"Ready.\")"
   ]
  },
  {
   "cell_type": "code",
   "execution_count": 10,
   "id": "b24fcd04",
   "metadata": {},
   "outputs": [
    {
     "name": "stdout",
     "output_type": "stream",
     "text": [
      "Chat agent using [gpt-4] initialized with the follow role:[Your are a helpful assistant.]\n"
     ]
    }
   ],
   "source": [
    "key_path = '../key/rilab_key.txt'\n",
    "with open(key_path, 'r') as f: OPENAI_API_KEY = f.read()\n",
    "openai.api_key = OPENAI_API_KEY\n",
    "GPT = GPTchatClass(gpt_model='gpt-4',role_msg  = 'Your are a helpful assistant.')"
   ]
  },
  {
   "cell_type": "markdown",
   "id": "d3b3b41b",
   "metadata": {},
   "source": [
    "### Summarize each paragraph into one sentence using `GPT`"
   ]
  },
  {
   "cell_type": "code",
   "execution_count": 11,
   "id": "0a1f20bf",
   "metadata": {},
   "outputs": [
    {
     "name": "stdout",
     "output_type": "stream",
     "text": [
      "[0/8]\n",
      "The president of the Republic of Korea (Korean: 대한민국 대통령; RR: Daehanmin-guk daetongnyeong), also known as the president of South Korea (Korean: 대통령), is the head of state and head of government of the Republic of Korea. The president leads the State Council, and is the chief of the executive branch of the national government as well as the commander-in-chief of the Republic of Korea Armed Forces.\n"
     ]
    },
    {
     "data": {
      "text/markdown": [
       "The president of the Republic of Korea, also known as the president of South Korea, is the head of state and government, leading the State Council, overseeing the executive branch of the national government, and also functioning as the commander-in-chief of the Republic of Korea Armed Forces."
      ],
      "text/plain": [
       "<IPython.core.display.Markdown object>"
      ]
     },
     "metadata": {},
     "output_type": "display_data"
    },
    {
     "name": "stdout",
     "output_type": "stream",
     "text": [
      "[1/8]\n",
      "The Constitution and the amended Presidential Election Act of 1987 provide for election of the president by direct, secret ballot, ending sixteen years of indirect presidential elections under the preceding two authoritarian governments. The president is directly elected to a five-year term, with no possibility of re-election.[2] If a presidential vacancy should occur, a successor must be elected within sixty days, during which time presidential duties are to be performed by the prime minister or other senior cabinet members in the order of priority as determined by law. The president is exempt from criminal liability (except for insurrection or treason).\n"
     ]
    },
    {
     "data": {
      "text/markdown": [
       "The Constitution and the amended Presidential Election Act of 1987 necessitate a direct, secret ballot election for the president who serves a non-renewable five-year term, with succession rules in case of a vacancy, and the president is immune to criminal charges unless for insurrection or treason."
      ],
      "text/plain": [
       "<IPython.core.display.Markdown object>"
      ]
     },
     "metadata": {},
     "output_type": "display_data"
    },
    {
     "name": "stdout",
     "output_type": "stream",
     "text": [
      "[2/8]\n",
      "The current president, Yoon Suk Yeol, a former prosecutor general and member of the conservative People Power Party, assumed office on 10 May 2022,[3][4] after defeating the Democratic Party's nominee Lee Jae-myung with a narrow 48.5% plurality in the 2022 South Korean presidential election.[5]\n"
     ]
    },
    {
     "data": {
      "text/markdown": [
       "The current South Korean president, Yoon Suk Yeol, a conservative People Power Party member and former prosecutor general, took office on May 10, 2022, defeating Democratic Party's nominee Lee Jae-myung in a narrow 48.5% plurality in the 2022 presidential election.\n"
      ],
      "text/plain": [
       "<IPython.core.display.Markdown object>"
      ]
     },
     "metadata": {},
     "output_type": "display_data"
    },
    {
     "name": "stdout",
     "output_type": "stream",
     "text": [
      "[3/8]\n",
      "Prior to the establishment of the First Republic in 1948, the Provisional Government of the Republic of Korea established in Shanghai in September 1919 as the continuation of several governments proclaimed in the aftermath of March 1st Movement earlier that year coordinated Korean people's resistance against the Japanese occupation. The legitimacy of the Provisional Government has been recognized and succeeded by South Korea in the latter's original Constitution of 1948 and the current Constitution of 1988.\n"
     ]
    },
    {
     "data": {
      "text/markdown": [
       "Before the First Republic in 1948, the Provisional Government of the Republic of Korea, set up in Shanghai in September 1919 following the March 1st Movement, led resistance against Japanese occupation, a government whose legitimacy was later recognized and succeeded by South Korea's original Constitution in 1948 and current Constitution in 1988."
      ],
      "text/plain": [
       "<IPython.core.display.Markdown object>"
      ]
     },
     "metadata": {},
     "output_type": "display_data"
    },
    {
     "name": "stdout",
     "output_type": "stream",
     "text": [
      "[4/8]\n",
      "The presidential term has been set at five years since 1988. It was previously set at four years from 1948 to 1972, six years from 1972 to 1981, and seven years from 1981 to 1988. Since 1981, the president has been barred from re-election.\n"
     ]
    },
    {
     "data": {
      "text/markdown": [
       "Since 1988, the presidential term has been set at five years, following varied term lengths from 1948 to 1988, and re-election has been prohibited for the president since 1981.\n"
      ],
      "text/plain": [
       "<IPython.core.display.Markdown object>"
      ]
     },
     "metadata": {},
     "output_type": "display_data"
    },
    {
     "name": "stdout",
     "output_type": "stream",
     "text": [
      "[5/8]\n",
      "The 1987 Constitution removed the 1980 Constitution's explicit provisions that empowered the government to temporarily suspend the freedoms and rights of the people. However, the president is permitted to take other measures that could amend or abolish existing laws for the duration of a crisis. It is unclear whether such emergency measures could temporarily suspend portions of the Constitution itself. Emergency measures must be referred to the National Assembly for concurrence. If not endorsed by the assembly, the emergency measures can be revoked; any laws that had been overridden by presidential order regain their original effect. In this respect, the power of the legislature is more vigorously asserted than in cases of ratification of treaties or declarations of war, in which the Constitution simply states that the National Assembly \"has the right to consent\" to the president's actions. In a change from the 1980 Constitution, the 1987 Constitution stated that the president is not permitted to dissolve the National Assembly.\n"
     ]
    },
    {
     "data": {
      "text/markdown": [
       "The 1987 Constitution removed provisions that allowed the government to suspend people's freedoms and rights, instead permitting the president to amend or abolish laws during a crisis, although it remains unclear if these powers extend to suspending parts of the Constitution itself; these changes must be approved by the National Assembly to remain in effect, with general legislative power getting emphasized more strongly than in treaty ratifications or declarations of war, meanwhile, unlike the 1980 Constitution, the 1987 version doesn't permit the president to dissolve the National Assembly.\n"
      ],
      "text/plain": [
       "<IPython.core.display.Markdown object>"
      ]
     },
     "metadata": {},
     "output_type": "display_data"
    },
    {
     "name": "stdout",
     "output_type": "stream",
     "text": [
      "[6/8]\n",
      "These constitutional organs included the National Security Council, which provided advice concerning the foreign, military, and domestic policies bearing on national security. Chaired by the president, the council in 1990 had as its statutory members the prime minister, the deputy prime minister, the ministers for foreign affairs, home affairs, finance, and national defense, the director of the Agency for National Security Planning (ANSP) which was known as the Korean Central Intelligence Agency (KCIA) until December 1980, and others designated by the president. Another important body is the Peaceful Unification Advisory Council, inaugurated in June 1981 under the chairmanship of the president. From its inception, this body had no policy role, but rather appeared to serve as a government sounding board and as a means to disburse political rewards by providing large numbers of dignitaries and others with titles and opportunities to meet periodically with the president and other senior officials.\n"
     ]
    },
    {
     "data": {
      "text/markdown": [
       "The National Security Council, which includes the president and key governmental members, advises on foreign, military, and domestic policies affecting national security, and the Peaceful Unification Advisory Council, established in June 1981 under the president's chairmanship, essentially functions as a sounding board for the government and an avenue to distribute political rewards, with no direct policy role."
      ],
      "text/plain": [
       "<IPython.core.display.Markdown object>"
      ]
     },
     "metadata": {},
     "output_type": "display_data"
    },
    {
     "name": "stdout",
     "output_type": "stream",
     "text": [
      "[7/8]\n",
      "One controversial constitutional organ was the Advisory Council of Elder Statesmen, which replaced a smaller body in February 1988, just before Roh Tae Woo was sworn in as president. This body was supposed to be chaired by the immediate former president; its expansion to eighty members, broadened functions, and elevation to cabinet rank made it appear to have been designed, as one Seoul newspaper said, to \"preserve the status and position of a certain individual.\" The government announced plans to reduce the size and functions of this body immediately after Roh's inauguration. Public suspicions that the council might provide former President Chun with a power base within the Sixth Republic were rendered moot when Chun withdrew to an isolated Buddhist temple in self-imposed exile in November 1988.\n"
     ]
    },
    {
     "data": {
      "text/markdown": [
       "The Advisory Council of Elder Statesmen, a controversial constitutional organ that was expanded in stature and function just before Roh Tae Woo's presidency, was suspected of being a power base for former President Chun, a concern that became insignificant when Chun chose self-imposed exile in a Buddhist temple in November 1988."
      ],
      "text/plain": [
       "<IPython.core.display.Markdown object>"
      ]
     },
     "metadata": {},
     "output_type": "display_data"
    }
   ],
   "source": [
    "for p_idx,p in enumerate(paragraphs_return):\n",
    "    print (\"[%d/%d]\\n%s\"%(p_idx,len(paragraphs_return),p))\n",
    "    user_msg = \"Could you summarize the following paragraph into one setence? \\n \"+p\n",
    "    response_content = GPT.chat(\n",
    "        user_msg=user_msg,PRINT_USER_MSG=False,PRINT_GPT_OUTPUT=False,\n",
    "        RESET_CHAT=True,RETURN_RESPONSE=True)\n",
    "    # Print summarized sentence with a markdown format\n",
    "    printmd(response_content)"
   ]
  },
  {
   "cell_type": "code",
   "execution_count": null,
   "id": "37201967",
   "metadata": {},
   "outputs": [],
   "source": []
  }
 ],
 "metadata": {
  "kernelspec": {
   "display_name": "Python 3 (ipykernel)",
   "language": "python",
   "name": "python3"
  },
  "language_info": {
   "codemirror_mode": {
    "name": "ipython",
    "version": 3
   },
   "file_extension": ".py",
   "mimetype": "text/x-python",
   "name": "python",
   "nbconvert_exporter": "python",
   "pygments_lexer": "ipython3",
   "version": "3.9.16"
  }
 },
 "nbformat": 4,
 "nbformat_minor": 5
}
