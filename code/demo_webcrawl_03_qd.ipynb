{
 "cells": [
  {
   "cell_type": "markdown",
   "id": "f4425de9",
   "metadata": {},
   "source": [
    "### Quality-Diversity (QD) in Webcrawl\n",
    "Given an `entity` to search, `GPT` first suggests query words for searching Wikipedia. Then, we crawl and summarize (with `GPT`) paragraphs of queried Wikipedia pages. \n",
    "We compute the pairwise distances between the summarized sentences using `BERT Score`. \n",
    "Finally, we evaluate the distance measures by examining the semantically closest sentences as well as subsampling using `Determinantal Point Processes`."
   ]
  },
  {
   "cell_type": "code",
   "execution_count": 1,
   "id": "8160b0f4",
   "metadata": {},
   "outputs": [
    {
     "name": "stdout",
     "output_type": "stream",
     "text": [
      "Ready.\n"
     ]
    }
   ],
   "source": [
    "import numpy as np\n",
    "import matplotlib.pyplot as plt\n",
    "import matplotlib.gridspec as gridspec\n",
    "from gpt_helper import set_openai_api_key_from_txt,GPTchatClass,printmd\n",
    "from wiki_helper import wiki_search\n",
    "from util import printmd,extract_quoted_words\n",
    "from bert_score import score\n",
    "np.set_printoptions(precision=2,suppress=True,linewidth=100)\n",
    "plt.rc('xtick',labelsize=6); plt.rc('ytick',labelsize=6)\n",
    "%matplotlib inline\n",
    "%config InlineBackend.figure_format='retina'\n",
    "print (\"Ready.\")"
   ]
  },
  {
   "cell_type": "markdown",
   "id": "14285574",
   "metadata": {},
   "source": [
    "### Set GPT Agent"
   ]
  },
  {
   "cell_type": "code",
   "execution_count": 2,
   "id": "4a5861fd",
   "metadata": {},
   "outputs": [
    {
     "name": "stdout",
     "output_type": "stream",
     "text": [
      "OpenAI API Key Ready from [../key/rilab_key.txt].\n",
      "Chat agent using [gpt-3.5-turbo] initialized with the follow role:[Your are a helpful assistant summarizing infromation and answering user queries.]\n"
     ]
    }
   ],
   "source": [
    "set_openai_api_key_from_txt(key_path='../key/rilab_key.txt')\n",
    "GPT = GPTchatClass(\n",
    "    gpt_model='gpt-3.5-turbo',\n",
    "    role_msg='Your are a helpful assistant summarizing infromation and answering user queries.')"
   ]
  },
  {
   "cell_type": "markdown",
   "id": "d35e9967",
   "metadata": {},
   "source": [
    "### Do some wiki crawl"
   ]
  },
  {
   "cell_type": "code",
   "execution_count": 3,
   "id": "b5730cee",
   "metadata": {},
   "outputs": [
    {
     "name": "stdout",
     "output_type": "stream",
     "text": [
      "entity:[Isaac Newton]\n"
     ]
    }
   ],
   "source": [
    "entity = \"Isaac Newton\"\n",
    "print (\"entity:[%s]\"%(entity))"
   ]
  },
  {
   "cell_type": "code",
   "execution_count": 4,
   "id": "09aebe83",
   "metadata": {},
   "outputs": [
    {
     "name": "stdout",
     "output_type": "stream",
     "text": [
      "[USER_MSG]\n"
     ]
    },
    {
     "data": {
      "text/markdown": [
       "\n",
       "    Suppose you will use Wikipedia for retrieving information. \n",
       "    Could you recommend three query words wrapped with quotation marks for getting more information about \"Isaac Newton\"? For example, if you are given \"stubborn person\", you may want to return  \"Characteristic of a stubborn person\", \"Definition of Stubborn\", \"Signs of Being Stubborn\". "
      ],
      "text/plain": [
       "<IPython.core.display.Markdown object>"
      ]
     },
     "metadata": {},
     "output_type": "display_data"
    },
    {
     "name": "stdout",
     "output_type": "stream",
     "text": [
      "[GPT_OUTPUT]\n"
     ]
    },
    {
     "data": {
      "text/markdown": [
       "Certainly! Here are three query words wrapped with quotation marks for retrieving more information about \"Isaac Newton\" on Wikipedia:\n",
       "\n",
       "1. \"Early life and education of Isaac Newton\"\n",
       "2. \"Scientific achievements of Isaac Newton\"\n",
       "3. \"Legacy and impact of Isaac Newton\"\n",
       "\n",
       "These query words will help you find specific sections or articles on Wikipedia that provide detailed information about Isaac Newton's early life, education, scientific contributions, and his overall legacy."
      ],
      "text/plain": [
       "<IPython.core.display.Markdown object>"
      ]
     },
     "metadata": {},
     "output_type": "display_data"
    },
    {
     "name": "stdout",
     "output_type": "stream",
     "text": [
      "Three query words are\n",
      "['Early life and education of Isaac Newton', 'Scientific achievements of Isaac Newton', 'Legacy and impact of Isaac Newton']\n"
     ]
    }
   ],
   "source": [
    "# Find three query words for the given entity using GPT\n",
    "user_msg = \\\n",
    "    \"\"\"\n",
    "    Suppose you will use Wikipedia for retrieving information. \n",
    "    Could you recommend three query words wrapped with quotation marks for getting more information about \"\"\" \\\n",
    "    + '\"' + entity + '\"?' + \\\n",
    "    \"\"\" For example, if you are given \"stubborn person\", you may want to return \"\"\" \\\n",
    "    + \"\"\" \"Characteristic of a stubborn person\", \"Definition of Stubborn\", \"Signs of Being Stubborn\". \"\"\"\n",
    "response_content = GPT.chat(\n",
    "    user_msg=user_msg,PRINT_USER_MSG=True,PRINT_GPT_OUTPUT=True,\n",
    "    RESET_CHAT=True,RETURN_RESPONSE=True)\n",
    "wiki_queries = extract_quoted_words(response_content)\n",
    "if len(wiki_queries) > 3: wiki_queries = wiki_queries[-3:]\n",
    "print (\"Three query words are\\n%s\"%(wiki_queries))"
   ]
  },
  {
   "cell_type": "code",
   "execution_count": 5,
   "id": "fcc418af",
   "metadata": {},
   "outputs": [
    {
     "name": "stdout",
     "output_type": "stream",
     "text": [
      "entity:[Early life and education of Isaac Newton] mismatched. use [Early life of Isaac Newton] instead.\n",
      " We have total [240] paragraphs.\n",
      " After filtering, we have [57] and [8] paragraphs returned (k:[3] and m:[5])\n",
      "entity:[Scientific achievements of Isaac Newton] mismatched. use [Early life of Isaac Newton] instead.\n",
      " We have total [240] paragraphs.\n",
      " After filtering, we have [57] and [8] paragraphs returned (k:[3] and m:[5])\n",
      "entity:[Legacy and impact of Isaac Newton] mismatched. use [Isaac Newton] instead.\n",
      " We have total [1413] paragraphs.\n",
      " After filtering, we have [142] and [8] paragraphs returned (k:[3] and m:[5])\n",
      "Now we have [24] paragraphs.\n",
      "Number of paragraphs [24] => unique ones [16]\n"
     ]
    }
   ],
   "source": [
    "# Wiki crawl on query words from GPT\n",
    "paragraphs_return = []\n",
    "for wiki_query in wiki_queries:\n",
    "    paragraphs_return += wiki_search(\n",
    "        entity=wiki_query,min_char_len=100,first_k=3,top_m_excluding_first_k=5,\n",
    "        VERBOSE=True)\n",
    "print (\"Now we have [%d] paragraphs.\"%(len(paragraphs_return)))\n",
    "# Get the unique paragraphs\n",
    "paragraphs_unique = list(set(paragraphs_return))\n",
    "print (\"Number of paragraphs [%d] => unique ones [%d]\"%\n",
    "       (len(paragraphs_return),len(paragraphs_unique)))"
   ]
  },
  {
   "cell_type": "code",
   "execution_count": 6,
   "id": "4d7bac17",
   "metadata": {
    "scrolled": true
   },
   "outputs": [
    {
     "name": "stdout",
     "output_type": "stream",
     "text": [
      "[0/16]-th Paragraph\n"
     ]
    },
    {
     "data": {
      "text/markdown": [
       "Isaac Newton1642 births1727 deaths17th-century alchemists17th-century apocalypticists17th-century English astronomers17th-century English mathematicians17th-century English male writers17th-century English writers17th-century Latin-language writers18th-century alchemists18th-century apocalypticists18th-century British astronomers18th-century British scientists18th-century English mathematicians18th-century English male writers18th-century English writers18th-century Latin-language writersAlumni of Trinity College, CambridgeAntitrinitariansBallistics expertsBritish scientific instrument makersBritish writers in LatinBurials at Westminster AbbeyColor scientistsCopernican RevolutionCreators of temperature scalesCritics of atheismEnglish alchemistsEnglish AnglicansEnglish ChristiansEnglish inventorsEnglish justices of the peaceEnglish knightsEnglish mathematiciansEnglish MPs 1689–1690English MPs 1701–1702English physicistsEnlightenment scientistsExperimental physicistsFellows of the Royal SocietyFellows of Trinity College, CambridgeFluid dynamicistsBritish geometersLinear algebraistsHermeticistsHistory of calculusKnights BachelorLucasian Professors of MathematicsMasters of the MintMembers of the pre-1707 Parliament of England for the University of CambridgeNatural philosophersNontrinitarian ChristiansOptical physicistsPeople educated at The King's School, GranthamPeople from South Kesteven DistrictPhilosophers of sciencePost-Reformation Arian ChristiansPresidents of the Royal SocietyReputed virginsTheoretical physicistsWriters about religion and science"
      ],
      "text/plain": [
       "<IPython.core.display.Markdown object>"
      ]
     },
     "metadata": {},
     "output_type": "display_data"
    },
    {
     "name": "stdout",
     "output_type": "stream",
     "text": [
      "=>\n"
     ]
    },
    {
     "data": {
      "text/markdown": [
       "Isaac Newton was a 17th and 18th-century English mathematician, physicist, alchemist, and astronomer who made significant contributions to various fields such as optics, mechanics, and calculus, and was also involved in politics and religion."
      ],
      "text/plain": [
       "<IPython.core.display.Markdown object>"
      ]
     },
     "metadata": {},
     "output_type": "display_data"
    },
    {
     "name": "stdout",
     "output_type": "stream",
     "text": [
      "[1/16]-th Paragraph\n"
     ]
    },
    {
     "data": {
      "text/markdown": [
       "Sir Isaac Newton is known for many scientific findings. Some of these discoveries include the laws of motion, the theory of gravity, and basic calculus. Although Newton was predominantly known for his discoveries in mathematics and physics, he also put much effort and study into chemistry, biblical history, and optics. One of Newton's most famous writings was the Principia where he described some of his major findings of time, physics, mathematics, and calculus. Although his theories soon became universal, he faced much opposition to some of his early theories. Specifically, his theory of gravity faced criticism from leading scientists such as Christiaan Huygens and Leibniz. After a few years of debate, Newton's concept of gravity became universally accepted as he became the dominant figure in the European continent. [1]"
      ],
      "text/plain": [
       "<IPython.core.display.Markdown object>"
      ]
     },
     "metadata": {},
     "output_type": "display_data"
    },
    {
     "name": "stdout",
     "output_type": "stream",
     "text": [
      "=>\n"
     ]
    },
    {
     "data": {
      "text/markdown": [
       "Sir Isaac Newton is known for his scientific discoveries, including the laws of motion, theory of gravity, calculus, and his famous writing, the Principia, despite facing initial opposition and criticism."
      ],
      "text/plain": [
       "<IPython.core.display.Markdown object>"
      ]
     },
     "metadata": {},
     "output_type": "display_data"
    },
    {
     "name": "stdout",
     "output_type": "stream",
     "text": [
      "[2/16]-th Paragraph\n"
     ]
    },
    {
     "data": {
      "text/markdown": [
       "Sir Isaac Newton FRS (25 December 1642 – 20 March 1726/27)[a] was an English mathematician, physicist, astronomer, alchemist, theologian, and author who was described in his time as a natural philosopher. He was a key figure in the Scientific Revolution and the Enlightenment that followed. His pioneering book Philosophiæ Naturalis Principia Mathematica (Mathematical Principles of Natural Philosophy), first published in 1687, consolidated many previous results and established classical mechanics.[17][18] Newton also made seminal contributions to optics, and shares credit with German mathematician Gottfried Wilhelm Leibniz for developing infinitesimal calculus."
      ],
      "text/plain": [
       "<IPython.core.display.Markdown object>"
      ]
     },
     "metadata": {},
     "output_type": "display_data"
    },
    {
     "name": "stdout",
     "output_type": "stream",
     "text": [
      "=>\n"
     ]
    },
    {
     "data": {
      "text/markdown": [
       "Sir Isaac Newton was a English mathematician, physicist, astronomer, alchemist, theologian, and author, known for his significant contributions to science, particularly in the fields of mechanics and optics, as well as his development of infinitesimal calculus."
      ],
      "text/plain": [
       "<IPython.core.display.Markdown object>"
      ]
     },
     "metadata": {},
     "output_type": "display_data"
    },
    {
     "name": "stdout",
     "output_type": "stream",
     "text": [
      "[3/16]-th Paragraph\n"
     ]
    },
    {
     "data": {
      "text/markdown": [
       "The following article is part of a biography of Sir Isaac Newton, the English mathematician and scientist, author of the Principia. It portrays the years after Newton's birth in 1642, his education, as well as his early scientific contributions, before the writing of his main work, the Principia Mathematica, in 1685."
      ],
      "text/plain": [
       "<IPython.core.display.Markdown object>"
      ]
     },
     "metadata": {},
     "output_type": "display_data"
    },
    {
     "name": "stdout",
     "output_type": "stream",
     "text": [
      "=>\n"
     ]
    },
    {
     "data": {
      "text/markdown": [
       "This article provides an overview of Sir Isaac Newton's early life, education, and scientific contributions before he wrote his main work, the Principia Mathematica."
      ],
      "text/plain": [
       "<IPython.core.display.Markdown object>"
      ]
     },
     "metadata": {},
     "output_type": "display_data"
    },
    {
     "name": "stdout",
     "output_type": "stream",
     "text": [
      "[4/16]-th Paragraph\n"
     ]
    },
    {
     "data": {
      "text/markdown": [
       "In the same work, Newton presented a calculus-like method of geometrical analysis using 'first and last ratios', gave the first analytical determination (based on Boyle's law) of the speed of sound in air, inferred the oblateness of Earth's spheroidal figure, accounted for the precession of the equinoxes as a result of the Moon's gravitational attraction on the Earth's oblateness, initiated the gravitational study of the irregularities in the motion of the Moon, provided a theory for the determination of the orbits of comets, and much more.[73] Newton's biographer David Brewster reported that the complexity of applying his theory of gravity to the motion of the moon was so great it affected Newton's health: \"[H]e was deprived of his appetite and sleep\" during his work on the problem in 1692–93, and told the astronomer John Machin that \"his head never ached but when he was studying the subject\". According to Brewster Edmund Halley also told John Conduitt that when pressed to complete his analysis Newton \"always replied that it made his head ache, and kept him awake so often, that he would think of it no more\". [Emphasis in original][74]"
      ],
      "text/plain": [
       "<IPython.core.display.Markdown object>"
      ]
     },
     "metadata": {},
     "output_type": "display_data"
    },
    {
     "name": "stdout",
     "output_type": "stream",
     "text": [
      "=>\n"
     ]
    },
    {
     "data": {
      "text/markdown": [
       "In his work, Newton made significant contributions to calculus, determined the speed of sound in air, explained Earth's oblateness and the precession of the equinoxes, studied the irregularities in the motion of the Moon, developed a theory for the orbits of comets, and more, leading to physical and mental strain on Newton."
      ],
      "text/plain": [
       "<IPython.core.display.Markdown object>"
      ]
     },
     "metadata": {},
     "output_type": "display_data"
    },
    {
     "name": "stdout",
     "output_type": "stream",
     "text": [
      "[5/16]-th Paragraph\n"
     ]
    },
    {
     "data": {
      "text/markdown": [
       "In March 1673 Newton took a prominent part in a dispute in the university. The public oratorship fell vacant, and a contest arose between the heads of the colleges and the members of the Senate as to the mode of electing to the office. The heads claimed the right of nominating two persons, one of whom was to be elected by the senate. The senate insisted that the proper mode was by an open election. George Villiers, 2nd Duke of Buckingham, who was the chancellor of the university, endeavoured to effect a compromise which, he says, \"I hope may for the present satisfy both sides. I propose that the heads may for this time nominate and the body comply, yet interposing (if they think fit) a protestation concerning their plea that this election may not hereafter pass for a decisive precedent in prejudice of their claim\",[citation needed] and, \"whereas I understand that the whole university has chiefly consideration for Dr Henry Paman of St John's College and Mr. Craven of Trinity College, I do recommend them both to be nominated.\"[citation needed] The heads, however, nominated Drs Paman and Ralph Sanderson (of St John's); the next day 121 members of the senate recorded their votes for Craven and ninety-eight for Paman. On the morning of the election, a protest in which Newton's name appeared was read and entered in the Regent House. But the vice-chancellor admitted Paman the same morning, and so ended the first contest of a non-scientific character in which Newton took part.[citation needed]"
      ],
      "text/plain": [
       "<IPython.core.display.Markdown object>"
      ]
     },
     "metadata": {},
     "output_type": "display_data"
    },
    {
     "name": "stdout",
     "output_type": "stream",
     "text": [
      "=>\n"
     ]
    },
    {
     "data": {
      "text/markdown": [
       "In March 1673, Newton participated in a dispute over the election process for the public oratorship at the university, with the heads of the colleges claiming the right to nominate candidates while the senate insisted on an open election; ultimately, Newton's preferred candidate was not elected."
      ],
      "text/plain": [
       "<IPython.core.display.Markdown object>"
      ]
     },
     "metadata": {},
     "output_type": "display_data"
    },
    {
     "name": "stdout",
     "output_type": "stream",
     "text": [
      "[6/16]-th Paragraph\n"
     ]
    },
    {
     "data": {
      "text/markdown": [
       "Isaac Newton was born on Christmas Day, 25 December 1642 Old Style (4 January 1643 on the Gregorian calendar, which is now used)[2] at Woolsthorpe Manor in Woolsthorpe-by-Colsterworth, a hamlet in the county of Lincolnshire. (At the time of Newton's birth, England had not adopted the Gregorian calendar and therefore his date of birth was recorded as 25 December, according to the Julian calendar.)"
      ],
      "text/plain": [
       "<IPython.core.display.Markdown object>"
      ]
     },
     "metadata": {},
     "output_type": "display_data"
    },
    {
     "name": "stdout",
     "output_type": "stream",
     "text": [
      "=>\n"
     ]
    },
    {
     "data": {
      "text/markdown": [
       "Isaac Newton was born on December 25, 1642 (according to the Julian calendar) in Woolsthorpe-by-Colsterworth, Lincolnshire."
      ],
      "text/plain": [
       "<IPython.core.display.Markdown object>"
      ]
     },
     "metadata": {},
     "output_type": "display_data"
    },
    {
     "name": "stdout",
     "output_type": "stream",
     "text": [
      "[7/16]-th Paragraph\n"
     ]
    },
    {
     "data": {
      "text/markdown": [
       "Next November, Newton redeemed his promise to Halley by sending him, by the hand of Mr. Paget, a fellow of Trinity College and mathematical master of Christ's Hospital, a copy of his demonstration; and very soon afterward Halley again visited Cambridge to confer with Newton about the problem. On his return to London on 10 December 1684, he informed the Royal Society \"that he had lately seen Mr. Newton at Cambridge, who had shown him a curious treatise De Motu\",[citation needed] which at Halley's desire he promised to send to the Society to be entered upon their register. \"Mr. Halley was desired to put Mr. Newton in mind of his promise for the securing this invention to himself, till he could be at leisure to publish it\",[citation needed] and Paget was desired to join with Halley in urging Newton to do so. By the middle of February Newton had sent his paper to Aston, one of the secretaries of the Society, and in a letter to Aston dated 23 February 1685, Newton thanked him for \"having entered on the register his notions about motion\". This treatise De Motu was the starting point of the Principia,[according to whom?] and was meant[according to whom?] to be a short account of what that work was intended to embrace. It occupies twenty-four octavo pages, and consists of four theorems and seven problems, some of which are identical with some of the most important propositions of the second and third sections of the first book of the  Principia."
      ],
      "text/plain": [
       "<IPython.core.display.Markdown object>"
      ]
     },
     "metadata": {},
     "output_type": "display_data"
    },
    {
     "name": "stdout",
     "output_type": "stream",
     "text": [
      "=>\n"
     ]
    },
    {
     "data": {
      "text/markdown": [
       "In November, Newton fulfilled his promise to Halley by sending him a copy of his demonstration through Mr. Paget; Halley then visited Newton in Cambridge and informed the Royal Society about Newton's treatise De Motu, which he promised to send to the Society for registration, leading to the development of the Principia."
      ],
      "text/plain": [
       "<IPython.core.display.Markdown object>"
      ]
     },
     "metadata": {},
     "output_type": "display_data"
    },
    {
     "name": "stdout",
     "output_type": "stream",
     "text": [
      "[8/16]-th Paragraph\n"
     ]
    },
    {
     "data": {
      "text/markdown": [
       "From this work, he concluded that the lens of any refracting telescope would suffer from the dispersion of light into colours (chromatic aberration). As a proof of the concept, he constructed a telescope using reflective mirrors instead of lenses as the objective to bypass that problem.[58][59] Building the design, the first known functional reflecting telescope, today known as a Newtonian telescope,[59] involved solving the problem of a suitable mirror material and shaping technique. Newton ground his own mirrors out of a custom composition of highly reflective speculum metal, using Newton's rings to judge the quality of the optics for his telescopes. In late 1668,[60] he was able to produce this first reflecting telescope. It was about eight inches long and it gave a clearer and larger image. In 1671, the Royal Society asked for a demonstration of his reflecting telescope.[61] Their interest encouraged him to publish his notes, Of Colours,[62] which he later expanded into the work Opticks. When Robert Hooke criticised some of Newton's ideas, Newton was so offended that he withdrew from public debate. Newton and Hooke had brief exchanges in 1679–80, when Hooke, appointed to manage the Royal Society's correspondence, opened up a correspondence intended to elicit contributions from Newton to Royal Society transactions,[63] which had the effect of stimulating Newton to work out a proof that the elliptical form of planetary orbits would result from a centripetal force inversely proportional to the square of the radius vector. But the two men remained generally on poor terms until Hooke's death.[64]"
      ],
      "text/plain": [
       "<IPython.core.display.Markdown object>"
      ]
     },
     "metadata": {},
     "output_type": "display_data"
    },
    {
     "name": "stdout",
     "output_type": "stream",
     "text": [
      "=>\n"
     ]
    },
    {
     "data": {
      "text/markdown": [
       "Sir Isaac Newton concluded that refracting telescopes suffer from chromatic aberration, and to overcome this problem, he constructed the first functional reflecting telescope using mirrors instead of lenses, which he ground himself using a custom composition of highly reflective speculum metal."
      ],
      "text/plain": [
       "<IPython.core.display.Markdown object>"
      ]
     },
     "metadata": {},
     "output_type": "display_data"
    },
    {
     "name": "stdout",
     "output_type": "stream",
     "text": [
      "[9/16]-th Paragraph\n"
     ]
    },
    {
     "data": {
      "text/markdown": [
       "He then points out why \"the object-glass of any telescope cannot collect all the rays which come from one point of an object, to make them convene at its focus in less room than in a circular space, whose diameter is the 50th part of the diameter of its aperture: which is an irregularity some hundreds of times greater, than a circularly figured lens, of so small a section as the object-glasses of long telescopes are, would cause by the unfitness of its figure, were light uniform.\"[citation needed] He adds: \"This made me take reflections into consideration, and finding them regular so that the Angle of Reflection of all sorts of Rays was equal to their Angle of Incidence; I understood, that by their mediation optic instruments might be brought to any degree of perfection imaginable, provided a reflecting substance could be found, which would polish as finely as glass, and reflect as much light, as glass transmits, and the art of communicating to it a parabolic figure be also attained. But these seemed very great difficulties, and I have almost thought them insuperable, when I further considered, that every irregularity in a reflecting superficies makes the rays stray 5 or 6 times more out of their due course, than the like irregularities in a refracting one; so that a much greater curiosity would be here requisite, than in figuring glasses for refraction.[citation needed]"
      ],
      "text/plain": [
       "<IPython.core.display.Markdown object>"
      ]
     },
     "metadata": {},
     "output_type": "display_data"
    },
    {
     "name": "stdout",
     "output_type": "stream",
     "text": [
      "=>\n"
     ]
    },
    {
     "data": {
      "text/markdown": [
       "In this paragraph, the author discusses the limitations of telescopes in collecting all the rays from an object and suggests that reflections could be a solution to improve the performance of optical instruments, but acknowledges the difficulties in finding a suitable reflecting material and achieving a parabolic figure on its surface."
      ],
      "text/plain": [
       "<IPython.core.display.Markdown object>"
      ]
     },
     "metadata": {},
     "output_type": "display_data"
    },
    {
     "name": "stdout",
     "output_type": "stream",
     "text": [
      "[10/16]-th Paragraph\n"
     ]
    },
    {
     "data": {
      "text/markdown": [
       "During the years 1666 to 1669 Newton's studies were very diverse. He bought prisms and lenses on two or three occasions, and also chemicals and a furnace, apparently for chemical experiments[citation needed]; but he also employed part of his time on the theory of fluxions and other branches of pure mathematics. He wrote a paper, De Analysi per Aequationes Numero Terminorum Infinitas, which he put, probably in June 1669, into the hands of Isaac Barrow (then Lucasian Professor of Mathematics), at the same time permitting him to communicate its contents to their common friend John Collins (1624–1683), a mathematician of no mean order. Barrow did so on 31 July 1669, but kept the name of the author a secret, and merely told Collins that he was a friend staying at Cambridge, who had a powerful genius for such matters.[according to whom?] In a subsequent letter on 20 August Barrow expressed his pleasure at hearing the favourable opinion which Collins had formed of the paper, and added, \"the name of the author is Newton, a fellow of our college, and a young man, who is only in his second year since he took the degree of Master of Arts, and who, with an unparalleled genius (examine quo est acumen), has made very great progress in this branch of mathematics\".[citation needed] Shortly afterward Barrow resigned his chair and was instrumental in securing Newton's election as his successor."
      ],
      "text/plain": [
       "<IPython.core.display.Markdown object>"
      ]
     },
     "metadata": {},
     "output_type": "display_data"
    },
    {
     "name": "stdout",
     "output_type": "stream",
     "text": [
      "=>\n"
     ]
    },
    {
     "data": {
      "text/markdown": [
       "During the years 1666 to 1669, Newton engaged in diverse studies including purchasing prisms, lenses, chemicals, and a furnace for experimentation, while also dedicating time to the theory of fluxions and other areas of pure mathematics. He wrote a paper called De Analysi per Aequationes Numero Terminorum Infinitas, which he entrusted to Isaac Barrow, who later revealed the author's name as Newton and praised his exceptional mathematical abilities. Eventually, Barrow resigned and played a crucial role in Newton's election as his successor."
      ],
      "text/plain": [
       "<IPython.core.display.Markdown object>"
      ]
     },
     "metadata": {},
     "output_type": "display_data"
    },
    {
     "name": "stdout",
     "output_type": "stream",
     "text": [
      "[11/16]-th Paragraph\n"
     ]
    },
    {
     "data": {
      "text/markdown": [
       "Newton built the first practical reflecting telescope and developed a sophisticated theory of colour based on the observation that a prism separates white light into the colours of the visible spectrum. His work on light was collected in his highly influential book Opticks, published in 1704. He also formulated an empirical law of cooling, made the first theoretical calculation of the speed of sound, and introduced the notion of a Newtonian fluid. In addition to his work on calculus, as a mathematician Newton contributed to the study of power series, generalised the binomial theorem to non-integer exponents, developed a method for approximating the roots of a function, and classified most of the cubic plane curves."
      ],
      "text/plain": [
       "<IPython.core.display.Markdown object>"
      ]
     },
     "metadata": {},
     "output_type": "display_data"
    },
    {
     "name": "stdout",
     "output_type": "stream",
     "text": [
      "=>\n"
     ]
    },
    {
     "data": {
      "text/markdown": [
       "Newton made significant contributions to various scientific fields, including developing a reflecting telescope and a theory of color, formulating laws of cooling and the speed of sound, introducing the concept of Newtonian fluid, and making contributions to calculus and mathematics."
      ],
      "text/plain": [
       "<IPython.core.display.Markdown object>"
      ]
     },
     "metadata": {},
     "output_type": "display_data"
    },
    {
     "name": "stdout",
     "output_type": "stream",
     "text": [
      "[12/16]-th Paragraph\n"
     ]
    },
    {
     "data": {
      "text/markdown": [
       "In the Principia, Newton formulated the laws of motion and universal gravitation that formed the dominant scientific viewpoint for centuries until it was superseded by the theory of relativity. Newton used his mathematical description of gravity to derive Kepler's laws of planetary motion, account for tides, the trajectories of comets, the precession of the equinoxes and other phenomena, eradicating doubt about the Solar System's heliocentricity. He demonstrated that the motion of objects on Earth and celestial bodies could be accounted for by the same principles. Newton's inference that the Earth is an oblate spheroid was later confirmed by the geodetic measurements of Maupertuis, La Condamine, and others, convincing most European scientists of the superiority of Newtonian mechanics over earlier systems."
      ],
      "text/plain": [
       "<IPython.core.display.Markdown object>"
      ]
     },
     "metadata": {},
     "output_type": "display_data"
    },
    {
     "name": "stdout",
     "output_type": "stream",
     "text": [
      "=>\n"
     ]
    },
    {
     "data": {
      "text/markdown": [
       "The paragraph summarizes Newton's accomplishments in the Principia, including his formulation of the laws of motion and universal gravitation, his derivation of Kepler's laws, his explanation of various phenomena, and his confirmation of the Earth's shape."
      ],
      "text/plain": [
       "<IPython.core.display.Markdown object>"
      ]
     },
     "metadata": {},
     "output_type": "display_data"
    },
    {
     "name": "stdout",
     "output_type": "stream",
     "text": [
      "[13/16]-th Paragraph\n"
     ]
    },
    {
     "data": {
      "text/markdown": [
       "All articles with self-published sourcesArticles with self-published sources from January 2023Webarchive template wayback linksWikipedia articles needing page number citations from August 2014All articles with dead external linksArticles with dead external links from June 2017Articles with permanently dead external linksCS1: Julian–Gregorian uncertaintyCS1 French-language sources (fr)Articles with short descriptionShort description matches WikidataWikipedia indefinitely move-protected pagesWikipedia indefinitely semi-protected pagesGood articlesUse British English from March 2020Use dmy dates from December 2022Biography with signatureArticles with hCardsArticles containing Latin-language textPages using sidebar with the child parameterAll articles with specifically marked weasel-worded phrasesArticles with specifically marked weasel-worded phrases from December 2018All articles with unsourced statementsArticles with unsourced statements from December 2018All articles with vague or ambiguous timeVague or ambiguous time from March 2020CS1 maint: bot: original URL status unknownArticles prone to spam from December 2018Articles with hAudio microformatsSpoken articlesArticles with Project Gutenberg linksArticles with Internet Archive linksArticles with LibriVox linksArticles containing French-language textArticles containing Hebrew-language textPages using Sister project links with hidden wikidataArticles with FAST identifiersArticles with ISNI identifiersArticles with VIAF identifiersArticles with WorldCat Entities identifiersArticles with BIBSYS identifiersArticles with BNC identifiersArticles with BNE identifiersArticles with BNF identifiersArticles with BNFdata identifiersArticles with BNMM identifiersArticles with CANTICN identifiersArticles with GND identifiersArticles with ICCU identifiersArticles with J9U identifiersArticles with KBR identifiersArticles with LCCN identifiersArticles with Libris identifiersArticles with LNB identifiersArticles with NCL identifiersArticles with NDL identifiersArticles with NKC identifiersArticles with NLA identifiersArticles with NLG identifiersArticles with NLK identifiersArticles with NSK identifiersArticles with NTA identifiersArticles with PLWABN identifiersArticles with PortugalA identifiersArticles with VcBA identifiersArticles with CINII identifiersArticles with Google Scholar identifiersArticles with MATHSN identifiersArticles with MGP identifiersArticles with ZBMATH identifiersArticles with ULAN identifiersArticles with DTBIO identifiersArticles with Trove identifiersArticles with SNAC-ID identifiersArticles with SUDOC identifiers"
      ],
      "text/plain": [
       "<IPython.core.display.Markdown object>"
      ]
     },
     "metadata": {},
     "output_type": "display_data"
    },
    {
     "name": "stdout",
     "output_type": "stream",
     "text": [
      "=>\n"
     ]
    },
    {
     "data": {
      "text/markdown": [
       "The paragraph lists various categories and identifiers associated with articles on Wikipedia, including sources, language, dates, and identifiers."
      ],
      "text/plain": [
       "<IPython.core.display.Markdown object>"
      ]
     },
     "metadata": {},
     "output_type": "display_data"
    },
    {
     "name": "stdout",
     "output_type": "stream",
     "text": [
      "[14/16]-th Paragraph\n"
     ]
    },
    {
     "data": {
      "text/markdown": [
       "АдыгабзэAfrikaansAlemannischአማርኛअंगिकाÆngliscالعربيةAragonésܐܪܡܝܐArmãneashtiArpetanঅসমীয়াAsturianuअवधीAvañe'ẽAymar aruAzərbaycancaتۆرکجهBasa BaliবাংলাBân-lâm-gúBasa BanyumasanБашҡортсаБеларускаяБеларуская (тарашкевіца)भोजपुरीBikol CentralБългарскиBoarischBosanskiBrezhonegБуряадCatalàЧӑвашлаCebuanoČeštinaChavacano de ZamboangaChi-ChewaChiShonaCorsuCymraegDanskالدارجةDeutschދިވެހިބަސްDolnoserbskiडोटेलीEestiΕλληνικάEspañolEsperantoEstremeñuEuskaraفارسیFiji HindiFøroysktFrançaisFryskFurlanGaeilgeGaelgGàidhligGalego贛語Gĩkũyũગુજરાતીगोंयची कोंकणी / Gõychi Konknni客家語/Hak-kâ-ngî한국어HausaHawaiʻiՀայերենहिन्दीHornjoserbsceHrvatskiIdoIlokanoবিষ্ণুপ্রিয়া মণিপুরীBahasa IndonesiaInterlinguaInterlingueИронÍslenskaItalianoעבריתJawaKabɩyɛKalaallisutಕನ್ನಡKapampanganქართულიҚазақшаKernowekKiswahiliKreyòl ayisyenKriyòl gwiyannenKurdîКыргызчаLadinoLatinaLatviešuLëtzebuergeschЛезгиLietuviųLigureLimburgsLingua Franca NovaLivvinkarjalaLa .lojban.LugandaLombardMagyarमैथिलीМакедонскиMalagasyമലയാളംMaltiमराठीმარგალურიمصرىمازِرونیBahasa MelayuMinangkabau閩東語 / Mìng-dĕ̤ng-ngṳ̄MirandésМокшеньМонголမြန်မာဘာသာNāhuatlNederlandsNedersaksiesनेपालीनेपाल भाषा日本語НохчийнNordfriiskNorfuk / PitkernNorsk bokmålNorsk nynorskNovialOccitanОлык марийଓଡ଼ିଆOromooOʻzbekcha / ўзбекчаਪੰਜਾਬੀPangasinanپنجابیပအိုဝ်ႏဘာႏသာႏPapiamentuپښتوPatoisភាសាខ្មែរPicardPiemontèisPlattdüütschPolskiΠοντιακάPortuguêsQaraqalpaqshaRipoarischRomânăRumantschRuna SimiРусиньскыйРусскийСаха тылаसंस्कृतम्ᱥᱟᱱᱛᱟᱲᱤسرائیکیSarduScotsSeelterskShqipSicilianuසිංහලSimple EnglishسنڌيSlovenčinaSlovenščinaСловѣньскъ / ⰔⰎⰑⰂⰡⰐⰠⰔⰍⰟŚlůnskiSoomaaligaکوردیСрпски / srpskiSrpskohrvatski / српскохрватскиSundaSuomiSvenskaTagalogதமிழ்TaclḥitTaqbaylitTarandíneТатарча / tatarçaతెలుగుไทยТоҷикӣTürkçeTürkmençeТыва дылУкраїнськаاردوئۇيغۇرچە / UyghurcheVahcuenghVènetoVepsän kel’Tiếng ViệtVolapükVõroWalon文言West-VlamsWinaray吴语ייִדישYorùbá粵語ZazakiZeêuwsŽemaitėška中文"
      ],
      "text/plain": [
       "<IPython.core.display.Markdown object>"
      ]
     },
     "metadata": {},
     "output_type": "display_data"
    },
    {
     "name": "stdout",
     "output_type": "stream",
     "text": [
      "=>\n"
     ]
    },
    {
     "data": {
      "text/markdown": [
       "The paragraph discusses the availability of translation for multiple languages on a website."
      ],
      "text/plain": [
       "<IPython.core.display.Markdown object>"
      ]
     },
     "metadata": {},
     "output_type": "display_data"
    },
    {
     "name": "stdout",
     "output_type": "stream",
     "text": [
      "[15/16]-th Paragraph\n"
     ]
    },
    {
     "data": {
      "text/markdown": [
       "In November 1679, Robert Hooke (after his appointment to manage the Royal Society's correspondence) began an exchange of letters with Newton[citation needed]: he wished to hear from members about their researches, or their views about the researches of others.[20] The correspondence later led to controversy. Hooke and Newton disagreed about the form of the path of a body falling from a height, taking the motion of the Earth around its axis into consideration. Newton later acknowledged that the exchanges of 1679–80 had reawakened his dormant interest in astronomy.[21] This led Newton to revert[according to whom?] to his former conjectures on the Moon. The estimate Newton had used for the radius of the Earth, which had been accepted by geographers and navigators, was based on the very rough estimate that the length of a degree of latitude of the Earth's surface measured along a meridian was 60 nautical miles.[according to whom?] At a meeting of the Royal Society on 11 January 1672, Oldenburg, the secretary, read a letter from Paris describing the procedure followed by Jean Picard in measuring a degree, and specifically stating the precise length that he calculated it to be. It is probable that Newton had become acquainted with this measurement of Picard's, and that he was therefore led to make use of it when his thoughts were redirected to the subject. This estimate of the Earth's magnitude, giving 691 miles (1112  km) to 10°, made the two results, the discrepancy between which Newton had regarded as a disproof of his conjecture, to agree so exactly that he now regarded his conjecture as fully established."
      ],
      "text/plain": [
       "<IPython.core.display.Markdown object>"
      ]
     },
     "metadata": {},
     "output_type": "display_data"
    },
    {
     "name": "stdout",
     "output_type": "stream",
     "text": [
      "=>\n"
     ]
    },
    {
     "data": {
      "text/markdown": [
       "In November 1679, Robert Hooke and Isaac Newton began exchanging letters about their research, specifically regarding the path of a falling body and the Earth's motion, which reignited Newton's interest in astronomy and led him to revise his estimates for the radius of the Earth."
      ],
      "text/plain": [
       "<IPython.core.display.Markdown object>"
      ]
     },
     "metadata": {},
     "output_type": "display_data"
    }
   ],
   "source": [
    "# Now summarize each paragraph to a single sentence\n",
    "summarized_sentences = []\n",
    "for p_idx,p in enumerate(paragraphs_unique):\n",
    "    user_msg = \"Could you summarize the following paragraph into one setence? \\n \"+p\n",
    "    response_content = GPT.chat(\n",
    "        user_msg=user_msg,PRINT_USER_MSG=False,PRINT_GPT_OUTPUT=False,\n",
    "        RESET_CHAT=True,RETURN_RESPONSE=True)\n",
    "    # Append summarized sentences\n",
    "    summarized_sentences.append(response_content)\n",
    "    # Print summarized sentence with a markdown format\n",
    "    print (\"[%d/%d]-th Paragraph\"%(p_idx,len(paragraphs_unique)))\n",
    "    printmd(p)\n",
    "    print (\"=>\")\n",
    "    printmd(response_content)"
   ]
  },
  {
   "cell_type": "code",
   "execution_count": 7,
   "id": "7d4f2534",
   "metadata": {
    "scrolled": false
   },
   "outputs": [
    {
     "name": "stdout",
     "output_type": "stream",
     "text": [
      "Done.\n"
     ]
    }
   ],
   "source": [
    "# Compute the pairwise distance between summarized sentences using BERT Score\n",
    "n_sentence = len(summarized_sentences)\n",
    "D = np.zeros((n_sentence,n_sentence))\n",
    "for j_idx in range(n_sentence):\n",
    "    sentence_i = summarized_sentences\n",
    "    sentence_j = [summarized_sentences[j_idx]]*n_sentence\n",
    "    P,R,F1 = score(cands=sentence_i,\n",
    "                   refs=sentence_j,\n",
    "                   lang='en',\n",
    "                   model_type='bert-base-uncased',\n",
    "                   verbose=False)\n",
    "    D[j_idx,] = 1.0-F1.numpy()\n",
    "print (\"Done.\")"
   ]
  },
  {
   "cell_type": "code",
   "execution_count": 8,
   "id": "c56638e6",
   "metadata": {},
   "outputs": [
    {
     "data": {
      "image/png": "[encoded data removed]",
      "text/plain": [
       "<Figure size 300x300 with 2 Axes>"
      ]
     },
     "metadata": {
      "image/png": {
       "height": 270,
       "width": 295
      }
     },
     "output_type": "display_data"
    }
   ],
   "source": [
    "# Plot pairwise distance between sentences\n",
    "plt.figure(figsize=(3,3))\n",
    "im = plt.imshow(D,cmap='hot',interpolation='nearest')\n",
    "plt.colorbar(im,fraction=0.046, pad=0.04)\n",
    "plt.title('Pairwise Distance Matrix',fontsize=10)\n",
    "plt.show()"
   ]
  },
  {
   "cell_type": "markdown",
   "id": "b6a6ea7a",
   "metadata": {},
   "source": [
    "### Check the closest sentence pairs"
   ]
  },
  {
   "cell_type": "code",
   "execution_count": 9,
   "id": "0d049b83",
   "metadata": {},
   "outputs": [
    {
     "name": "stdout",
     "output_type": "stream",
     "text": [
      "Sentence:[0] and Sentence:[2] has dist:[0.2476]\n"
     ]
    },
    {
     "data": {
      "text/markdown": [
       "Isaac Newton was a 17th and 18th-century English mathematician, physicist, alchemist, and astronomer who made significant contributions to various fields such as optics, mechanics, and calculus, and was also involved in politics and religion."
      ],
      "text/plain": [
       "<IPython.core.display.Markdown object>"
      ]
     },
     "metadata": {},
     "output_type": "display_data"
    },
    {
     "data": {
      "text/markdown": [
       "Sir Isaac Newton was a English mathematician, physicist, astronomer, alchemist, theologian, and author, known for his significant contributions to science, particularly in the fields of mechanics and optics, as well as his development of infinitesimal calculus."
      ],
      "text/plain": [
       "<IPython.core.display.Markdown object>"
      ]
     },
     "metadata": {},
     "output_type": "display_data"
    },
    {
     "name": "stdout",
     "output_type": "stream",
     "text": [
      "Sentence:[4] and Sentence:[11] has dist:[0.3180]\n"
     ]
    },
    {
     "data": {
      "text/markdown": [
       "In his work, Newton made significant contributions to calculus, determined the speed of sound in air, explained Earth's oblateness and the precession of the equinoxes, studied the irregularities in the motion of the Moon, developed a theory for the orbits of comets, and more, leading to physical and mental strain on Newton."
      ],
      "text/plain": [
       "<IPython.core.display.Markdown object>"
      ]
     },
     "metadata": {},
     "output_type": "display_data"
    },
    {
     "data": {
      "text/markdown": [
       "Newton made significant contributions to various scientific fields, including developing a reflecting telescope and a theory of color, formulating laws of cooling and the speed of sound, introducing the concept of Newtonian fluid, and making contributions to calculus and mathematics."
      ],
      "text/plain": [
       "<IPython.core.display.Markdown object>"
      ]
     },
     "metadata": {},
     "output_type": "display_data"
    },
    {
     "name": "stdout",
     "output_type": "stream",
     "text": [
      "Sentence:[1] and Sentence:[12] has dist:[0.3319]\n"
     ]
    },
    {
     "data": {
      "text/markdown": [
       "Sir Isaac Newton is known for his scientific discoveries, including the laws of motion, theory of gravity, calculus, and his famous writing, the Principia, despite facing initial opposition and criticism."
      ],
      "text/plain": [
       "<IPython.core.display.Markdown object>"
      ]
     },
     "metadata": {},
     "output_type": "display_data"
    },
    {
     "data": {
      "text/markdown": [
       "The paragraph summarizes Newton's accomplishments in the Principia, including his formulation of the laws of motion and universal gravitation, his derivation of Kepler's laws, his explanation of various phenomena, and his confirmation of the Earth's shape."
      ],
      "text/plain": [
       "<IPython.core.display.Markdown object>"
      ]
     },
     "metadata": {},
     "output_type": "display_data"
    }
   ],
   "source": [
    "k_closest_pairs = 3\n",
    "D_UT = np.triu(m=D,k=1) # get upper-triangular part (+excluding diag)\n",
    "D_UT[D_UT==0.0] = 100 # exclude zero distances\n",
    "indices = np.argpartition(a=D_UT,kth=k_closest_pairs,axis=None)[:k_closest_pairs]\n",
    "distances = D_UT.flat[indices]\n",
    "sorted_indices = indices[np.argsort(distances)]\n",
    "i_idxs,j_idxs = np.unravel_index(sorted_indices,D_UT.shape)\n",
    "for i_idx,j_idx in zip(i_idxs,j_idxs):\n",
    "    sentence_i = summarized_sentences[i_idx]\n",
    "    sentence_j = summarized_sentences[j_idx]\n",
    "    print (\"Sentence:[%d] and Sentence:[%d] has dist:[%.4f]\"%\n",
    "           (i_idx,j_idx,D[i_idx,j_idx]))\n",
    "    printmd (sentence_i)\n",
    "    printmd (sentence_j)"
   ]
  },
  {
   "cell_type": "markdown",
   "id": "e9eb7bda",
   "metadata": {},
   "source": [
    "### Subset sampling using `LA-DPP`"
   ]
  },
  {
   "cell_type": "code",
   "execution_count": 10,
   "id": "d9802027",
   "metadata": {},
   "outputs": [
    {
     "data": {
      "image/png": "[encoded data removed]",
      "text/plain": [
       "<Figure size 300x300 with 2 Axes>"
      ]
     },
     "metadata": {
      "image/png": {
       "height": 270,
       "width": 301
      }
     },
     "output_type": "display_data"
    }
   ],
   "source": [
    "tau = 1.0 # temperature\n",
    "K = np.exp(-D*D/tau)\n",
    "# Plot the kernel matrix\n",
    "plt.figure(figsize=(3,3))\n",
    "im = plt.imshow(K,cmap='hot',interpolation='nearest')\n",
    "plt.colorbar(im,fraction=0.046, pad=0.04)\n",
    "plt.title('Kernel Matrix',fontsize=10)\n",
    "plt.show()"
   ]
  },
  {
   "cell_type": "code",
   "execution_count": 11,
   "id": "9133eab7",
   "metadata": {},
   "outputs": [
    {
     "name": "stdout",
     "output_type": "stream",
     "text": [
      "Ready.\n"
     ]
    }
   ],
   "source": [
    "def get_dpp_subset_from_K(K,n_sel,init_idx=None):\n",
    "    n_total     = K.shape[0]\n",
    "    remain_idxs = np.arange(n_total)\n",
    "    sub_idx     = np.zeros((n_sel))\n",
    "    sum_K_vec   = np.zeros(n_total)\n",
    "    for i_idx in range(n_sel):\n",
    "        if i_idx == 0:\n",
    "            if init_idx is None:\n",
    "                sel_idx = np.random.randint(n_total) # random first\n",
    "            else:\n",
    "                sel_idx = init_idx\n",
    "        else:\n",
    "            curr_K_vec = K[(int)(sub_idx[i_idx-1]),:] \n",
    "            sum_K_vec  = sum_K_vec + curr_K_vec\n",
    "            k_vals     = sum_K_vec[remain_idxs]\n",
    "            min_idx    = np.argmin(k_vals)\n",
    "            sel_idx    = remain_idxs[min_idx] \n",
    "        sub_idx[i_idx] = (int)(sel_idx)\n",
    "        remain_idxs = np.delete(remain_idxs,np.argwhere(remain_idxs==sel_idx))\n",
    "    sub_idx = sub_idx.astype(np.int32) # make it int\n",
    "    return sub_idx\n",
    "print (\"Ready.\")"
   ]
  },
  {
   "cell_type": "code",
   "execution_count": 12,
   "id": "ab92dc44",
   "metadata": {},
   "outputs": [
    {
     "name": "stdout",
     "output_type": "stream",
     "text": [
      "Done.\n"
     ]
    }
   ],
   "source": [
    "# Among all sentences, find the one that is closest to `entity`\n",
    "n_sentence = len(summarized_sentences)\n",
    "refs = [\"Information about \" + entity]*n_sentence\n",
    "P,R,F1 = score(cands=summarized_sentences,\n",
    "               refs=refs,\n",
    "               lang='en',\n",
    "               model_type='bert-base-uncased',\n",
    "               verbose=False)\n",
    "dists2entity = 1-F1.numpy()\n",
    "# Print\n",
    "top_k = 10\n",
    "k_indices = np.argpartition(dists2entity,top_k)[:top_k]\n",
    "sorted_k_indices = k_indices[np.argsort(dists2entity[k_indices])]\n",
    "for i_idx,sentence_idx in enumerate(sorted_k_indices):\n",
    "    dist = dists2entity[sentence_idx]\n",
    "    sentence = summarized_sentences[sentence_idx]\n",
    "    VERBOSE = False\n",
    "    if VERBOSE:\n",
    "        print (\"[%d/%d] dist:[%.3f]\"%(i_idx,top_k,dist))\n",
    "        printmd(sentence)\n",
    "print (\"Done.\")        "
   ]
  },
  {
   "cell_type": "code",
   "execution_count": 13,
   "id": "b8012bf3",
   "metadata": {},
   "outputs": [
    {
     "data": {
      "text/markdown": [
       "Sir Isaac Newton is known for his scientific discoveries, including the laws of motion, theory of gravity, calculus, and his famous writing, the Principia, despite facing initial opposition and criticism."
      ],
      "text/plain": [
       "<IPython.core.display.Markdown object>"
      ]
     },
     "metadata": {},
     "output_type": "display_data"
    },
    {
     "data": {
      "text/markdown": [
       "The paragraph discusses the availability of translation for multiple languages on a website."
      ],
      "text/plain": [
       "<IPython.core.display.Markdown object>"
      ]
     },
     "metadata": {},
     "output_type": "display_data"
    },
    {
     "data": {
      "text/markdown": [
       "Isaac Newton was born on December 25, 1642 (according to the Julian calendar) in Woolsthorpe-by-Colsterworth, Lincolnshire."
      ],
      "text/plain": [
       "<IPython.core.display.Markdown object>"
      ]
     },
     "metadata": {},
     "output_type": "display_data"
    },
    {
     "data": {
      "text/markdown": [
       "In March 1673, Newton participated in a dispute over the election process for the public oratorship at the university, with the heads of the colleges claiming the right to nominate candidates while the senate insisted on an open election; ultimately, Newton's preferred candidate was not elected."
      ],
      "text/plain": [
       "<IPython.core.display.Markdown object>"
      ]
     },
     "metadata": {},
     "output_type": "display_data"
    },
    {
     "data": {
      "text/markdown": [
       "The paragraph lists various categories and identifiers associated with articles on Wikipedia, including sources, language, dates, and identifiers."
      ],
      "text/plain": [
       "<IPython.core.display.Markdown object>"
      ]
     },
     "metadata": {},
     "output_type": "display_data"
    },
    {
     "data": {
      "text/markdown": [
       "Sir Isaac Newton concluded that refracting telescopes suffer from chromatic aberration, and to overcome this problem, he constructed the first functional reflecting telescope using mirrors instead of lenses, which he ground himself using a custom composition of highly reflective speculum metal."
      ],
      "text/plain": [
       "<IPython.core.display.Markdown object>"
      ]
     },
     "metadata": {},
     "output_type": "display_data"
    },
    {
     "data": {
      "text/markdown": [
       "This article provides an overview of Sir Isaac Newton's early life, education, and scientific contributions before he wrote his main work, the Principia Mathematica."
      ],
      "text/plain": [
       "<IPython.core.display.Markdown object>"
      ]
     },
     "metadata": {},
     "output_type": "display_data"
    },
    {
     "data": {
      "text/markdown": [
       "In this paragraph, the author discusses the limitations of telescopes in collecting all the rays from an object and suggests that reflections could be a solution to improve the performance of optical instruments, but acknowledges the difficulties in finding a suitable reflecting material and achieving a parabolic figure on its surface."
      ],
      "text/plain": [
       "<IPython.core.display.Markdown object>"
      ]
     },
     "metadata": {},
     "output_type": "display_data"
    },
    {
     "data": {
      "text/markdown": [
       "In November, Newton fulfilled his promise to Halley by sending him a copy of his demonstration through Mr. Paget; Halley then visited Newton in Cambridge and informed the Royal Society about Newton's treatise De Motu, which he promised to send to the Society for registration, leading to the development of the Principia."
      ],
      "text/plain": [
       "<IPython.core.display.Markdown object>"
      ]
     },
     "metadata": {},
     "output_type": "display_data"
    },
    {
     "data": {
      "text/markdown": [
       "Isaac Newton was a 17th and 18th-century English mathematician, physicist, alchemist, and astronomer who made significant contributions to various fields such as optics, mechanics, and calculus, and was also involved in politics and religion."
      ],
      "text/plain": [
       "<IPython.core.display.Markdown object>"
      ]
     },
     "metadata": {},
     "output_type": "display_data"
    }
   ],
   "source": [
    "n_sel = 10\n",
    "idxs_dpp = get_dpp_subset_from_K(K,n_sel=n_sel,init_idx=sorted_k_indices[0])\n",
    "for i_idx,sentence_idx in enumerate(idxs_dpp):\n",
    "    sentence = summarized_sentences[sentence_idx]\n",
    "    printmd(sentence)"
   ]
  },
  {
   "cell_type": "code",
   "execution_count": null,
   "id": "3a73d315",
   "metadata": {},
   "outputs": [],
   "source": []
  }
 ],
 "metadata": {
  "kernelspec": {
   "display_name": "Python 3 (ipykernel)",
   "language": "python",
   "name": "python3"
  },
  "language_info": {
   "codemirror_mode": {
    "name": "ipython",
    "version": 3
   },
   "file_extension": ".py",
   "mimetype": "text/x-python",
   "name": "python",
   "nbconvert_exporter": "python",
   "pygments_lexer": "ipython3",
   "version": "3.9.16"
  }
 },
 "nbformat": 4,
 "nbformat_minor": 5
}
