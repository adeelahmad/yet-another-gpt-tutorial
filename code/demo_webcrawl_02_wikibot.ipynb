{
 "cells": [
  {
   "cell_type": "markdown",
   "id": "0feb4754",
   "metadata": {},
   "source": [
    "### `WikiBot` searching and summaring user queries"
   ]
  },
  {
   "cell_type": "code",
   "execution_count": 1,
   "id": "040163e7",
   "metadata": {},
   "outputs": [
    {
     "name": "stdout",
     "output_type": "stream",
     "text": [
      "Ready.\n"
     ]
    }
   ],
   "source": [
    "import os\n",
    "from gpt_helper import set_openai_api_key_from_txt,GPTchatClass,printmd\n",
    "from wiki_helper import wiki_search\n",
    "from util import printmd\n",
    "print (\"Ready.\")"
   ]
  },
  {
   "cell_type": "markdown",
   "id": "12f7cc3e",
   "metadata": {},
   "source": [
    "### Set API Key and Instantiate GPT Agent"
   ]
  },
  {
   "cell_type": "code",
   "execution_count": 2,
   "id": "b17d6584",
   "metadata": {},
   "outputs": [
    {
     "name": "stdout",
     "output_type": "stream",
     "text": [
      "OpenAI API Key Ready from [../key/rilab_key.txt].\n",
      "Chat agent using [gpt-3.5-turbo] initialized with the follow role:[Your are a helpful assistant summarizing infromation and answering user queries.]\n"
     ]
    }
   ],
   "source": [
    "set_openai_api_key_from_txt(key_path='../key/rilab_key.txt')\n",
    "GPT = GPTchatClass(\n",
    "    gpt_model='gpt-3.5-turbo',\n",
    "    role_msg='Your are a helpful assistant summarizing infromation and answering user queries.')"
   ]
  },
  {
   "cell_type": "markdown",
   "id": "7fec5733",
   "metadata": {},
   "source": [
    "### Query sentence"
   ]
  },
  {
   "cell_type": "code",
   "execution_count": 3,
   "id": "7f00b562",
   "metadata": {},
   "outputs": [
    {
     "name": "stdout",
     "output_type": "stream",
     "text": [
      "entity:[Could you explain the behavior of a stubborn person?]\n"
     ]
    }
   ],
   "source": [
    "# entity = \"President of South Korea\"\n",
    "entity = \"Could you explain the behavior of a stubborn person?\"\n",
    "print (\"entity:[%s]\"%(entity))"
   ]
  },
  {
   "cell_type": "code",
   "execution_count": 4,
   "id": "e85659b2",
   "metadata": {},
   "outputs": [
    {
     "name": "stdout",
     "output_type": "stream",
     "text": [
      "entity:[Could you explain the behavior of a stubborn person?] mismatched. use [Tantrum] instead.\n",
      " We have total [53] paragraphs.\n",
      " After filtering, we have [15] and [8] paragraphs returned (k:[5] and m:[3])\n"
     ]
    }
   ],
   "source": [
    "paragraphs_return = wiki_search(entity=entity,VERBOSE=True)"
   ]
  },
  {
   "cell_type": "markdown",
   "id": "9c61668a",
   "metadata": {},
   "source": [
    "### Summarize each paragraph using `GPT`"
   ]
  },
  {
   "cell_type": "code",
   "execution_count": 6,
   "id": "096e1081",
   "metadata": {
    "scrolled": false
   },
   "outputs": [
    {
     "data": {
      "text/markdown": [
       "A tantrum is an emotional outburst, usually associated with those in distress, characterized by stubbornness, crying, screaming, violence, defiance, angry ranting, a resistance to pacification, and potentially hitting or other physically violent behavior, which may result in consequences such as detention or suspension."
      ],
      "text/plain": [
       "<IPython.core.display.Markdown object>"
      ]
     },
     "metadata": {},
     "output_type": "display_data"
    },
    {
     "data": {
      "text/markdown": [
       "Tantrums are common in young children and tend to decrease as they grow older, while for toddlers, tantrums can be seen as normal and indicators of character development."
      ],
      "text/plain": [
       "<IPython.core.display.Markdown object>"
      ]
     },
     "metadata": {},
     "output_type": "display_data"
    },
    {
     "data": {
      "text/markdown": [
       "Tantrums can be seen as a predictor of future anti-social behavior, but they are also an age-appropriate sign of frustration and will diminish over time with calm and consistent handling, with the focus on parental containment rather than the child's demands."
      ],
      "text/plain": [
       "<IPython.core.display.Markdown object>"
      ]
     },
     "metadata": {},
     "output_type": "display_data"
    },
    {
     "data": {
      "text/markdown": [
       "Selma Fraiberg cautions that excessive external control and pressure in child-rearing can lead to defiance, tantrums, and rebellion."
      ],
      "text/plain": [
       "<IPython.core.display.Markdown object>"
      ]
     },
     "metadata": {},
     "output_type": "display_data"
    },
    {
     "data": {
      "text/markdown": [
       "Certain individuals with developmental disorders, brain damage, or sensory overload may be more susceptible to tantrums, although tantrums can occur in anyone regardless of age or gender; it is important to note that a meltdown caused by sensory overload is not the same as a temper tantrum."
      ],
      "text/plain": [
       "<IPython.core.display.Markdown object>"
      ]
     },
     "metadata": {},
     "output_type": "display_data"
    },
    {
     "data": {
      "text/markdown": [
       "Freud believed that the Wolf Man's temper tantrums were caused by his seduction by his sister, which resulted in feelings of guilt and a need for punishment that he thought could be applied to other cases of childhood tantrums."
      ],
      "text/plain": [
       "<IPython.core.display.Markdown object>"
      ]
     },
     "metadata": {},
     "output_type": "display_data"
    },
    {
     "data": {
      "text/markdown": [
       "Heinz Kohut asserted that a baby's inner self includes a self-centered and exhibitionist aspect, and tantrums when frustrated are expressions of narcissistic anger stemming from a wounded self-image due to a refusal that challenges their sense of power and control."
      ],
      "text/plain": [
       "<IPython.core.display.Markdown object>"
      ]
     },
     "metadata": {},
     "output_type": "display_data"
    },
    {
     "data": {
      "text/markdown": [
       "Heinz Kohut believed that tantrums were caused by the frustration of a child's grandiose-exhibitionist core, leading to anger and a blow to their inflated self-image."
      ],
      "text/plain": [
       "<IPython.core.display.Markdown object>"
      ]
     },
     "metadata": {},
     "output_type": "display_data"
    }
   ],
   "source": [
    "for p_idx,p in enumerate(paragraphs_return):\n",
    "    user_msg = \"Could you summarize the following paragraph into one setence? \\n \"+p\n",
    "    response_content = GPT.chat(\n",
    "        user_msg=user_msg,PRINT_USER_MSG=False,PRINT_GPT_OUTPUT=False,\n",
    "        RESET_CHAT=True,RETURN_RESPONSE=True)\n",
    "    # Print summarized sentence with a markdown format\n",
    "    printmd(response_content)"
   ]
  },
  {
   "cell_type": "code",
   "execution_count": null,
   "id": "078f3742",
   "metadata": {},
   "outputs": [],
   "source": []
  }
 ],
 "metadata": {
  "kernelspec": {
   "display_name": "Python 3 (ipykernel)",
   "language": "python",
   "name": "python3"
  },
  "language_info": {
   "codemirror_mode": {
    "name": "ipython",
    "version": 3
   },
   "file_extension": ".py",
   "mimetype": "text/x-python",
   "name": "python",
   "nbconvert_exporter": "python",
   "pygments_lexer": "ipython3",
   "version": "3.9.16"
  }
 },
 "nbformat": 4,
 "nbformat_minor": 5
}
