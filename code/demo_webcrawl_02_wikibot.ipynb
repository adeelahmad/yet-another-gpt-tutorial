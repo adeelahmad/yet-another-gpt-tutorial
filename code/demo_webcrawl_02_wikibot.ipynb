{
 "cells": [
  {
   "cell_type": "markdown",
   "id": "0feb4754",
   "metadata": {},
   "source": [
    "### `WikiBot` searching and summaring user queries"
   ]
  },
  {
   "cell_type": "code",
   "execution_count": 1,
   "id": "040163e7",
   "metadata": {},
   "outputs": [
    {
     "name": "stdout",
     "output_type": "stream",
     "text": [
      "Ready.\n"
     ]
    }
   ],
   "source": [
    "import os\n",
    "from gpt_helper import set_openai_api_key_from_txt,GPTchatClass,printmd\n",
    "from wiki_helper import wiki_search\n",
    "from util import printmd\n",
    "print (\"Ready.\")"
   ]
  },
  {
   "cell_type": "markdown",
   "id": "12f7cc3e",
   "metadata": {},
   "source": [
    "### Set API Key and Instantiate GPT Agent"
   ]
  },
  {
   "cell_type": "code",
   "execution_count": 2,
   "id": "b17d6584",
   "metadata": {},
   "outputs": [
    {
     "name": "stdout",
     "output_type": "stream",
     "text": [
      "OpenAI API Key Ready from [../key/rilab_key.txt].\n",
      "Chat agent using [gpt-3.5-turbo] initialized with the follow role:[Your are a helpful assistant summarizing infromation and answering user queries.]\n"
     ]
    }
   ],
   "source": [
    "set_openai_api_key_from_txt(key_path='../key/rilab_key.txt')\n",
    "GPT = GPTchatClass(\n",
    "    gpt_model='gpt-3.5-turbo',\n",
    "    role_msg='Your are a helpful assistant summarizing infromation and answering user queries.')"
   ]
  },
  {
   "cell_type": "markdown",
   "id": "7fec5733",
   "metadata": {},
   "source": [
    "### Query sentence"
   ]
  },
  {
   "cell_type": "code",
   "execution_count": 3,
   "id": "7f00b562",
   "metadata": {},
   "outputs": [
    {
     "name": "stdout",
     "output_type": "stream",
     "text": [
      "entity:[President of South Korea]\n"
     ]
    }
   ],
   "source": [
    "entity = \"President of South Korea\"\n",
    "print (\"entity:[%s]\"%(entity))"
   ]
  },
  {
   "cell_type": "code",
   "execution_count": 4,
   "id": "e85659b2",
   "metadata": {},
   "outputs": [
    {
     "name": "stdout",
     "output_type": "stream",
     "text": [
      "entity:[President of South Korea] matched.\n",
      " We have total [358] paragraphs.\n",
      " After filtering, we have [31] and [8] paragraphs returned (k:[5] and m:[3])\n"
     ]
    }
   ],
   "source": [
    "paragraphs_return = wiki_search(entity=\"President of South Korea\",VERBOSE=True)"
   ]
  },
  {
   "cell_type": "markdown",
   "id": "9c61668a",
   "metadata": {},
   "source": [
    "### Summarize each paragraph using `GPT`"
   ]
  },
  {
   "cell_type": "code",
   "execution_count": 5,
   "id": "096e1081",
   "metadata": {},
   "outputs": [
    {
     "data": {
      "text/markdown": [
       "The president of South Korea is the head of state, government, and the commander-in-chief of the armed forces."
      ],
      "text/plain": [
       "<IPython.core.display.Markdown object>"
      ]
     },
     "metadata": {},
     "output_type": "display_data"
    },
    {
     "data": {
      "text/markdown": [
       "The Constitution and the amended Presidential Election Act of 1987 allow for the direct election of a president for a five-year term, without the possibility of re-election, and in the case of a vacancy, a successor must be elected within sixty days."
      ],
      "text/plain": [
       "<IPython.core.display.Markdown object>"
      ]
     },
     "metadata": {},
     "output_type": "display_data"
    },
    {
     "data": {
      "text/markdown": [
       "Yoon Suk Yeol, a former prosecutor general and member of the conservative People Power Party, became the president of South Korea on May 10, 2022, after winning a narrow victory in the 2022 presidential election."
      ],
      "text/plain": [
       "<IPython.core.display.Markdown object>"
      ]
     },
     "metadata": {},
     "output_type": "display_data"
    },
    {
     "data": {
      "text/markdown": [
       "The Provisional Government of the Republic of Korea, established in Shanghai in 1919, was recognized by South Korea and played a crucial role in coordinating Korean resistance against Japanese occupation."
      ],
      "text/plain": [
       "<IPython.core.display.Markdown object>"
      ]
     },
     "metadata": {},
     "output_type": "display_data"
    },
    {
     "data": {
      "text/markdown": [
       "Since 1988, the presidential term has been set at five years and the president is no longer allowed to be re-elected."
      ],
      "text/plain": [
       "<IPython.core.display.Markdown object>"
      ]
     },
     "metadata": {},
     "output_type": "display_data"
    },
    {
     "data": {
      "text/markdown": [
       "The 1987 Constitution removed explicit provisions from the 1980 Constitution that allowed the government to temporarily suspend people's freedoms and rights; however, the president can still take measures to amend or abolish laws during a crisis, which may or may not temporarily suspend parts of the Constitution itself, but these emergency measures must be approved by the National Assembly, and if not endorsed, they can be revoked, with any overridden laws regaining their original effect, and unlike the 1980 Constitution, the 1987 Constitution does not allow the president to dissolve the National Assembly."
      ],
      "text/plain": [
       "<IPython.core.display.Markdown object>"
      ]
     },
     "metadata": {},
     "output_type": "display_data"
    },
    {
     "data": {
      "text/markdown": [
       "The constitutional organs, such as the National Security Council and Peaceful Unification Advisory Council, provided advice on national security and served as government sounding boards with titles and meeting opportunities for dignitaries and officials."
      ],
      "text/plain": [
       "<IPython.core.display.Markdown object>"
      ]
     },
     "metadata": {},
     "output_type": "display_data"
    },
    {
     "data": {
      "text/markdown": [
       "The controversial Advisory Council of Elder Statesmen, created just before Roh Tae Woo became president, was seen as a way to maintain influence for a specific individual, but plans to reduce its size and functions were announced after Roh's inauguration, and suspicions that it would provide power for former President Chun were irrelevant when he withdrew from public life."
      ],
      "text/plain": [
       "<IPython.core.display.Markdown object>"
      ]
     },
     "metadata": {},
     "output_type": "display_data"
    }
   ],
   "source": [
    "for p_idx,p in enumerate(paragraphs_return):\n",
    "    user_msg = \"Could you summarize the following paragraph into one setence? \\n \"+p\n",
    "    response_content = GPT.chat(\n",
    "        user_msg=user_msg,PRINT_USER_MSG=False,PRINT_GPT_OUTPUT=False,\n",
    "        RESET_CHAT=True,RETURN_RESPONSE=True)\n",
    "    # Print summarized sentence with a markdown format\n",
    "    printmd(response_content)"
   ]
  },
  {
   "cell_type": "code",
   "execution_count": null,
   "id": "078f3742",
   "metadata": {},
   "outputs": [],
   "source": []
  }
 ],
 "metadata": {
  "kernelspec": {
   "display_name": "Python 3 (ipykernel)",
   "language": "python",
   "name": "python3"
  },
  "language_info": {
   "codemirror_mode": {
    "name": "ipython",
    "version": 3
   },
   "file_extension": ".py",
   "mimetype": "text/x-python",
   "name": "python",
   "nbconvert_exporter": "python",
   "pygments_lexer": "ipython3",
   "version": "3.9.16"
  }
 },
 "nbformat": 4,
 "nbformat_minor": 5
}
