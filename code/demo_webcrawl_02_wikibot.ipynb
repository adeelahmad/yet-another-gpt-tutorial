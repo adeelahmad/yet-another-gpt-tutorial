{
 "cells": [
  {
   "cell_type": "markdown",
   "id": "0feb4754",
   "metadata": {},
   "source": [
    "### `WikiBot` searching and summaring user queries"
   ]
  },
  {
   "cell_type": "code",
   "execution_count": 1,
   "id": "040163e7",
   "metadata": {},
   "outputs": [
    {
     "name": "stdout",
     "output_type": "stream",
     "text": [
      "Ready.\n"
     ]
    }
   ],
   "source": [
    "import os\n",
    "from gpt_helper import set_openai_api_key_from_txt,GPTchatClass,printmd\n",
    "from wiki_helper import wiki_search\n",
    "from util import printmd\n",
    "print (\"Ready.\")"
   ]
  },
  {
   "cell_type": "markdown",
   "id": "12f7cc3e",
   "metadata": {},
   "source": [
    "### Set API Key and Instantiate GPT Agent"
   ]
  },
  {
   "cell_type": "code",
   "execution_count": 2,
   "id": "b17d6584",
   "metadata": {},
   "outputs": [
    {
     "name": "stdout",
     "output_type": "stream",
     "text": [
      "OpenAI API Key Ready from [../key/rilab_key.txt].\n",
      "Chat agent using [gpt-3.5-turbo] initialized with the follow role:[Your are a helpful assistant summarizing infromation and answering user queries.]\n"
     ]
    }
   ],
   "source": [
    "set_openai_api_key_from_txt(key_path='../key/rilab_key.txt')\n",
    "GPT = GPTchatClass(\n",
    "    gpt_model='gpt-3.5-turbo',\n",
    "    role_msg='Your are a helpful assistant summarizing infromation and answering user queries.')"
   ]
  },
  {
   "cell_type": "markdown",
   "id": "7fec5733",
   "metadata": {},
   "source": [
    "### Query sentence"
   ]
  },
  {
   "cell_type": "code",
   "execution_count": 3,
   "id": "7f00b562",
   "metadata": {},
   "outputs": [
    {
     "name": "stdout",
     "output_type": "stream",
     "text": [
      "entity:[Could you explain the behavior of a stubborn person?]\n"
     ]
    }
   ],
   "source": [
    "# entity = \"President of South Korea\"\n",
    "entity = \"Could you explain the behavior of a stubborn person?\"\n",
    "print (\"entity:[%s]\"%(entity))"
   ]
  },
  {
   "cell_type": "code",
   "execution_count": 4,
   "id": "e85659b2",
   "metadata": {},
   "outputs": [
    {
     "name": "stdout",
     "output_type": "stream",
     "text": [
      "entity:[Could you explain the behavior of a stubborn person?] mismatched. use [Tantrum] instead.\n",
      " We have total [51] paragraphs.\n",
      " After filtering, we have [16] and [8] paragraphs returned (k:[5] and m:[3])\n"
     ]
    }
   ],
   "source": [
    "paragraphs_return = wiki_search(entity=entity,VERBOSE=True)"
   ]
  },
  {
   "cell_type": "markdown",
   "id": "9c61668a",
   "metadata": {},
   "source": [
    "### Summarize each paragraph using `GPT`"
   ]
  },
  {
   "cell_type": "code",
   "execution_count": 5,
   "id": "096e1081",
   "metadata": {
    "scrolled": false
   },
   "outputs": [
    {
     "data": {
      "text/markdown": [
       "A tantrum is an emotional outburst typically characterized by stubbornness, crying, screaming, violence, defiance, and resistance to pacification, which can lead to consequences such as detention or suspension."
      ],
      "text/plain": [
       "<IPython.core.display.Markdown object>"
      ]
     },
     "metadata": {},
     "output_type": "display_data"
    },
    {
     "data": {
      "text/markdown": [
       "Tantrums are common in young children and are considered normal and indicators of character development, but tend to decrease in frequency and intensity as the child ages."
      ],
      "text/plain": [
       "<IPython.core.display.Markdown object>"
      ]
     },
     "metadata": {},
     "output_type": "display_data"
    },
    {
     "data": {
      "text/markdown": [
       "Tantrums can be seen as a sign of excessive frustration and can diminish over time with calm and consistent handling, suggesting that parental containment may be necessary."
      ],
      "text/plain": [
       "<IPython.core.display.Markdown object>"
      ]
     },
     "metadata": {},
     "output_type": "display_data"
    },
    {
     "data": {
      "text/markdown": [
       "Selma Fraiberg cautioned against excessive control in child-rearing, as it can lead to defiant behavior and tantrums."
      ],
      "text/plain": [
       "<IPython.core.display.Markdown object>"
      ]
     },
     "metadata": {},
     "output_type": "display_data"
    },
    {
     "data": {
      "text/markdown": [
       "Certain individuals with developmental disorders or brain damage may be more prone to tantrums, although anyone can experience them regardless of gender or age, but it is important to distinguish between tantrums and meltdowns caused by sensory overload."
      ],
      "text/plain": [
       "<IPython.core.display.Markdown object>"
      ]
     },
     "metadata": {},
     "output_type": "display_data"
    },
    {
     "data": {
      "text/markdown": [
       "Freud believed that the Wolf Man's temper tantrums were a result of his sister seducing him, leading to feelings of guilt and an unconscious need for punishment, a phenomenon that Freud believed could be applicable to other cases of childhood tantrums."
      ],
      "text/plain": [
       "<IPython.core.display.Markdown object>"
      ]
     },
     "metadata": {},
     "output_type": "display_data"
    },
    {
     "data": {
      "text/markdown": [
       "Heinz Kohut argued that the core of a baby's personality is likely to have a self-centered, grandiose, and exhibitionist aspect, and tantrums are a form of narcissistic rage that occurs when the baby's inflated self-image is threatened by frustration from being denied something they want."
      ],
      "text/plain": [
       "<IPython.core.display.Markdown object>"
      ]
     },
     "metadata": {},
     "output_type": "display_data"
    },
    {
     "data": {
      "text/markdown": [
       "Heinz Kohut believed that tantrums were expressions of anger caused by the frustration of a child's grandiose self-image."
      ],
      "text/plain": [
       "<IPython.core.display.Markdown object>"
      ]
     },
     "metadata": {},
     "output_type": "display_data"
    }
   ],
   "source": [
    "for p_idx,p in enumerate(paragraphs_return):\n",
    "    user_msg = \"Could you summarize the following paragraph into one setence? \\n \"+p\n",
    "    response_content = GPT.chat(\n",
    "        user_msg=user_msg,PRINT_USER_MSG=False,PRINT_GPT_OUTPUT=False,\n",
    "        RESET_CHAT=True,RETURN_RESPONSE=True)\n",
    "    # Print summarized sentence with a markdown format\n",
    "    printmd(response_content)"
   ]
  },
  {
   "cell_type": "code",
   "execution_count": null,
   "id": "078f3742",
   "metadata": {},
   "outputs": [],
   "source": []
  }
 ],
 "metadata": {
  "kernelspec": {
   "display_name": "Python 3 (ipykernel)",
   "language": "python",
   "name": "python3"
  },
  "language_info": {
   "codemirror_mode": {
    "name": "ipython",
    "version": 3
   },
   "file_extension": ".py",
   "mimetype": "text/x-python",
   "name": "python",
   "nbconvert_exporter": "python",
   "pygments_lexer": "ipython3",
   "version": "3.9.16"
  }
 },
 "nbformat": 4,
 "nbformat_minor": 5
}
