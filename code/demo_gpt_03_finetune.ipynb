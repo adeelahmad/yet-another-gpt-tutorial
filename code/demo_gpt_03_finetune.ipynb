{
 "cells": [
  {
   "cell_type": "markdown",
   "id": "af5d9184",
   "metadata": {},
   "source": [
    "### Fine-tune GPT"
   ]
  },
  {
   "cell_type": "code",
   "execution_count": 1,
   "id": "b2c46c31",
   "metadata": {},
   "outputs": [
    {
     "name": "stdout",
     "output_type": "stream",
     "text": [
      "OpenAI package version:0.28.0\n"
     ]
    }
   ],
   "source": [
    "import json\n",
    "import openai\n",
    "import time, random\n",
    "from datasets import load_dataset\n",
    "print (\"OpenAI package version:%s\"%(openai.__version__))"
   ]
  },
  {
   "cell_type": "markdown",
   "id": "71a68cf4",
   "metadata": {},
   "source": [
    "### Load data from Hugging Face Datasets"
   ]
  },
  {
   "cell_type": "code",
   "execution_count": 2,
   "id": "771dc225",
   "metadata": {},
   "outputs": [],
   "source": [
    "dataset = load_dataset(path=\"nguha/legalbench\",name=\"nys_judicial_ethics\")"
   ]
  },
  {
   "cell_type": "code",
   "execution_count": 3,
   "id": "ac5a6b9c",
   "metadata": {},
   "outputs": [
    {
     "data": {
      "text/html": [
       "<div>\n",
       "<style scoped>\n",
       "    .dataframe tbody tr th:only-of-type {\n",
       "        vertical-align: middle;\n",
       "    }\n",
       "\n",
       "    .dataframe tbody tr th {\n",
       "        vertical-align: top;\n",
       "    }\n",
       "\n",
       "    .dataframe thead th {\n",
       "        text-align: right;\n",
       "    }\n",
       "</style>\n",
       "<table border=\"1\" class=\"dataframe\">\n",
       "  <thead>\n",
       "    <tr style=\"text-align: right;\">\n",
       "      <th></th>\n",
       "      <th>answer</th>\n",
       "      <th>index</th>\n",
       "      <th>question</th>\n",
       "      <th>year</th>\n",
       "    </tr>\n",
       "  </thead>\n",
       "  <tbody>\n",
       "    <tr>\n",
       "      <th>0</th>\n",
       "      <td>No</td>\n",
       "      <td>0</td>\n",
       "      <td>If a judge reports an attorney for a substanti...</td>\n",
       "      <td>2010</td>\n",
       "    </tr>\n",
       "    <tr>\n",
       "      <th>1</th>\n",
       "      <td>No</td>\n",
       "      <td>1</td>\n",
       "      <td>Does a village justice need to disqualify them...</td>\n",
       "      <td>2010</td>\n",
       "    </tr>\n",
       "    <tr>\n",
       "      <th>2</th>\n",
       "      <td>No</td>\n",
       "      <td>2</td>\n",
       "      <td>Is a judge required to disclose their former e...</td>\n",
       "      <td>2010</td>\n",
       "    </tr>\n",
       "    <tr>\n",
       "      <th>3</th>\n",
       "      <td>No</td>\n",
       "      <td>3</td>\n",
       "      <td>Is it prohibited for a part-time judge who pra...</td>\n",
       "      <td>2010</td>\n",
       "    </tr>\n",
       "    <tr>\n",
       "      <th>4</th>\n",
       "      <td>Yes</td>\n",
       "      <td>4</td>\n",
       "      <td>Can a judge appear monthly on a local televisi...</td>\n",
       "      <td>2010</td>\n",
       "    </tr>\n",
       "    <tr>\n",
       "      <th>5</th>\n",
       "      <td>Yes</td>\n",
       "      <td>5</td>\n",
       "      <td>Is a judge required to report an attorney to t...</td>\n",
       "      <td>2010</td>\n",
       "    </tr>\n",
       "    <tr>\n",
       "      <th>6</th>\n",
       "      <td>Yes</td>\n",
       "      <td>6</td>\n",
       "      <td>Is a judge required to take appropriate action...</td>\n",
       "      <td>2010</td>\n",
       "    </tr>\n",
       "    <tr>\n",
       "      <th>7</th>\n",
       "      <td>Yes</td>\n",
       "      <td>7</td>\n",
       "      <td>Can a judge appoint a qualified former law cle...</td>\n",
       "      <td>2010</td>\n",
       "    </tr>\n",
       "  </tbody>\n",
       "</table>\n",
       "</div>"
      ],
      "text/plain": [
       "  answer index                                           question  year\n",
       "0     No     0  If a judge reports an attorney for a substanti...  2010\n",
       "1     No     1  Does a village justice need to disqualify them...  2010\n",
       "2     No     2  Is a judge required to disclose their former e...  2010\n",
       "3     No     3  Is it prohibited for a part-time judge who pra...  2010\n",
       "4    Yes     4  Can a judge appear monthly on a local televisi...  2010\n",
       "5    Yes     5  Is a judge required to report an attorney to t...  2010\n",
       "6    Yes     6  Is a judge required to take appropriate action...  2010\n",
       "7    Yes     7  Can a judge appoint a qualified former law cle...  2010"
      ]
     },
     "execution_count": 3,
     "metadata": {},
     "output_type": "execute_result"
    }
   ],
   "source": [
    "dataset[\"train\"].to_pandas()"
   ]
  },
  {
   "cell_type": "code",
   "execution_count": 4,
   "id": "0b1a8de0",
   "metadata": {},
   "outputs": [
    {
     "data": {
      "text/html": [
       "<div>\n",
       "<style scoped>\n",
       "    .dataframe tbody tr th:only-of-type {\n",
       "        vertical-align: middle;\n",
       "    }\n",
       "\n",
       "    .dataframe tbody tr th {\n",
       "        vertical-align: top;\n",
       "    }\n",
       "\n",
       "    .dataframe thead th {\n",
       "        text-align: right;\n",
       "    }\n",
       "</style>\n",
       "<table border=\"1\" class=\"dataframe\">\n",
       "  <thead>\n",
       "    <tr style=\"text-align: right;\">\n",
       "      <th></th>\n",
       "      <th>answer</th>\n",
       "      <th>index</th>\n",
       "      <th>question</th>\n",
       "      <th>year</th>\n",
       "    </tr>\n",
       "  </thead>\n",
       "  <tbody>\n",
       "    <tr>\n",
       "      <th>0</th>\n",
       "      <td>Yes</td>\n",
       "      <td>0</td>\n",
       "      <td>Is a judge required to disclose a former law c...</td>\n",
       "      <td>2010</td>\n",
       "    </tr>\n",
       "    <tr>\n",
       "      <th>1</th>\n",
       "      <td>Yes</td>\n",
       "      <td>1</td>\n",
       "      <td>Can the names of judges who are members of a b...</td>\n",
       "      <td>2010</td>\n",
       "    </tr>\n",
       "    <tr>\n",
       "      <th>2</th>\n",
       "      <td>Yes</td>\n",
       "      <td>2</td>\n",
       "      <td>Should the judge disqualify themselves from a ...</td>\n",
       "      <td>2010</td>\n",
       "    </tr>\n",
       "    <tr>\n",
       "      <th>3</th>\n",
       "      <td>Yes</td>\n",
       "      <td>3</td>\n",
       "      <td>Should a judge disqualify themselves from all ...</td>\n",
       "      <td>2010</td>\n",
       "    </tr>\n",
       "    <tr>\n",
       "      <th>4</th>\n",
       "      <td>No</td>\n",
       "      <td>4</td>\n",
       "      <td>Can a judge designate the traffic court clerk ...</td>\n",
       "      <td>2010</td>\n",
       "    </tr>\n",
       "    <tr>\n",
       "      <th>...</th>\n",
       "      <td>...</td>\n",
       "      <td>...</td>\n",
       "      <td>...</td>\n",
       "      <td>...</td>\n",
       "    </tr>\n",
       "    <tr>\n",
       "      <th>287</th>\n",
       "      <td>Yes</td>\n",
       "      <td>287</td>\n",
       "      <td>Is it permissible for the inquirer to share et...</td>\n",
       "      <td>2021</td>\n",
       "    </tr>\n",
       "    <tr>\n",
       "      <th>288</th>\n",
       "      <td>Yes</td>\n",
       "      <td>288</td>\n",
       "      <td>Can a part-time lawyer judge who was assigned ...</td>\n",
       "      <td>2021</td>\n",
       "    </tr>\n",
       "    <tr>\n",
       "      <th>289</th>\n",
       "      <td>No</td>\n",
       "      <td>289</td>\n",
       "      <td>Can a part-time lawyer judge ordinarily appear...</td>\n",
       "      <td>2021</td>\n",
       "    </tr>\n",
       "    <tr>\n",
       "      <th>290</th>\n",
       "      <td>No</td>\n",
       "      <td>290</td>\n",
       "      <td>Can a practicing part-time lawyer judge repres...</td>\n",
       "      <td>2021</td>\n",
       "    </tr>\n",
       "    <tr>\n",
       "      <th>291</th>\n",
       "      <td>Yes</td>\n",
       "      <td>291</td>\n",
       "      <td>Is it permissible for a village justice to sen...</td>\n",
       "      <td>2021</td>\n",
       "    </tr>\n",
       "  </tbody>\n",
       "</table>\n",
       "<p>292 rows × 4 columns</p>\n",
       "</div>"
      ],
      "text/plain": [
       "    answer index                                           question  year\n",
       "0      Yes     0  Is a judge required to disclose a former law c...  2010\n",
       "1      Yes     1  Can the names of judges who are members of a b...  2010\n",
       "2      Yes     2  Should the judge disqualify themselves from a ...  2010\n",
       "3      Yes     3  Should a judge disqualify themselves from all ...  2010\n",
       "4       No     4  Can a judge designate the traffic court clerk ...  2010\n",
       "..     ...   ...                                                ...   ...\n",
       "287    Yes   287  Is it permissible for the inquirer to share et...  2021\n",
       "288    Yes   288  Can a part-time lawyer judge who was assigned ...  2021\n",
       "289     No   289  Can a part-time lawyer judge ordinarily appear...  2021\n",
       "290     No   290  Can a practicing part-time lawyer judge repres...  2021\n",
       "291    Yes   291  Is it permissible for a village justice to sen...  2021\n",
       "\n",
       "[292 rows x 4 columns]"
      ]
     },
     "execution_count": 4,
     "metadata": {},
     "output_type": "execute_result"
    }
   ],
   "source": [
    "dataset['test'].to_pandas()"
   ]
  },
  {
   "cell_type": "markdown",
   "id": "a1dd9a7c",
   "metadata": {},
   "source": [
    "### Since the nunber of training set is too small, we'll use test set"
   ]
  },
  {
   "cell_type": "code",
   "execution_count": 5,
   "id": "8a80e08e",
   "metadata": {},
   "outputs": [],
   "source": [
    "NUM_TRAIN      = 10\n",
    "NUM_VALIDATION = 5"
   ]
  },
  {
   "cell_type": "code",
   "execution_count": 6,
   "id": "f0e7a9cb",
   "metadata": {},
   "outputs": [],
   "source": [
    "base_text = \"\"\"\n",
    "Imagine your are the New York State Unified Court System Advisory Committee on Judicial Ethics. You've received the following question(s). Answer them as either \"Yes\" or \"No\".\n",
    "\"\"\""
   ]
  },
  {
   "cell_type": "code",
   "execution_count": 7,
   "id": "1f5ff46f",
   "metadata": {},
   "outputs": [
    {
     "name": "stdout",
     "output_type": "stream",
     "text": [
      "[../data/legalbench_nys_judicial_ethics_train.json1] saved.\n",
      "[../data/legalbench_nys_judicial_ethics_validation.json1] saved.\n"
     ]
    }
   ],
   "source": [
    "train_jsonl_path = '../data/legalbench_nys_judicial_ethics_train.json1'\n",
    "validation_jsonl_path  = '../data/legalbench_nys_judicial_ethics_validation.json1'\n",
    "with open(train_jsonl_path, 'w') as f:\n",
    "    for i in range(NUM_TRAIN):\n",
    "        data = dataset['test'][i]\n",
    "        line = {\"messages\": [{\"role\": \"system\", \"content\": base_text}, \n",
    "                    {\"role\": \"user\", \"content\": \"Question: \" + data['question']},\n",
    "                    {\"role\": \"assistant\", \"content\": \"Answer: \" + data['answer']}]}\n",
    "        f.write(json.dumps(line) + '\\n')\n",
    "\n",
    "with open(validation_jsonl_path, 'w') as f:\n",
    "    for i in range(NUM_TRAIN,NUM_TRAIN+NUM_VALIDATION):\n",
    "        data = dataset['test'][i]\n",
    "        line = {\"messages\": [{\"role\": \"system\", \"content\": base_text}, \n",
    "                    {\"role\": \"user\", \"content\": \"Question: \" + data['question']},\n",
    "                    {\"role\": \"assistant\", \"content\": \"Answer: \" + data['answer']}]}\n",
    "        f.write(json.dumps(line) + '\\n')\n",
    "print (\"[%s] saved.\"%(train_jsonl_path))\n",
    "print (\"[%s] saved.\"%(validation_jsonl_path))"
   ]
  },
  {
   "cell_type": "markdown",
   "id": "0ec2d77b",
   "metadata": {},
   "source": [
    "### Locate the key"
   ]
  },
  {
   "cell_type": "code",
   "execution_count": 8,
   "id": "6bf3cc86",
   "metadata": {},
   "outputs": [
    {
     "name": "stdout",
     "output_type": "stream",
     "text": [
      "key_path:[../key/rilab_key.txt]\n"
     ]
    }
   ],
   "source": [
    "key_path = '../key/rilab_key.txt'\n",
    "print ('key_path:[%s]'%(key_path))"
   ]
  },
  {
   "cell_type": "code",
   "execution_count": 9,
   "id": "c58a7f65",
   "metadata": {},
   "outputs": [],
   "source": [
    "with open(key_path, 'r') as f: OPENAI_API_KEY = f.read()\n",
    "openai.api_key = OPENAI_API_KEY"
   ]
  },
  {
   "cell_type": "markdown",
   "id": "49033284",
   "metadata": {},
   "source": [
    "### Delete existing files (optional)"
   ]
  },
  {
   "cell_type": "code",
   "execution_count": 10,
   "id": "df59a3dd",
   "metadata": {
    "scrolled": true
   },
   "outputs": [
    {
     "name": "stdout",
     "output_type": "stream",
     "text": [
      "{\n",
      "  \"object\": \"file\",\n",
      "  \"id\": \"file-PhLUhZJ5l2VsqnLzXY0RsCpE\",\n",
      "  \"purpose\": \"fine-tune\",\n",
      "  \"filename\": \"file\",\n",
      "  \"bytes\": 5106,\n",
      "  \"created_at\": 1693543712,\n",
      "  \"status\": \"uploaded\",\n",
      "  \"status_details\": null\n",
      "}\n",
      "{\n",
      "  \"object\": \"file\",\n",
      "  \"id\": \"file-WuxpCaSYmkq171yJVWGAGmbR\",\n",
      "  \"purpose\": \"fine-tune-results\",\n",
      "  \"filename\": \"step_metrics.csv\",\n",
      "  \"bytes\": 326,\n",
      "  \"created_at\": 1693545518,\n",
      "  \"status\": \"uploaded\",\n",
      "  \"status_details\": null\n",
      "}\n",
      "{\n",
      "  \"object\": \"file\",\n",
      "  \"id\": \"file-l5WBArbeZ1DKW79pm2USfrCn\",\n",
      "  \"purpose\": \"fine-tune-results\",\n",
      "  \"filename\": \"step_metrics.csv\",\n",
      "  \"bytes\": 327,\n",
      "  \"created_at\": 1693547402,\n",
      "  \"status\": \"uploaded\",\n",
      "  \"status_details\": null\n",
      "}\n",
      "{\n",
      "  \"object\": \"file\",\n",
      "  \"id\": \"file-a3z1jd3Kt5giIVLsxPubxGUH\",\n",
      "  \"purpose\": \"fine-tune\",\n",
      "  \"filename\": \"file\",\n",
      "  \"bytes\": 4841,\n",
      "  \"created_at\": 1693548220,\n",
      "  \"status\": \"processed\",\n",
      "  \"status_details\": null\n",
      "}\n",
      "{\n",
      "  \"object\": \"file\",\n",
      "  \"id\": \"file-LTE83jTd01XEUQ6aiL1iLeuN\",\n",
      "  \"purpose\": \"fine-tune\",\n",
      "  \"filename\": \"file\",\n",
      "  \"bytes\": 2415,\n",
      "  \"created_at\": 1693548234,\n",
      "  \"status\": \"processed\",\n",
      "  \"status_details\": null\n",
      "}\n",
      "{\n",
      "  \"object\": \"file\",\n",
      "  \"id\": \"file-KQDYaX1BlnGQZHhk94Qjy35K\",\n",
      "  \"purpose\": \"fine-tune-results\",\n",
      "  \"filename\": \"step_metrics.csv\",\n",
      "  \"bytes\": 328,\n",
      "  \"created_at\": 1693549011,\n",
      "  \"status\": \"processed\",\n",
      "  \"status_details\": null\n",
      "}\n"
     ]
    }
   ],
   "source": [
    "past_file_lists = openai.File.list()\n",
    "for past_file in past_file_lists['data']:\n",
    "    print (past_file)"
   ]
  },
  {
   "cell_type": "code",
   "execution_count": 11,
   "id": "2dec1ab6",
   "metadata": {
    "scrolled": true
   },
   "outputs": [
    {
     "name": "stdout",
     "output_type": "stream",
     "text": [
      "{\n",
      "  \"object\": \"file\",\n",
      "  \"id\": \"file-a3z1jd3Kt5giIVLsxPubxGUH\",\n",
      "  \"purpose\": \"fine-tune\",\n",
      "  \"filename\": \"file\",\n",
      "  \"bytes\": 4841,\n",
      "  \"created_at\": 1693548220,\n",
      "  \"status\": \"processed\",\n",
      "  \"status_details\": null\n",
      "}\n",
      "{\n",
      "  \"object\": \"file\",\n",
      "  \"id\": \"file-LTE83jTd01XEUQ6aiL1iLeuN\",\n",
      "  \"purpose\": \"fine-tune\",\n",
      "  \"filename\": \"file\",\n",
      "  \"bytes\": 2415,\n",
      "  \"created_at\": 1693548234,\n",
      "  \"status\": \"processed\",\n",
      "  \"status_details\": null\n",
      "}\n",
      "{\n",
      "  \"object\": \"file\",\n",
      "  \"id\": \"file-KQDYaX1BlnGQZHhk94Qjy35K\",\n",
      "  \"purpose\": \"fine-tune-results\",\n",
      "  \"filename\": \"step_metrics.csv\",\n",
      "  \"bytes\": 328,\n",
      "  \"created_at\": 1693549011,\n",
      "  \"status\": \"processed\",\n",
      "  \"status_details\": null\n",
      "}\n"
     ]
    }
   ],
   "source": [
    "past_file_lists = openai.File.list()\n",
    "for past_file in past_file_lists['data']:\n",
    "    idx = past_file['id']\n",
    "    if past_file['status'] == 'processed':\n",
    "        print (past_file)\n",
    "        openai.File.delete(idx)"
   ]
  },
  {
   "cell_type": "code",
   "execution_count": 12,
   "id": "b2787d03",
   "metadata": {
    "scrolled": true
   },
   "outputs": [
    {
     "name": "stdout",
     "output_type": "stream",
     "text": [
      "{\n",
      "  \"object\": \"file\",\n",
      "  \"id\": \"file-l5WBArbeZ1DKW79pm2USfrCn\",\n",
      "  \"purpose\": \"fine-tune-results\",\n",
      "  \"filename\": \"step_metrics.csv\",\n",
      "  \"bytes\": 327,\n",
      "  \"created_at\": 1693547402,\n",
      "  \"status\": \"uploaded\",\n",
      "  \"status_details\": null\n",
      "}\n",
      "{\n",
      "  \"object\": \"file\",\n",
      "  \"id\": \"file-WuxpCaSYmkq171yJVWGAGmbR\",\n",
      "  \"purpose\": \"fine-tune-results\",\n",
      "  \"filename\": \"step_metrics.csv\",\n",
      "  \"bytes\": 326,\n",
      "  \"created_at\": 1693545518,\n",
      "  \"status\": \"uploaded\",\n",
      "  \"status_details\": null\n",
      "}\n",
      "{\n",
      "  \"object\": \"file\",\n",
      "  \"id\": \"file-PhLUhZJ5l2VsqnLzXY0RsCpE\",\n",
      "  \"purpose\": \"fine-tune\",\n",
      "  \"filename\": \"file\",\n",
      "  \"bytes\": 5106,\n",
      "  \"created_at\": 1693543712,\n",
      "  \"status\": \"uploaded\",\n",
      "  \"status_details\": null\n",
      "}\n"
     ]
    }
   ],
   "source": [
    "# Print after deleting files\n",
    "past_file_lists = openai.File.list()\n",
    "for past_file in past_file_lists['data']:\n",
    "    print (past_file)"
   ]
  },
  {
   "cell_type": "markdown",
   "id": "6b4d4b09",
   "metadata": {},
   "source": [
    "### Upload the dataset"
   ]
  },
  {
   "cell_type": "code",
   "execution_count": 13,
   "id": "820ca734",
   "metadata": {},
   "outputs": [],
   "source": [
    "file_train_data = openai.File.create(\n",
    "  file=open(train_jsonl_path, \"rb\"),\n",
    "  purpose='fine-tune'\n",
    ")\n",
    "file_train_data_id = file_train_data.id"
   ]
  },
  {
   "cell_type": "code",
   "execution_count": 14,
   "id": "e7de389f",
   "metadata": {},
   "outputs": [],
   "source": [
    "file_test_data = openai.File.create(\n",
    "  file=open(validation_jsonl_path, \"rb\"),\n",
    "  purpose='fine-tune'\n",
    ")\n",
    "file_test_data_id = file_test_data.id"
   ]
  },
  {
   "cell_type": "code",
   "execution_count": 15,
   "id": "e3f06189",
   "metadata": {
    "scrolled": true
   },
   "outputs": [
    {
     "name": "stdout",
     "output_type": "stream",
     "text": [
      "{\n",
      "  \"object\": \"file\",\n",
      "  \"id\": \"file-WuxpCaSYmkq171yJVWGAGmbR\",\n",
      "  \"purpose\": \"fine-tune-results\",\n",
      "  \"filename\": \"step_metrics.csv\",\n",
      "  \"bytes\": 326,\n",
      "  \"created_at\": 1693545518,\n",
      "  \"status\": \"uploaded\",\n",
      "  \"status_details\": null\n",
      "}\n",
      "{\n",
      "  \"object\": \"file\",\n",
      "  \"id\": \"file-l5WBArbeZ1DKW79pm2USfrCn\",\n",
      "  \"purpose\": \"fine-tune-results\",\n",
      "  \"filename\": \"step_metrics.csv\",\n",
      "  \"bytes\": 327,\n",
      "  \"created_at\": 1693547402,\n",
      "  \"status\": \"uploaded\",\n",
      "  \"status_details\": null\n",
      "}\n",
      "{\n",
      "  \"object\": \"file\",\n",
      "  \"id\": \"file-t4PDvppb0D5qHrU4tHrfumh1\",\n",
      "  \"purpose\": \"fine-tune\",\n",
      "  \"filename\": \"file\",\n",
      "  \"bytes\": 2415,\n",
      "  \"created_at\": 1693554217,\n",
      "  \"status\": \"uploaded\",\n",
      "  \"status_details\": null\n",
      "}\n",
      "{\n",
      "  \"object\": \"file\",\n",
      "  \"id\": \"file-rtZF3Ru65feoLs3eutQJsJ0H\",\n",
      "  \"purpose\": \"fine-tune\",\n",
      "  \"filename\": \"file\",\n",
      "  \"bytes\": 4841,\n",
      "  \"created_at\": 1693554213,\n",
      "  \"status\": \"uploaded\",\n",
      "  \"status_details\": null\n",
      "}\n",
      "{\n",
      "  \"object\": \"file\",\n",
      "  \"id\": \"file-PhLUhZJ5l2VsqnLzXY0RsCpE\",\n",
      "  \"purpose\": \"fine-tune\",\n",
      "  \"filename\": \"file\",\n",
      "  \"bytes\": 5106,\n",
      "  \"created_at\": 1693543712,\n",
      "  \"status\": \"uploaded\",\n",
      "  \"status_details\": null\n",
      "}\n"
     ]
    }
   ],
   "source": [
    "# Print after deleting files\n",
    "past_file_lists = openai.File.list()\n",
    "for past_file in past_file_lists['data']:\n",
    "    print (past_file)"
   ]
  },
  {
   "cell_type": "markdown",
   "id": "df7135bd",
   "metadata": {},
   "source": [
    "### Wait for your data to be processed"
   ]
  },
  {
   "cell_type": "code",
   "execution_count": 16,
   "id": "7bbc71ba",
   "metadata": {},
   "outputs": [
    {
     "name": "stdout",
     "output_type": "stream",
     "text": [
      "0 file-PhLUhZJ5l2VsqnLzXY0RsCpE uploaded\n",
      "1 file-WuxpCaSYmkq171yJVWGAGmbR uploaded\n",
      "2 file-l5WBArbeZ1DKW79pm2USfrCn uploaded\n",
      "3 file-rtZF3Ru65feoLs3eutQJsJ0H processed\n",
      "4 file-t4PDvppb0D5qHrU4tHrfumh1 processed\n",
      "Ready.\n"
     ]
    }
   ],
   "source": [
    "while True:\n",
    "    files = openai.File.list()\n",
    "    completed = True\n",
    "    for f_idx,file in enumerate(files['data']):\n",
    "        print(f_idx,file['id'], file['status'])\n",
    "        if file['id'] == file_train_data_id or file['id'] == file_test_data_id:\n",
    "            processed = (file['status'] == 'processed')\n",
    "            completed = completed and processed\n",
    "    if completed:\n",
    "        break\n",
    "    time.sleep(seconds=10)\n",
    "print (\"Ready.\")"
   ]
  },
  {
   "cell_type": "markdown",
   "id": "216ea95d",
   "metadata": {},
   "source": [
    "### Cancel running models (optional)"
   ]
  },
  {
   "cell_type": "code",
   "execution_count": 17,
   "id": "f6da91ed",
   "metadata": {},
   "outputs": [
    {
     "name": "stdout",
     "output_type": "stream",
     "text": [
      "ftjob-o3N7MRwfHtLXgvyheaO7pEHr succeeded\n",
      "ftjob-FyMhJGWK7LaGlu94NuAadINS cancelled\n",
      "ftjob-QcdcVVyLjBabDRhESarNTCpm succeeded\n",
      "ftjob-fhipvS2c2q7G3t4s7CLQGgDH succeeded\n",
      "ftjob-gNALz0Stw06p7e0NeI0isSAO succeeded\n",
      "ftjob-DAZc9L3aEKg1mNY2zFmpgdhv succeeded\n"
     ]
    }
   ],
   "source": [
    "# List 10 fine-tuning jobs\n",
    "jobs = openai.FineTuningJob.list(limit=10)\n",
    "jobs = jobs['data']\n",
    "for job in jobs:\n",
    "    print(job['id'], job['status'])\n",
    "    job_id = job['id']\n",
    "    completed = job['status'] != 'running'\n",
    "    if not completed:\n",
    "        # Cancel a job\n",
    "        openai.FineTuningJob.cancel(job_id)"
   ]
  },
  {
   "cell_type": "markdown",
   "id": "26dc2b3a",
   "metadata": {},
   "source": [
    "### Start fine-tuning"
   ]
  },
  {
   "cell_type": "code",
   "execution_count": 18,
   "id": "e3564af7",
   "metadata": {
    "scrolled": true
   },
   "outputs": [
    {
     "name": "stdout",
     "output_type": "stream",
     "text": [
      "Ready.\n"
     ]
    }
   ],
   "source": [
    "current_job = openai.FineTuningJob.create(\n",
    "    training_file=file_train_data_id, model=\"gpt-3.5-turbo\",\n",
    "    validation_file=file_test_data_id, hyperparameters={\"n_epochs\":1, })\n",
    "print (\"Ready.\")"
   ]
  },
  {
   "cell_type": "code",
   "execution_count": 19,
   "id": "531e2f8d",
   "metadata": {},
   "outputs": [
    {
     "data": {
      "text/plain": [
       "<OpenAIObject list at 0x127f64680> JSON: {\n",
       "  \"object\": \"list\",\n",
       "  \"data\": [\n",
       "    {\n",
       "      \"object\": \"fine_tuning.job\",\n",
       "      \"id\": \"ftjob-TxmbAGAFPoNgDwGdNr9kM7FJ\",\n",
       "      \"model\": \"gpt-3.5-turbo-0613\",\n",
       "      \"created_at\": 1693554274,\n",
       "      \"finished_at\": null,\n",
       "      \"fine_tuned_model\": null,\n",
       "      \"organization_id\": \"org-bT1bA6ExTcdQphsyv85F0j6z\",\n",
       "      \"result_files\": [],\n",
       "      \"status\": \"running\",\n",
       "      \"validation_file\": \"file-t4PDvppb0D5qHrU4tHrfumh1\",\n",
       "      \"training_file\": \"file-rtZF3Ru65feoLs3eutQJsJ0H\",\n",
       "      \"hyperparameters\": {\n",
       "        \"n_epochs\": 1\n",
       "      },\n",
       "      \"trained_tokens\": null\n",
       "    },\n",
       "    {\n",
       "      \"object\": \"fine_tuning.job\",\n",
       "      \"id\": \"ftjob-o3N7MRwfHtLXgvyheaO7pEHr\",\n",
       "      \"model\": \"gpt-3.5-turbo-0613\",\n",
       "      \"created_at\": 1693548543,\n",
       "      \"finished_at\": 1693549009,\n",
       "      \"fine_tuned_model\": \"ft:gpt-3.5-turbo-0613:korea-university::7trkYzgO\",\n",
       "      \"organization_id\": \"org-bT1bA6ExTcdQphsyv85F0j6z\",\n",
       "      \"result_files\": [\n",
       "        \"file-KQDYaX1BlnGQZHhk94Qjy35K\"\n",
       "      ],\n",
       "      \"status\": \"succeeded\",\n",
       "      \"validation_file\": \"file-LTE83jTd01XEUQ6aiL1iLeuN\",\n",
       "      \"training_file\": \"file-a3z1jd3Kt5giIVLsxPubxGUH\",\n",
       "      \"hyperparameters\": {\n",
       "        \"n_epochs\": 1\n",
       "      },\n",
       "      \"trained_tokens\": 831\n",
       "    },\n",
       "    {\n",
       "      \"object\": \"fine_tuning.job\",\n",
       "      \"id\": \"ftjob-FyMhJGWK7LaGlu94NuAadINS\",\n",
       "      \"model\": \"gpt-3.5-turbo-0613\",\n",
       "      \"created_at\": 1693548511,\n",
       "      \"finished_at\": null,\n",
       "      \"fine_tuned_model\": null,\n",
       "      \"organization_id\": \"org-bT1bA6ExTcdQphsyv85F0j6z\",\n",
       "      \"result_files\": [],\n",
       "      \"status\": \"cancelled\",\n",
       "      \"validation_file\": \"file-LTE83jTd01XEUQ6aiL1iLeuN\",\n",
       "      \"training_file\": \"file-a3z1jd3Kt5giIVLsxPubxGUH\",\n",
       "      \"hyperparameters\": {\n",
       "        \"n_epochs\": 1\n",
       "      },\n",
       "      \"trained_tokens\": null\n",
       "    },\n",
       "    {\n",
       "      \"object\": \"fine_tuning.job\",\n",
       "      \"id\": \"ftjob-QcdcVVyLjBabDRhESarNTCpm\",\n",
       "      \"model\": \"gpt-3.5-turbo-0613\",\n",
       "      \"created_at\": 1693546893,\n",
       "      \"finished_at\": 1693547399,\n",
       "      \"fine_tuned_model\": \"ft:gpt-3.5-turbo-0613:korea-university::7trKamW3\",\n",
       "      \"organization_id\": \"org-bT1bA6ExTcdQphsyv85F0j6z\",\n",
       "      \"result_files\": [\n",
       "        \"file-l5WBArbeZ1DKW79pm2USfrCn\"\n",
       "      ],\n",
       "      \"status\": \"succeeded\",\n",
       "      \"validation_file\": \"file-Q5fBGxgptSjSWfvd2pdizTQ4\",\n",
       "      \"training_file\": \"file-3VlDNqS78TwXgLdi92igEz7B\",\n",
       "      \"hyperparameters\": {\n",
       "        \"n_epochs\": 1\n",
       "      },\n",
       "      \"trained_tokens\": 914\n",
       "    },\n",
       "    {\n",
       "      \"object\": \"fine_tuning.job\",\n",
       "      \"id\": \"ftjob-fhipvS2c2q7G3t4s7CLQGgDH\",\n",
       "      \"model\": \"gpt-3.5-turbo-0613\",\n",
       "      \"created_at\": 1693545051,\n",
       "      \"finished_at\": 1693545516,\n",
       "      \"fine_tuned_model\": \"ft:gpt-3.5-turbo-0613:korea-university::7tqqDVxu\",\n",
       "      \"organization_id\": \"org-bT1bA6ExTcdQphsyv85F0j6z\",\n",
       "      \"result_files\": [\n",
       "        \"file-WuxpCaSYmkq171yJVWGAGmbR\"\n",
       "      ],\n",
       "      \"status\": \"succeeded\",\n",
       "      \"validation_file\": \"file-B2h4oSFYdJkA7zzE82nqft0h\",\n",
       "      \"training_file\": \"file-SXe3jQvUsMOrYS9GtfKR1g8s\",\n",
       "      \"hyperparameters\": {\n",
       "        \"n_epochs\": 1\n",
       "      },\n",
       "      \"trained_tokens\": 914\n",
       "    },\n",
       "    {\n",
       "      \"object\": \"fine_tuning.job\",\n",
       "      \"id\": \"ftjob-gNALz0Stw06p7e0NeI0isSAO\",\n",
       "      \"model\": \"gpt-3.5-turbo-0613\",\n",
       "      \"created_at\": 1693544099,\n",
       "      \"finished_at\": 1693544596,\n",
       "      \"fine_tuned_model\": \"ft:gpt-3.5-turbo-0613:korea-university::7tqbNGH5\",\n",
       "      \"organization_id\": \"org-bT1bA6ExTcdQphsyv85F0j6z\",\n",
       "      \"result_files\": [\n",
       "        \"file-GFZY2SmNEuwnRLXq2CmbCHJP\"\n",
       "      ],\n",
       "      \"status\": \"succeeded\",\n",
       "      \"validation_file\": \"file-UEQLpqMsDH2Y7rJLCtbWnqY2\",\n",
       "      \"training_file\": \"file-abntl1qJwH7fVHfRXAn97hKR\",\n",
       "      \"hyperparameters\": {\n",
       "        \"n_epochs\": 1\n",
       "      },\n",
       "      \"trained_tokens\": 2551\n",
       "    },\n",
       "    {\n",
       "      \"object\": \"fine_tuning.job\",\n",
       "      \"id\": \"ftjob-DAZc9L3aEKg1mNY2zFmpgdhv\",\n",
       "      \"model\": \"gpt-3.5-turbo-0613\",\n",
       "      \"created_at\": 1693542580,\n",
       "      \"finished_at\": 1693543162,\n",
       "      \"fine_tuned_model\": \"ft:gpt-3.5-turbo-0613:korea-university::7tqEGsAP\",\n",
       "      \"organization_id\": \"org-bT1bA6ExTcdQphsyv85F0j6z\",\n",
       "      \"result_files\": [\n",
       "        \"file-IG5qEkSebmuqpDR3Zl5ljMA3\"\n",
       "      ],\n",
       "      \"status\": \"succeeded\",\n",
       "      \"validation_file\": null,\n",
       "      \"training_file\": \"file-szdPvDiHgfSoSMJKMsNCtGLG\",\n",
       "      \"hyperparameters\": {\n",
       "        \"n_epochs\": 3\n",
       "      },\n",
       "      \"trained_tokens\": 7653\n",
       "    }\n",
       "  ],\n",
       "  \"has_more\": false\n",
       "}"
      ]
     },
     "execution_count": 19,
     "metadata": {},
     "output_type": "execute_result"
    }
   ],
   "source": [
    "# List 10 fine-tuning jobs\n",
    "openai.FineTuningJob.list(limit=10)"
   ]
  },
  {
   "cell_type": "markdown",
   "id": "56d1d159",
   "metadata": {},
   "source": [
    "### Retrieve information"
   ]
  },
  {
   "cell_type": "code",
   "execution_count": 20,
   "id": "55953842",
   "metadata": {},
   "outputs": [
    {
     "name": "stdout",
     "output_type": "stream",
     "text": [
      "current_job_id:[ftjob-TxmbAGAFPoNgDwGdNr9kM7FJ]\n"
     ]
    }
   ],
   "source": [
    "current_job_id = current_job['id']\n",
    "print  (\"current_job_id:[%s]\"%(current_job_id))"
   ]
  },
  {
   "cell_type": "code",
   "execution_count": 21,
   "id": "7df74fc9",
   "metadata": {},
   "outputs": [
    {
     "data": {
      "text/plain": [
       "<FineTuningJob fine_tuning.job id=ftjob-TxmbAGAFPoNgDwGdNr9kM7FJ at 0x127f66e00> JSON: {\n",
       "  \"object\": \"fine_tuning.job\",\n",
       "  \"id\": \"ftjob-TxmbAGAFPoNgDwGdNr9kM7FJ\",\n",
       "  \"model\": \"gpt-3.5-turbo-0613\",\n",
       "  \"created_at\": 1693554274,\n",
       "  \"finished_at\": null,\n",
       "  \"fine_tuned_model\": null,\n",
       "  \"organization_id\": \"org-bT1bA6ExTcdQphsyv85F0j6z\",\n",
       "  \"result_files\": [],\n",
       "  \"status\": \"running\",\n",
       "  \"validation_file\": \"file-t4PDvppb0D5qHrU4tHrfumh1\",\n",
       "  \"training_file\": \"file-rtZF3Ru65feoLs3eutQJsJ0H\",\n",
       "  \"hyperparameters\": {\n",
       "    \"n_epochs\": 1\n",
       "  },\n",
       "  \"trained_tokens\": null\n",
       "}"
      ]
     },
     "execution_count": 21,
     "metadata": {},
     "output_type": "execute_result"
    }
   ],
   "source": [
    "# Retrieve the state of a fine-tune\n",
    "openai.FineTuningJob.retrieve(current_job_id)"
   ]
  },
  {
   "cell_type": "markdown",
   "id": "b270451f",
   "metadata": {},
   "source": [
    "### Wait for fine-tuning"
   ]
  },
  {
   "cell_type": "code",
   "execution_count": 22,
   "id": "762b577d",
   "metadata": {
    "scrolled": true
   },
   "outputs": [
    {
     "name": "stdout",
     "output_type": "stream",
     "text": [
      "Fine tuning job started\n",
      "Created fine-tune: ftjob-TxmbAGAFPoNgDwGdNr9kM7FJ\n",
      "Fine tuning job started\n",
      "Created fine-tune: ftjob-TxmbAGAFPoNgDwGdNr9kM7FJ\n",
      "Fine tuning job started\n",
      "Created fine-tune: ftjob-TxmbAGAFPoNgDwGdNr9kM7FJ\n",
      "Fine tuning job started\n",
      "Created fine-tune: ftjob-TxmbAGAFPoNgDwGdNr9kM7FJ\n",
      "Fine tuning job started\n",
      "Created fine-tune: ftjob-TxmbAGAFPoNgDwGdNr9kM7FJ\n",
      "Fine tuning job started\n",
      "Created fine-tune: ftjob-TxmbAGAFPoNgDwGdNr9kM7FJ\n",
      "Fine tuning job started\n",
      "Created fine-tune: ftjob-TxmbAGAFPoNgDwGdNr9kM7FJ\n",
      "Step 2/10: training loss=3.19, validation loss=1.57\n",
      "Step 1/10: training loss=2.89, validation loss=3.36\n",
      "Fine-tuning job successfully completed\n",
      "New fine-tuned model created: ft:gpt-3.5-turbo-0613:korea-university::7ttF0Dx2\n",
      "=====================================\n",
      "Fine-tuning job successfully completed\n",
      "None\n",
      "=====================================\n",
      "New fine-tuned model created: ft:gpt-3.5-turbo-0613:korea-university::7ttF0Dx2\n",
      "None\n",
      "=====================================\n",
      "Step 10/10: training loss=0.01, validation loss=0.07\n",
      "{\n",
      "  \"step\": 10,\n",
      "  \"train_loss\": 0.0061782835982739925,\n",
      "  \"valid_loss\": 0.06946449279785157,\n",
      "  \"train_mean_token_accuracy\": 1.0,\n",
      "  \"valid_mean_token_accuracy\": 0.6\n",
      "}\n",
      "=====================================\n",
      "Step 9/10: training loss=0.01, validation loss=0.01\n",
      "{\n",
      "  \"step\": 9,\n",
      "  \"train_loss\": 0.0071807862259447575,\n",
      "  \"valid_loss\": 0.007854843139648437,\n",
      "  \"train_mean_token_accuracy\": 1.0,\n",
      "  \"valid_mean_token_accuracy\": 0.6\n",
      "}\n",
      "=====================================\n",
      "Step 8/10: training loss=0.01, validation loss=0.01\n",
      "{\n",
      "  \"step\": 8,\n",
      "  \"train_loss\": 0.014714050106704235,\n",
      "  \"valid_loss\": 0.011740493774414062,\n",
      "  \"train_mean_token_accuracy\": 1.0,\n",
      "  \"valid_mean_token_accuracy\": 0.6\n",
      "}\n",
      "=====================================\n",
      "Step 7/10: training loss=0.36, validation loss=0.01\n",
      "{\n",
      "  \"step\": 7,\n",
      "  \"train_loss\": 0.36053237318992615,\n",
      "  \"valid_loss\": 0.0137237548828125,\n",
      "  \"train_mean_token_accuracy\": 0.800000011920929,\n",
      "  \"valid_mean_token_accuracy\": 0.6\n",
      "}\n",
      "=====================================\n",
      "Step 6/10: training loss=0.07, validation loss=0.09\n",
      "{\n",
      "  \"step\": 6,\n",
      "  \"train_loss\": 0.0713600143790245,\n",
      "  \"valid_loss\": 0.08551521301269531,\n",
      "  \"train_mean_token_accuracy\": 1.0,\n",
      "  \"valid_mean_token_accuracy\": 0.6\n",
      "}\n",
      "=====================================\n",
      "Step 5/10: training loss=0.33, validation loss=0.21\n",
      "{\n",
      "  \"step\": 5,\n",
      "  \"train_loss\": 0.3335861265659332,\n",
      "  \"valid_loss\": 0.2073833465576172,\n",
      "  \"train_mean_token_accuracy\": 0.800000011920929,\n",
      "  \"valid_mean_token_accuracy\": 0.6\n",
      "}\n",
      "=====================================\n",
      "Step 4/10: training loss=0.79, validation loss=0.27\n",
      "{\n",
      "  \"step\": 4,\n",
      "  \"train_loss\": 0.7851310968399048,\n",
      "  \"valid_loss\": 0.2712444305419922,\n",
      "  \"train_mean_token_accuracy\": 0.800000011920929,\n",
      "  \"valid_mean_token_accuracy\": 0.6\n",
      "}\n",
      "=====================================\n",
      "Step 3/10: training loss=1.42, validation loss=0.52\n",
      "{\n",
      "  \"step\": 3,\n",
      "  \"train_loss\": 1.4208381175994873,\n",
      "  \"valid_loss\": 0.518292236328125,\n",
      "  \"train_mean_token_accuracy\": 0.800000011920929,\n",
      "  \"valid_mean_token_accuracy\": 0.6\n",
      "}\n",
      "Ready.\n"
     ]
    }
   ],
   "source": [
    "while True:\n",
    "    job = openai.FineTuningJob.retrieve(current_job_id)\n",
    "    completed = job['status'] != 'running'\n",
    "    # List up to 10 events from a fine-tuning job\n",
    "    events = openai.FineTuningJob.list_events(id=current_job_id, limit=2)\n",
    "    for event in events['data']:\n",
    "        print(event['message'])\n",
    "    if completed:\n",
    "        break\n",
    "    time.sleep(60)\n",
    "events = openai.FineTuningJob.list_events(id=current_job_id, limit=10)\n",
    "for event in events['data']:\n",
    "    print(\"=====================================\")\n",
    "    print(event['message'])\n",
    "    print(event['data'])\n",
    "print (\"Ready.\")"
   ]
  },
  {
   "cell_type": "markdown",
   "id": "368fe7c1",
   "metadata": {},
   "source": [
    "### Inference"
   ]
  },
  {
   "cell_type": "code",
   "execution_count": 23,
   "id": "92037eef",
   "metadata": {},
   "outputs": [],
   "source": [
    "model_id = openai.FineTuningJob.retrieve(current_job_id)['fine_tuned_model']"
   ]
  },
  {
   "cell_type": "code",
   "execution_count": 24,
   "id": "c3d4739e",
   "metadata": {},
   "outputs": [
    {
     "name": "stdout",
     "output_type": "stream",
     "text": [
      "{'answer': 'Yes', 'index': '87', 'question': 'Is a judicial candidate or their campaign committee allowed to post photographs on social media of the candidate together with sitting judges at a public or professional event, if the photograph was published with the consent of the judges and there is no verbiage that indicates an endorsement?', 'year': '2022'}\n"
     ]
    }
   ],
   "source": [
    "start_idx = NUM_TRAIN + NUM_VALIDATION\n",
    "end_idx = len(dataset['test'])\n",
    "sample_idx = random.randint(start_idx, end_idx)\n",
    "sample = dataset['test'][sample_idx]\n",
    "print(sample)"
   ]
  },
  {
   "cell_type": "code",
   "execution_count": 25,
   "id": "6fd3412b",
   "metadata": {},
   "outputs": [
    {
     "data": {
      "text/plain": [
       "'\\nImagine your are the New York State Unified Court System Advisory Committee on Judicial Ethics. You\\'ve received the following question(s). Answer them as either \"Yes\" or \"No\".\\n'"
      ]
     },
     "execution_count": 25,
     "metadata": {},
     "output_type": "execute_result"
    }
   ],
   "source": [
    "base_text"
   ]
  },
  {
   "cell_type": "code",
   "execution_count": 26,
   "id": "71a73b24",
   "metadata": {},
   "outputs": [
    {
     "name": "stdout",
     "output_type": "stream",
     "text": [
      "[{'role': 'system', 'content': '\\nImagine your are the New York State Unified Court System Advisory Committee on Judicial Ethics. You\\'ve received the following question(s). Answer them as either \"Yes\" or \"No\".\\n'}, {'role': 'user', 'content': 'Question: Is a judicial candidate or their campaign committee allowed to post photographs on social media of the candidate together with sitting judges at a public or professional event, if the photograph was published with the consent of the judges and there is no verbiage that indicates an endorsement?'}]\n"
     ]
    }
   ],
   "source": [
    "messages = [\n",
    "    {\"role\": \"system\", \"content\": base_text},\n",
    "    {\"role\": \"user\", \"content\": \"Question: \" + sample['question']}\n",
    "]\n",
    "print (messages)"
   ]
  },
  {
   "cell_type": "code",
   "execution_count": 27,
   "id": "4005a247",
   "metadata": {},
   "outputs": [],
   "source": [
    "response = completion = openai.ChatCompletion.create(\n",
    "  model=model_id,\n",
    "  messages=messages\n",
    ")"
   ]
  },
  {
   "cell_type": "code",
   "execution_count": 28,
   "id": "35753747",
   "metadata": {},
   "outputs": [
    {
     "name": "stdout",
     "output_type": "stream",
     "text": [
      "Question: Is a judicial candidate or their campaign committee allowed to post photographs on social media of the candidate together with sitting judges at a public or professional event, if the photograph was published with the consent of the judges and there is no verbiage that indicates an endorsement?\n",
      "Answer: Answer: Yes\n",
      "Ground Truth: Yes\n"
     ]
    }
   ],
   "source": [
    "answer = response['choices'][0]['message']['content']\n",
    "print('Question: ' + sample['question'])\n",
    "print('Answer: ' + answer)\n",
    "print('Ground Truth: ' + sample['answer'])"
   ]
  },
  {
   "cell_type": "code",
   "execution_count": null,
   "id": "92f8d374",
   "metadata": {},
   "outputs": [],
   "source": []
  }
 ],
 "metadata": {
  "kernelspec": {
   "display_name": "Python 3 (ipykernel)",
   "language": "python",
   "name": "python3"
  },
  "language_info": {
   "codemirror_mode": {
    "name": "ipython",
    "version": 3
   },
   "file_extension": ".py",
   "mimetype": "text/x-python",
   "name": "python",
   "nbconvert_exporter": "python",
   "pygments_lexer": "ipython3",
   "version": "3.9.16"
  }
 },
 "nbformat": 4,
 "nbformat_minor": 5
}
