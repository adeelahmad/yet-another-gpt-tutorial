{
 "cells": [
  {
   "cell_type": "markdown",
   "id": "93746e6a",
   "metadata": {},
   "source": [
    "### Fine-tune GPT"
   ]
  },
  {
   "cell_type": "code",
   "execution_count": 1,
   "id": "14623c10",
   "metadata": {},
   "outputs": [
    {
     "name": "stdout",
     "output_type": "stream",
     "text": [
      "OpenAI package version:0.28.0\n"
     ]
    }
   ],
   "source": [
    "import json\n",
    "import openai\n",
    "import time, random\n",
    "from datasets import load_dataset\n",
    "print (\"OpenAI package version:%s\"%(openai.__version__))"
   ]
  },
  {
   "cell_type": "markdown",
   "id": "e5bfab77",
   "metadata": {},
   "source": [
    "### Load data from Hugging Face Datasets"
   ]
  },
  {
   "cell_type": "code",
   "execution_count": 2,
   "id": "63000fd7",
   "metadata": {},
   "outputs": [],
   "source": [
    "dataset = load_dataset(path=\"nguha/legalbench\",name=\"nys_judicial_ethics\")"
   ]
  },
  {
   "cell_type": "code",
   "execution_count": 3,
   "id": "f0af8ef0",
   "metadata": {},
   "outputs": [
    {
     "data": {
      "text/html": [
       "<div>\n",
       "<style scoped>\n",
       "    .dataframe tbody tr th:only-of-type {\n",
       "        vertical-align: middle;\n",
       "    }\n",
       "\n",
       "    .dataframe tbody tr th {\n",
       "        vertical-align: top;\n",
       "    }\n",
       "\n",
       "    .dataframe thead th {\n",
       "        text-align: right;\n",
       "    }\n",
       "</style>\n",
       "<table border=\"1\" class=\"dataframe\">\n",
       "  <thead>\n",
       "    <tr style=\"text-align: right;\">\n",
       "      <th></th>\n",
       "      <th>answer</th>\n",
       "      <th>index</th>\n",
       "      <th>question</th>\n",
       "      <th>year</th>\n",
       "    </tr>\n",
       "  </thead>\n",
       "  <tbody>\n",
       "    <tr>\n",
       "      <th>0</th>\n",
       "      <td>No</td>\n",
       "      <td>0</td>\n",
       "      <td>If a judge reports an attorney for a substanti...</td>\n",
       "      <td>2010</td>\n",
       "    </tr>\n",
       "    <tr>\n",
       "      <th>1</th>\n",
       "      <td>No</td>\n",
       "      <td>1</td>\n",
       "      <td>Does a village justice need to disqualify them...</td>\n",
       "      <td>2010</td>\n",
       "    </tr>\n",
       "    <tr>\n",
       "      <th>2</th>\n",
       "      <td>No</td>\n",
       "      <td>2</td>\n",
       "      <td>Is a judge required to disclose their former e...</td>\n",
       "      <td>2010</td>\n",
       "    </tr>\n",
       "    <tr>\n",
       "      <th>3</th>\n",
       "      <td>No</td>\n",
       "      <td>3</td>\n",
       "      <td>Is it prohibited for a part-time judge who pra...</td>\n",
       "      <td>2010</td>\n",
       "    </tr>\n",
       "    <tr>\n",
       "      <th>4</th>\n",
       "      <td>Yes</td>\n",
       "      <td>4</td>\n",
       "      <td>Can a judge appear monthly on a local televisi...</td>\n",
       "      <td>2010</td>\n",
       "    </tr>\n",
       "    <tr>\n",
       "      <th>5</th>\n",
       "      <td>Yes</td>\n",
       "      <td>5</td>\n",
       "      <td>Is a judge required to report an attorney to t...</td>\n",
       "      <td>2010</td>\n",
       "    </tr>\n",
       "    <tr>\n",
       "      <th>6</th>\n",
       "      <td>Yes</td>\n",
       "      <td>6</td>\n",
       "      <td>Is a judge required to take appropriate action...</td>\n",
       "      <td>2010</td>\n",
       "    </tr>\n",
       "    <tr>\n",
       "      <th>7</th>\n",
       "      <td>Yes</td>\n",
       "      <td>7</td>\n",
       "      <td>Can a judge appoint a qualified former law cle...</td>\n",
       "      <td>2010</td>\n",
       "    </tr>\n",
       "  </tbody>\n",
       "</table>\n",
       "</div>"
      ],
      "text/plain": [
       "  answer index                                           question  year\n",
       "0     No     0  If a judge reports an attorney for a substanti...  2010\n",
       "1     No     1  Does a village justice need to disqualify them...  2010\n",
       "2     No     2  Is a judge required to disclose their former e...  2010\n",
       "3     No     3  Is it prohibited for a part-time judge who pra...  2010\n",
       "4    Yes     4  Can a judge appear monthly on a local televisi...  2010\n",
       "5    Yes     5  Is a judge required to report an attorney to t...  2010\n",
       "6    Yes     6  Is a judge required to take appropriate action...  2010\n",
       "7    Yes     7  Can a judge appoint a qualified former law cle...  2010"
      ]
     },
     "execution_count": 3,
     "metadata": {},
     "output_type": "execute_result"
    }
   ],
   "source": [
    "dataset[\"train\"].to_pandas()"
   ]
  },
  {
   "cell_type": "code",
   "execution_count": 4,
   "id": "878eb9fd",
   "metadata": {},
   "outputs": [
    {
     "data": {
      "text/html": [
       "<div>\n",
       "<style scoped>\n",
       "    .dataframe tbody tr th:only-of-type {\n",
       "        vertical-align: middle;\n",
       "    }\n",
       "\n",
       "    .dataframe tbody tr th {\n",
       "        vertical-align: top;\n",
       "    }\n",
       "\n",
       "    .dataframe thead th {\n",
       "        text-align: right;\n",
       "    }\n",
       "</style>\n",
       "<table border=\"1\" class=\"dataframe\">\n",
       "  <thead>\n",
       "    <tr style=\"text-align: right;\">\n",
       "      <th></th>\n",
       "      <th>answer</th>\n",
       "      <th>index</th>\n",
       "      <th>question</th>\n",
       "      <th>year</th>\n",
       "    </tr>\n",
       "  </thead>\n",
       "  <tbody>\n",
       "    <tr>\n",
       "      <th>0</th>\n",
       "      <td>Yes</td>\n",
       "      <td>0</td>\n",
       "      <td>Is a judge required to disclose a former law c...</td>\n",
       "      <td>2010</td>\n",
       "    </tr>\n",
       "    <tr>\n",
       "      <th>1</th>\n",
       "      <td>Yes</td>\n",
       "      <td>1</td>\n",
       "      <td>Can the names of judges who are members of a b...</td>\n",
       "      <td>2010</td>\n",
       "    </tr>\n",
       "    <tr>\n",
       "      <th>2</th>\n",
       "      <td>Yes</td>\n",
       "      <td>2</td>\n",
       "      <td>Should the judge disqualify themselves from a ...</td>\n",
       "      <td>2010</td>\n",
       "    </tr>\n",
       "    <tr>\n",
       "      <th>3</th>\n",
       "      <td>Yes</td>\n",
       "      <td>3</td>\n",
       "      <td>Should a judge disqualify themselves from all ...</td>\n",
       "      <td>2010</td>\n",
       "    </tr>\n",
       "    <tr>\n",
       "      <th>4</th>\n",
       "      <td>No</td>\n",
       "      <td>4</td>\n",
       "      <td>Can a judge designate the traffic court clerk ...</td>\n",
       "      <td>2010</td>\n",
       "    </tr>\n",
       "    <tr>\n",
       "      <th>...</th>\n",
       "      <td>...</td>\n",
       "      <td>...</td>\n",
       "      <td>...</td>\n",
       "      <td>...</td>\n",
       "    </tr>\n",
       "    <tr>\n",
       "      <th>287</th>\n",
       "      <td>Yes</td>\n",
       "      <td>287</td>\n",
       "      <td>Is it permissible for the inquirer to share et...</td>\n",
       "      <td>2021</td>\n",
       "    </tr>\n",
       "    <tr>\n",
       "      <th>288</th>\n",
       "      <td>Yes</td>\n",
       "      <td>288</td>\n",
       "      <td>Can a part-time lawyer judge who was assigned ...</td>\n",
       "      <td>2021</td>\n",
       "    </tr>\n",
       "    <tr>\n",
       "      <th>289</th>\n",
       "      <td>No</td>\n",
       "      <td>289</td>\n",
       "      <td>Can a part-time lawyer judge ordinarily appear...</td>\n",
       "      <td>2021</td>\n",
       "    </tr>\n",
       "    <tr>\n",
       "      <th>290</th>\n",
       "      <td>No</td>\n",
       "      <td>290</td>\n",
       "      <td>Can a practicing part-time lawyer judge repres...</td>\n",
       "      <td>2021</td>\n",
       "    </tr>\n",
       "    <tr>\n",
       "      <th>291</th>\n",
       "      <td>Yes</td>\n",
       "      <td>291</td>\n",
       "      <td>Is it permissible for a village justice to sen...</td>\n",
       "      <td>2021</td>\n",
       "    </tr>\n",
       "  </tbody>\n",
       "</table>\n",
       "<p>292 rows × 4 columns</p>\n",
       "</div>"
      ],
      "text/plain": [
       "    answer index                                           question  year\n",
       "0      Yes     0  Is a judge required to disclose a former law c...  2010\n",
       "1      Yes     1  Can the names of judges who are members of a b...  2010\n",
       "2      Yes     2  Should the judge disqualify themselves from a ...  2010\n",
       "3      Yes     3  Should a judge disqualify themselves from all ...  2010\n",
       "4       No     4  Can a judge designate the traffic court clerk ...  2010\n",
       "..     ...   ...                                                ...   ...\n",
       "287    Yes   287  Is it permissible for the inquirer to share et...  2021\n",
       "288    Yes   288  Can a part-time lawyer judge who was assigned ...  2021\n",
       "289     No   289  Can a part-time lawyer judge ordinarily appear...  2021\n",
       "290     No   290  Can a practicing part-time lawyer judge repres...  2021\n",
       "291    Yes   291  Is it permissible for a village justice to sen...  2021\n",
       "\n",
       "[292 rows x 4 columns]"
      ]
     },
     "execution_count": 4,
     "metadata": {},
     "output_type": "execute_result"
    }
   ],
   "source": [
    "dataset['test'].to_pandas()"
   ]
  },
  {
   "cell_type": "markdown",
   "id": "d68c648f",
   "metadata": {},
   "source": [
    "### Since the nunber of training set is too small, we'll use test set"
   ]
  },
  {
   "cell_type": "code",
   "execution_count": 5,
   "id": "942e4bce",
   "metadata": {},
   "outputs": [],
   "source": [
    "NUM_TRAIN      = 10\n",
    "NUM_VALIDATION = 5"
   ]
  },
  {
   "cell_type": "code",
   "execution_count": 6,
   "id": "420d6dee",
   "metadata": {},
   "outputs": [],
   "source": [
    "base_text = \"\"\"\n",
    "Imagine your are the New York State Unified Court System Advisory Committee on Judicial Ethics. You've received the following question(s). Answer them as either \"Yes\" or \"No\".\n",
    "\"\"\""
   ]
  },
  {
   "cell_type": "code",
   "execution_count": 7,
   "id": "dcfd8814",
   "metadata": {},
   "outputs": [
    {
     "name": "stdout",
     "output_type": "stream",
     "text": [
      "[../data/legalbench_nys_judicial_ethics_train.json1] saved.\n",
      "[../data/legalbench_nys_judicial_ethics_validation.json1] saved.\n"
     ]
    }
   ],
   "source": [
    "train_jsonl_path = '../data/legalbench_nys_judicial_ethics_train.json1'\n",
    "validation_jsonl_path  = '../data/legalbench_nys_judicial_ethics_validation.json1'\n",
    "with open(train_jsonl_path, 'w') as f:\n",
    "    for i in range(NUM_TRAIN):\n",
    "        data = dataset['test'][i]\n",
    "        line = {\"messages\": [{\"role\": \"system\", \"content\": base_text}, \n",
    "                    {\"role\": \"user\", \"content\": \"Question: \" + data['question']},\n",
    "                    {\"role\": \"assistant\", \"content\": \"Answer: \" + data['answer']}]}\n",
    "        f.write(json.dumps(line) + '\\n')\n",
    "\n",
    "with open(validation_jsonl_path, 'w') as f:\n",
    "    for i in range(NUM_TRAIN,NUM_TRAIN+NUM_VALIDATION):\n",
    "        data = dataset['test'][i]\n",
    "        line = {\"messages\": [{\"role\": \"system\", \"content\": base_text}, \n",
    "                    {\"role\": \"user\", \"content\": \"Question: \" + data['question']},\n",
    "                    {\"role\": \"assistant\", \"content\": \"Answer: \" + data['answer']}]}\n",
    "        f.write(json.dumps(line) + '\\n')\n",
    "print (\"[%s] saved.\"%(train_jsonl_path))\n",
    "print (\"[%s] saved.\"%(validation_jsonl_path))"
   ]
  },
  {
   "cell_type": "markdown",
   "id": "8618d724",
   "metadata": {},
   "source": [
    "### Locate the key"
   ]
  },
  {
   "cell_type": "code",
   "execution_count": 8,
   "id": "1787eb12",
   "metadata": {},
   "outputs": [
    {
     "name": "stdout",
     "output_type": "stream",
     "text": [
      "key_path:[../key/rilab_key.txt]\n"
     ]
    }
   ],
   "source": [
    "key_path = '../key/rilab_key.txt'\n",
    "print ('key_path:[%s]'%(key_path))"
   ]
  },
  {
   "cell_type": "code",
   "execution_count": 9,
   "id": "c6ec80ff",
   "metadata": {},
   "outputs": [],
   "source": [
    "with open(key_path, 'r') as f: OPENAI_API_KEY = f.read()\n",
    "openai.api_key = OPENAI_API_KEY"
   ]
  },
  {
   "cell_type": "markdown",
   "id": "0421cbb4",
   "metadata": {},
   "source": [
    "### Delete existing files (optional)"
   ]
  },
  {
   "cell_type": "code",
   "execution_count": 10,
   "id": "916d899c",
   "metadata": {},
   "outputs": [
    {
     "name": "stdout",
     "output_type": "stream",
     "text": [
      "{\n",
      "  \"object\": \"file\",\n",
      "  \"id\": \"file-PhLUhZJ5l2VsqnLzXY0RsCpE\",\n",
      "  \"purpose\": \"fine-tune\",\n",
      "  \"filename\": \"file\",\n",
      "  \"bytes\": 5106,\n",
      "  \"created_at\": 1693543712,\n",
      "  \"status\": \"uploaded\",\n",
      "  \"status_details\": null\n",
      "}\n",
      "{\n",
      "  \"object\": \"file\",\n",
      "  \"id\": \"file-WuxpCaSYmkq171yJVWGAGmbR\",\n",
      "  \"purpose\": \"fine-tune-results\",\n",
      "  \"filename\": \"step_metrics.csv\",\n",
      "  \"bytes\": 326,\n",
      "  \"created_at\": 1693545518,\n",
      "  \"status\": \"uploaded\",\n",
      "  \"status_details\": null\n",
      "}\n",
      "{\n",
      "  \"object\": \"file\",\n",
      "  \"id\": \"file-l5WBArbeZ1DKW79pm2USfrCn\",\n",
      "  \"purpose\": \"fine-tune-results\",\n",
      "  \"filename\": \"step_metrics.csv\",\n",
      "  \"bytes\": 327,\n",
      "  \"created_at\": 1693547402,\n",
      "  \"status\": \"uploaded\",\n",
      "  \"status_details\": null\n",
      "}\n"
     ]
    }
   ],
   "source": [
    "past_file_lists = openai.File.list()\n",
    "for past_file in past_file_lists['data']:\n",
    "    print (past_file)"
   ]
  },
  {
   "cell_type": "code",
   "execution_count": 11,
   "id": "b6682978",
   "metadata": {},
   "outputs": [],
   "source": [
    "past_file_lists = openai.File.list()\n",
    "for past_file in past_file_lists['data']:\n",
    "    idx = past_file['id']\n",
    "    if past_file['status'] == 'processed':\n",
    "        print (past_file)\n",
    "        openai.File.delete(idx)"
   ]
  },
  {
   "cell_type": "code",
   "execution_count": 12,
   "id": "580286dd",
   "metadata": {},
   "outputs": [
    {
     "name": "stdout",
     "output_type": "stream",
     "text": [
      "{\n",
      "  \"object\": \"file\",\n",
      "  \"id\": \"file-PhLUhZJ5l2VsqnLzXY0RsCpE\",\n",
      "  \"purpose\": \"fine-tune\",\n",
      "  \"filename\": \"file\",\n",
      "  \"bytes\": 5106,\n",
      "  \"created_at\": 1693543712,\n",
      "  \"status\": \"uploaded\",\n",
      "  \"status_details\": null\n",
      "}\n",
      "{\n",
      "  \"object\": \"file\",\n",
      "  \"id\": \"file-WuxpCaSYmkq171yJVWGAGmbR\",\n",
      "  \"purpose\": \"fine-tune-results\",\n",
      "  \"filename\": \"step_metrics.csv\",\n",
      "  \"bytes\": 326,\n",
      "  \"created_at\": 1693545518,\n",
      "  \"status\": \"uploaded\",\n",
      "  \"status_details\": null\n",
      "}\n",
      "{\n",
      "  \"object\": \"file\",\n",
      "  \"id\": \"file-l5WBArbeZ1DKW79pm2USfrCn\",\n",
      "  \"purpose\": \"fine-tune-results\",\n",
      "  \"filename\": \"step_metrics.csv\",\n",
      "  \"bytes\": 327,\n",
      "  \"created_at\": 1693547402,\n",
      "  \"status\": \"uploaded\",\n",
      "  \"status_details\": null\n",
      "}\n"
     ]
    }
   ],
   "source": [
    "# Print after deleting files\n",
    "past_file_lists = openai.File.list()\n",
    "for past_file in past_file_lists['data']:\n",
    "    print (past_file)"
   ]
  },
  {
   "cell_type": "markdown",
   "id": "828eba6e",
   "metadata": {},
   "source": [
    "### Upload the dataset"
   ]
  },
  {
   "cell_type": "code",
   "execution_count": 14,
   "id": "17a11e59",
   "metadata": {},
   "outputs": [],
   "source": [
    "file_train_data = openai.File.create(\n",
    "  file=open(train_jsonl_path, \"rb\"),\n",
    "  purpose='fine-tune'\n",
    ")\n",
    "file_train_data_id = file_train_data.id"
   ]
  },
  {
   "cell_type": "code",
   "execution_count": 16,
   "id": "2feb4c63",
   "metadata": {},
   "outputs": [],
   "source": [
    "file_test_data = openai.File.create(\n",
    "  file=open(validation_jsonl_path, \"rb\"),\n",
    "  purpose='fine-tune'\n",
    ")\n",
    "file_test_data_id = file_test_data.id"
   ]
  },
  {
   "cell_type": "code",
   "execution_count": 18,
   "id": "5f5f09d4",
   "metadata": {},
   "outputs": [
    {
     "name": "stdout",
     "output_type": "stream",
     "text": [
      "{\n",
      "  \"object\": \"file\",\n",
      "  \"id\": \"file-WuxpCaSYmkq171yJVWGAGmbR\",\n",
      "  \"purpose\": \"fine-tune-results\",\n",
      "  \"filename\": \"step_metrics.csv\",\n",
      "  \"bytes\": 326,\n",
      "  \"created_at\": 1693545518,\n",
      "  \"status\": \"uploaded\",\n",
      "  \"status_details\": null\n",
      "}\n",
      "{\n",
      "  \"object\": \"file\",\n",
      "  \"id\": \"file-PhLUhZJ5l2VsqnLzXY0RsCpE\",\n",
      "  \"purpose\": \"fine-tune\",\n",
      "  \"filename\": \"file\",\n",
      "  \"bytes\": 5106,\n",
      "  \"created_at\": 1693543712,\n",
      "  \"status\": \"uploaded\",\n",
      "  \"status_details\": null\n",
      "}\n",
      "{\n",
      "  \"object\": \"file\",\n",
      "  \"id\": \"file-l5WBArbeZ1DKW79pm2USfrCn\",\n",
      "  \"purpose\": \"fine-tune-results\",\n",
      "  \"filename\": \"step_metrics.csv\",\n",
      "  \"bytes\": 327,\n",
      "  \"created_at\": 1693547402,\n",
      "  \"status\": \"uploaded\",\n",
      "  \"status_details\": null\n",
      "}\n",
      "{\n",
      "  \"object\": \"file\",\n",
      "  \"id\": \"file-LTE83jTd01XEUQ6aiL1iLeuN\",\n",
      "  \"purpose\": \"fine-tune\",\n",
      "  \"filename\": \"file\",\n",
      "  \"bytes\": 2415,\n",
      "  \"created_at\": 1693548234,\n",
      "  \"status\": \"processed\",\n",
      "  \"status_details\": null\n",
      "}\n",
      "{\n",
      "  \"object\": \"file\",\n",
      "  \"id\": \"file-a3z1jd3Kt5giIVLsxPubxGUH\",\n",
      "  \"purpose\": \"fine-tune\",\n",
      "  \"filename\": \"file\",\n",
      "  \"bytes\": 4841,\n",
      "  \"created_at\": 1693548220,\n",
      "  \"status\": \"processed\",\n",
      "  \"status_details\": null\n",
      "}\n"
     ]
    }
   ],
   "source": [
    "# Print after deleting files\n",
    "past_file_lists = openai.File.list()\n",
    "for past_file in past_file_lists['data']:\n",
    "    print (past_file)"
   ]
  },
  {
   "cell_type": "markdown",
   "id": "a3245a02",
   "metadata": {},
   "source": [
    "### Wait for your data to be processed"
   ]
  },
  {
   "cell_type": "code",
   "execution_count": 22,
   "id": "4e6f78d9",
   "metadata": {},
   "outputs": [
    {
     "name": "stdout",
     "output_type": "stream",
     "text": [
      "0 file-WuxpCaSYmkq171yJVWGAGmbR uploaded\n",
      "1 file-PhLUhZJ5l2VsqnLzXY0RsCpE uploaded\n",
      "2 file-a3z1jd3Kt5giIVLsxPubxGUH processed\n",
      "3 file-LTE83jTd01XEUQ6aiL1iLeuN processed\n",
      "4 file-l5WBArbeZ1DKW79pm2USfrCn uploaded\n",
      "Ready.\n"
     ]
    }
   ],
   "source": [
    "while True:\n",
    "    files = openai.File.list()\n",
    "    completed = True\n",
    "    for f_idx,file in enumerate(files['data']):\n",
    "        print(f_idx,file['id'], file['status'])\n",
    "        if file['id'] == file_train_data_id or file['id'] == file_test_data_id:\n",
    "            processed = (file['status'] == 'processed')\n",
    "            completed = completed and processed\n",
    "    if completed:\n",
    "        break\n",
    "    time.sleep(seconds=10)\n",
    "print (\"Ready.\")"
   ]
  },
  {
   "cell_type": "markdown",
   "id": "02c969c0",
   "metadata": {},
   "source": [
    "### Cancel running models (optional)"
   ]
  },
  {
   "cell_type": "code",
   "execution_count": 26,
   "id": "b9c2849e",
   "metadata": {},
   "outputs": [
    {
     "name": "stdout",
     "output_type": "stream",
     "text": [
      "ftjob-FyMhJGWK7LaGlu94NuAadINS running\n",
      "ftjob-QcdcVVyLjBabDRhESarNTCpm succeeded\n",
      "ftjob-fhipvS2c2q7G3t4s7CLQGgDH succeeded\n",
      "ftjob-gNALz0Stw06p7e0NeI0isSAO succeeded\n",
      "ftjob-DAZc9L3aEKg1mNY2zFmpgdhv succeeded\n"
     ]
    }
   ],
   "source": [
    "# List 10 fine-tuning jobs\n",
    "jobs = openai.FineTuningJob.list(limit=10)\n",
    "jobs = jobs['data']\n",
    "for job in jobs:\n",
    "    print(job['id'], job['status'])\n",
    "    job_id = job['id']\n",
    "    completed = job['status'] != 'running'\n",
    "    if not completed:\n",
    "        # Cancel a job\n",
    "        openai.FineTuningJob.cancel(job_id)"
   ]
  },
  {
   "cell_type": "markdown",
   "id": "b86fa038",
   "metadata": {},
   "source": [
    "### Start fine-tuning"
   ]
  },
  {
   "cell_type": "code",
   "execution_count": 27,
   "id": "06054afd",
   "metadata": {
    "scrolled": true
   },
   "outputs": [
    {
     "name": "stdout",
     "output_type": "stream",
     "text": [
      "Ready.\n"
     ]
    }
   ],
   "source": [
    "current_job = openai.FineTuningJob.create(\n",
    "    training_file=file_train_data_id, model=\"gpt-3.5-turbo\",\n",
    "    validation_file=file_test_data_id, hyperparameters={\"n_epochs\":1, })\n",
    "print (\"Ready.\")"
   ]
  },
  {
   "cell_type": "code",
   "execution_count": 28,
   "id": "c30f4475",
   "metadata": {},
   "outputs": [
    {
     "data": {
      "text/plain": [
       "<OpenAIObject list at 0x1488a9b30> JSON: {\n",
       "  \"object\": \"list\",\n",
       "  \"data\": [\n",
       "    {\n",
       "      \"object\": \"fine_tuning.job\",\n",
       "      \"id\": \"ftjob-o3N7MRwfHtLXgvyheaO7pEHr\",\n",
       "      \"model\": \"gpt-3.5-turbo-0613\",\n",
       "      \"created_at\": 1693548543,\n",
       "      \"finished_at\": null,\n",
       "      \"fine_tuned_model\": null,\n",
       "      \"organization_id\": \"org-bT1bA6ExTcdQphsyv85F0j6z\",\n",
       "      \"result_files\": [],\n",
       "      \"status\": \"running\",\n",
       "      \"validation_file\": \"file-LTE83jTd01XEUQ6aiL1iLeuN\",\n",
       "      \"training_file\": \"file-a3z1jd3Kt5giIVLsxPubxGUH\",\n",
       "      \"hyperparameters\": {\n",
       "        \"n_epochs\": 1\n",
       "      },\n",
       "      \"trained_tokens\": null\n",
       "    },\n",
       "    {\n",
       "      \"object\": \"fine_tuning.job\",\n",
       "      \"id\": \"ftjob-FyMhJGWK7LaGlu94NuAadINS\",\n",
       "      \"model\": \"gpt-3.5-turbo-0613\",\n",
       "      \"created_at\": 1693548511,\n",
       "      \"finished_at\": null,\n",
       "      \"fine_tuned_model\": null,\n",
       "      \"organization_id\": \"org-bT1bA6ExTcdQphsyv85F0j6z\",\n",
       "      \"result_files\": [],\n",
       "      \"status\": \"cancelled\",\n",
       "      \"validation_file\": \"file-LTE83jTd01XEUQ6aiL1iLeuN\",\n",
       "      \"training_file\": \"file-a3z1jd3Kt5giIVLsxPubxGUH\",\n",
       "      \"hyperparameters\": {\n",
       "        \"n_epochs\": 1\n",
       "      },\n",
       "      \"trained_tokens\": null\n",
       "    },\n",
       "    {\n",
       "      \"object\": \"fine_tuning.job\",\n",
       "      \"id\": \"ftjob-QcdcVVyLjBabDRhESarNTCpm\",\n",
       "      \"model\": \"gpt-3.5-turbo-0613\",\n",
       "      \"created_at\": 1693546893,\n",
       "      \"finished_at\": 1693547399,\n",
       "      \"fine_tuned_model\": \"ft:gpt-3.5-turbo-0613:korea-university::7trKamW3\",\n",
       "      \"organization_id\": \"org-bT1bA6ExTcdQphsyv85F0j6z\",\n",
       "      \"result_files\": [\n",
       "        \"file-l5WBArbeZ1DKW79pm2USfrCn\"\n",
       "      ],\n",
       "      \"status\": \"succeeded\",\n",
       "      \"validation_file\": \"file-Q5fBGxgptSjSWfvd2pdizTQ4\",\n",
       "      \"training_file\": \"file-3VlDNqS78TwXgLdi92igEz7B\",\n",
       "      \"hyperparameters\": {\n",
       "        \"n_epochs\": 1\n",
       "      },\n",
       "      \"trained_tokens\": 914\n",
       "    },\n",
       "    {\n",
       "      \"object\": \"fine_tuning.job\",\n",
       "      \"id\": \"ftjob-fhipvS2c2q7G3t4s7CLQGgDH\",\n",
       "      \"model\": \"gpt-3.5-turbo-0613\",\n",
       "      \"created_at\": 1693545051,\n",
       "      \"finished_at\": 1693545516,\n",
       "      \"fine_tuned_model\": \"ft:gpt-3.5-turbo-0613:korea-university::7tqqDVxu\",\n",
       "      \"organization_id\": \"org-bT1bA6ExTcdQphsyv85F0j6z\",\n",
       "      \"result_files\": [\n",
       "        \"file-WuxpCaSYmkq171yJVWGAGmbR\"\n",
       "      ],\n",
       "      \"status\": \"succeeded\",\n",
       "      \"validation_file\": \"file-B2h4oSFYdJkA7zzE82nqft0h\",\n",
       "      \"training_file\": \"file-SXe3jQvUsMOrYS9GtfKR1g8s\",\n",
       "      \"hyperparameters\": {\n",
       "        \"n_epochs\": 1\n",
       "      },\n",
       "      \"trained_tokens\": 914\n",
       "    },\n",
       "    {\n",
       "      \"object\": \"fine_tuning.job\",\n",
       "      \"id\": \"ftjob-gNALz0Stw06p7e0NeI0isSAO\",\n",
       "      \"model\": \"gpt-3.5-turbo-0613\",\n",
       "      \"created_at\": 1693544099,\n",
       "      \"finished_at\": 1693544596,\n",
       "      \"fine_tuned_model\": \"ft:gpt-3.5-turbo-0613:korea-university::7tqbNGH5\",\n",
       "      \"organization_id\": \"org-bT1bA6ExTcdQphsyv85F0j6z\",\n",
       "      \"result_files\": [\n",
       "        \"file-GFZY2SmNEuwnRLXq2CmbCHJP\"\n",
       "      ],\n",
       "      \"status\": \"succeeded\",\n",
       "      \"validation_file\": \"file-UEQLpqMsDH2Y7rJLCtbWnqY2\",\n",
       "      \"training_file\": \"file-abntl1qJwH7fVHfRXAn97hKR\",\n",
       "      \"hyperparameters\": {\n",
       "        \"n_epochs\": 1\n",
       "      },\n",
       "      \"trained_tokens\": 2551\n",
       "    },\n",
       "    {\n",
       "      \"object\": \"fine_tuning.job\",\n",
       "      \"id\": \"ftjob-DAZc9L3aEKg1mNY2zFmpgdhv\",\n",
       "      \"model\": \"gpt-3.5-turbo-0613\",\n",
       "      \"created_at\": 1693542580,\n",
       "      \"finished_at\": 1693543162,\n",
       "      \"fine_tuned_model\": \"ft:gpt-3.5-turbo-0613:korea-university::7tqEGsAP\",\n",
       "      \"organization_id\": \"org-bT1bA6ExTcdQphsyv85F0j6z\",\n",
       "      \"result_files\": [\n",
       "        \"file-IG5qEkSebmuqpDR3Zl5ljMA3\"\n",
       "      ],\n",
       "      \"status\": \"succeeded\",\n",
       "      \"validation_file\": null,\n",
       "      \"training_file\": \"file-szdPvDiHgfSoSMJKMsNCtGLG\",\n",
       "      \"hyperparameters\": {\n",
       "        \"n_epochs\": 3\n",
       "      },\n",
       "      \"trained_tokens\": 7653\n",
       "    }\n",
       "  ],\n",
       "  \"has_more\": false\n",
       "}"
      ]
     },
     "execution_count": 28,
     "metadata": {},
     "output_type": "execute_result"
    }
   ],
   "source": [
    "# List 10 fine-tuning jobs\n",
    "openai.FineTuningJob.list(limit=10)"
   ]
  },
  {
   "cell_type": "markdown",
   "id": "c26012f7",
   "metadata": {},
   "source": [
    "### Retrieve information"
   ]
  },
  {
   "cell_type": "code",
   "execution_count": 32,
   "id": "445ce90d",
   "metadata": {},
   "outputs": [
    {
     "name": "stdout",
     "output_type": "stream",
     "text": [
      "current_job_id:[ftjob-o3N7MRwfHtLXgvyheaO7pEHr]\n"
     ]
    }
   ],
   "source": [
    "current_job_id = current_job['id']\n",
    "print  (\"current_job_id:[%s]\"%(current_job_id))"
   ]
  },
  {
   "cell_type": "code",
   "execution_count": 33,
   "id": "72bc304c",
   "metadata": {},
   "outputs": [
    {
     "data": {
      "text/plain": [
       "<FineTuningJob fine_tuning.job id=ftjob-o3N7MRwfHtLXgvyheaO7pEHr at 0x148ca1ae0> JSON: {\n",
       "  \"object\": \"fine_tuning.job\",\n",
       "  \"id\": \"ftjob-o3N7MRwfHtLXgvyheaO7pEHr\",\n",
       "  \"model\": \"gpt-3.5-turbo-0613\",\n",
       "  \"created_at\": 1693548543,\n",
       "  \"finished_at\": null,\n",
       "  \"fine_tuned_model\": null,\n",
       "  \"organization_id\": \"org-bT1bA6ExTcdQphsyv85F0j6z\",\n",
       "  \"result_files\": [],\n",
       "  \"status\": \"running\",\n",
       "  \"validation_file\": \"file-LTE83jTd01XEUQ6aiL1iLeuN\",\n",
       "  \"training_file\": \"file-a3z1jd3Kt5giIVLsxPubxGUH\",\n",
       "  \"hyperparameters\": {\n",
       "    \"n_epochs\": 1\n",
       "  },\n",
       "  \"trained_tokens\": null\n",
       "}"
      ]
     },
     "execution_count": 33,
     "metadata": {},
     "output_type": "execute_result"
    }
   ],
   "source": [
    "# Retrieve the state of a fine-tune\n",
    "openai.FineTuningJob.retrieve(current_job_id)"
   ]
  },
  {
   "cell_type": "markdown",
   "id": "2b2f8800",
   "metadata": {},
   "source": [
    "### Wait for fine-tuning"
   ]
  },
  {
   "cell_type": "code",
   "execution_count": 34,
   "id": "704937f5",
   "metadata": {
    "scrolled": true
   },
   "outputs": [
    {
     "name": "stdout",
     "output_type": "stream",
     "text": [
      "Fine tuning job started\n",
      "Created fine-tune: ftjob-o3N7MRwfHtLXgvyheaO7pEHr\n",
      "Fine tuning job started\n",
      "Created fine-tune: ftjob-o3N7MRwfHtLXgvyheaO7pEHr\n",
      "Fine tuning job started\n",
      "Created fine-tune: ftjob-o3N7MRwfHtLXgvyheaO7pEHr\n",
      "Fine tuning job started\n",
      "Created fine-tune: ftjob-o3N7MRwfHtLXgvyheaO7pEHr\n",
      "Fine tuning job started\n",
      "Created fine-tune: ftjob-o3N7MRwfHtLXgvyheaO7pEHr\n",
      "Fine tuning job started\n",
      "Created fine-tune: ftjob-o3N7MRwfHtLXgvyheaO7pEHr\n",
      "Fine tuning job started\n",
      "Created fine-tune: ftjob-o3N7MRwfHtLXgvyheaO7pEHr\n",
      "Fine-tuning job successfully completed\n",
      "New fine-tuned model created: ft:gpt-3.5-turbo-0613:korea-university::7trkYzgO\n",
      "=====================================\n",
      "Fine-tuning job successfully completed\n",
      "None\n",
      "=====================================\n",
      "New fine-tuned model created: ft:gpt-3.5-turbo-0613:korea-university::7trkYzgO\n",
      "None\n",
      "=====================================\n",
      "Step 10/10: training loss=0.01, validation loss=0.09\n",
      "{\n",
      "  \"step\": 10,\n",
      "  \"train_loss\": 0.007373584900051355,\n",
      "  \"valid_loss\": 0.0896681926540623,\n",
      "  \"train_mean_token_accuracy\": 1.0,\n",
      "  \"valid_mean_token_accuracy\": 1.0\n",
      "}\n",
      "=====================================\n",
      "Step 9/10: training loss=0.44, validation loss=0.04\n",
      "{\n",
      "  \"step\": 9,\n",
      "  \"train_loss\": 0.43525442481040955,\n",
      "  \"valid_loss\": 0.03586494903502171,\n",
      "  \"train_mean_token_accuracy\": 0.800000011920929,\n",
      "  \"valid_mean_token_accuracy\": 1.0\n",
      "}\n",
      "=====================================\n",
      "Step 8/10: training loss=0.12, validation loss=0.01\n",
      "{\n",
      "  \"step\": 8,\n",
      "  \"train_loss\": 0.12047413736581802,\n",
      "  \"valid_loss\": 0.012774830083435518,\n",
      "  \"train_mean_token_accuracy\": 1.0,\n",
      "  \"valid_mean_token_accuracy\": 1.0\n",
      "}\n",
      "=====================================\n",
      "Step 7/10: training loss=0.21, validation loss=0.01\n",
      "{\n",
      "  \"step\": 7,\n",
      "  \"train_loss\": 0.20664668083190918,\n",
      "  \"valid_loss\": 0.012031628279510187,\n",
      "  \"train_mean_token_accuracy\": 0.800000011920929,\n",
      "  \"valid_mean_token_accuracy\": 1.0\n",
      "}\n",
      "=====================================\n",
      "Step 6/10: training loss=0.33, validation loss=0.05\n",
      "{\n",
      "  \"step\": 6,\n",
      "  \"train_loss\": 0.33155274391174316,\n",
      "  \"valid_loss\": 0.04736169826683181,\n",
      "  \"train_mean_token_accuracy\": 0.800000011920929,\n",
      "  \"valid_mean_token_accuracy\": 1.0\n",
      "}\n",
      "=====================================\n",
      "Step 5/10: training loss=0.78, validation loss=0.14\n",
      "{\n",
      "  \"step\": 5,\n",
      "  \"train_loss\": 0.7808297872543335,\n",
      "  \"valid_loss\": 0.14254225192635203,\n",
      "  \"train_mean_token_accuracy\": 0.6000000238418579,\n",
      "  \"valid_mean_token_accuracy\": 1.0\n",
      "}\n",
      "=====================================\n",
      "Step 4/10: training loss=0.60, validation loss=0.26\n",
      "{\n",
      "  \"step\": 4,\n",
      "  \"train_loss\": 0.5981995463371277,\n",
      "  \"valid_loss\": 0.2595348312586793,\n",
      "  \"train_mean_token_accuracy\": 0.800000011920929,\n",
      "  \"valid_mean_token_accuracy\": 0.800000011920929\n",
      "}\n",
      "=====================================\n",
      "Step 3/10: training loss=1.14, validation loss=0.53\n",
      "{\n",
      "  \"step\": 3,\n",
      "  \"train_loss\": 1.1361405849456787,\n",
      "  \"valid_loss\": 0.5318650880604764,\n",
      "  \"train_mean_token_accuracy\": 0.6000000238418579,\n",
      "  \"valid_mean_token_accuracy\": 0.800000011920929\n",
      "}\n"
     ]
    }
   ],
   "source": [
    "while True:\n",
    "    job = openai.FineTuningJob.retrieve(current_job_id)\n",
    "    completed = job['status'] != 'running'\n",
    "    # List up to 10 events from a fine-tuning job\n",
    "    events = openai.FineTuningJob.list_events(id=current_job_id, limit=2)\n",
    "    for event in events['data']:\n",
    "        print(event['message'])\n",
    "    if completed:\n",
    "        break\n",
    "    time.sleep(60)\n",
    "events = openai.FineTuningJob.list_events(id=current_job_id, limit=10)\n",
    "for event in events['data']:\n",
    "    print(\"=====================================\")\n",
    "    print(event['message'])\n",
    "    print(event['data'])\n",
    "print (\"Ready.\")"
   ]
  },
  {
   "cell_type": "markdown",
   "id": "685011a6",
   "metadata": {},
   "source": [
    "### Inference"
   ]
  },
  {
   "cell_type": "code",
   "execution_count": 36,
   "id": "66be38d3",
   "metadata": {},
   "outputs": [],
   "source": [
    "model_id = openai.FineTuningJob.retrieve(current_job_id)['fine_tuned_model']"
   ]
  },
  {
   "cell_type": "code",
   "execution_count": 38,
   "id": "ca0074b4",
   "metadata": {},
   "outputs": [
    {
     "name": "stdout",
     "output_type": "stream",
     "text": [
      "{'answer': 'Yes', 'index': '16', 'question': \"Is a judge required to take appropriate action if there's a substantial likelihood that an attorney has committed a substantial violation of the Rules of Professional Conduct?\", 'year': '2010'}\n"
     ]
    }
   ],
   "source": [
    "start_idx = NUM_TRAIN + NUM_VALIDATION\n",
    "end_idx = len(dataset['test'])\n",
    "sample_idx = random.randint(start_idx, end_idx)\n",
    "sample = dataset['test'][sample_idx]\n",
    "print(sample)"
   ]
  },
  {
   "cell_type": "code",
   "execution_count": 39,
   "id": "9a6a0839",
   "metadata": {},
   "outputs": [],
   "source": [
    "messages = [\n",
    "    {\"role\": \"system\", \"content\": base_text},\n",
    "    {\"role\": \"user\", \"content\": \"Question: \" + sample['question']}\n",
    "]"
   ]
  },
  {
   "cell_type": "code",
   "execution_count": 40,
   "id": "b748321b",
   "metadata": {},
   "outputs": [],
   "source": [
    "response = completion = openai.ChatCompletion.create(\n",
    "  model=model_id,\n",
    "  messages=messages\n",
    ")"
   ]
  },
  {
   "cell_type": "code",
   "execution_count": 41,
   "id": "0bf97bce",
   "metadata": {},
   "outputs": [
    {
     "name": "stdout",
     "output_type": "stream",
     "text": [
      "Question: Is a judge required to take appropriate action if there's a substantial likelihood that an attorney has committed a substantial violation of the Rules of Professional Conduct?\n",
      "Answer: Answer: Yes\n",
      "Ground Truth: Yes\n"
     ]
    }
   ],
   "source": [
    "answer = response['choices'][0]['message']['content']\n",
    "print('Question: ' + sample['question'])\n",
    "print('Answer: ' + answer)\n",
    "print('Ground Truth: ' + sample['answer'])"
   ]
  },
  {
   "cell_type": "code",
   "execution_count": null,
   "id": "4e00d67b",
   "metadata": {},
   "outputs": [],
   "source": []
  }
 ],
 "metadata": {
  "kernelspec": {
   "display_name": "Python 3 (ipykernel)",
   "language": "python",
   "name": "python3"
  },
  "language_info": {
   "codemirror_mode": {
    "name": "ipython",
    "version": 3
   },
   "file_extension": ".py",
   "mimetype": "text/x-python",
   "name": "python",
   "nbconvert_exporter": "python",
   "pygments_lexer": "ipython3",
   "version": "3.9.16"
  }
 },
 "nbformat": 4,
 "nbformat_minor": 5
}
