{
 "cells": [
  {
   "cell_type": "markdown",
   "id": "9d42d686",
   "metadata": {},
   "source": [
    "### Retrieval-Augmented Generation with Wikipedia"
   ]
  },
  {
   "cell_type": "code",
   "execution_count": 1,
   "id": "0ff8898c",
   "metadata": {},
   "outputs": [
    {
     "name": "stdout",
     "output_type": "stream",
     "text": [
      "openai version:[0.27.8]\n"
     ]
    }
   ],
   "source": [
    "import os\n",
    "import openai\n",
    "from gpt_helper import set_openai_api_key_from_txt,GPTchatClass,printmd\n",
    "from wiki_helper import wiki_search\n",
    "from util import printmd,extract_quoted_words\n",
    "print (\"openai version:[%s]\"%(openai.__version__))"
   ]
  },
  {
   "cell_type": "markdown",
   "id": "1b39a3d2",
   "metadata": {},
   "source": [
    "### Instantiate GPT Agent"
   ]
  },
  {
   "cell_type": "code",
   "execution_count": 2,
   "id": "08bd57a4",
   "metadata": {},
   "outputs": [
    {
     "name": "stdout",
     "output_type": "stream",
     "text": [
      "OpenAI API Key Ready from [../key/rilab_key.txt].\n",
      "Chat agent using [gpt-3.5-turbo] initialized with the follow role:[Your are a helpful assistant summarizing infromation and answering user queries.]\n"
     ]
    }
   ],
   "source": [
    "set_openai_api_key_from_txt(key_path='../key/rilab_key.txt')\n",
    "GPT = GPTchatClass(\n",
    "    gpt_model='gpt-3.5-turbo', # 'gpt-3.5-turbo' / 'gpt-4'\n",
    "    role_msg='Your are a helpful assistant summarizing infromation and answering user queries.')"
   ]
  },
  {
   "cell_type": "markdown",
   "id": "cb1e669b",
   "metadata": {},
   "source": [
    "### Our RAG agent will use the following strategies\n",
    "We assume that a user question is given (e.g., 'Who is the current president of South Korea?').\n",
    "* Step 1. For the given question, our `GPT agent` will first generate a number of entities for searching Wikipedia.\n",
    "* Step 2. Then, our `WikiBot` will provide (i.e., crawl) related information summarized with the `GPT agent` considering the user question.\n",
    "* Step 3. Finally, the summarized texts and the original user question will be given to the `GPT agent` to answer. "
   ]
  },
  {
   "cell_type": "code",
   "execution_count": 3,
   "id": "7986bfe2",
   "metadata": {},
   "outputs": [
    {
     "name": "stdout",
     "output_type": "stream",
     "text": [
      "question: Who is the current president of South Korea?\n"
     ]
    }
   ],
   "source": [
    "question = 'Who is the current president of South Korea?'\n",
    "\"\"\"\n",
    "question = '''\n",
    "    I am an interactive humanoid robot agent. \n",
    "    I have following action capabilites:['idle','waving','greeting','raising hands','hugging','reading a book']\n",
    "    I can detect following observations:['no people','a person appears','a person waves hands','a person leaves']\n",
    "    I have a following personality:['Introverted and Childish']\n",
    "    What is the best next action when I am in ['idle'] state and observes ['a person waves hands']?\n",
    "'''\n",
    "\"\"\"\n",
    "print (\"question: %s\"%(question))"
   ]
  },
  {
   "cell_type": "markdown",
   "id": "a7786588",
   "metadata": {},
   "source": [
    "### Step 1. Generate entities for wiki search"
   ]
  },
  {
   "cell_type": "code",
   "execution_count": 4,
   "id": "a46151c3",
   "metadata": {},
   "outputs": [],
   "source": [
    "user_msg = \\\n",
    "    \"\"\"\n",
    "    Suppose you will use Wikipedia for retrieving information. \n",
    "    Could you recommend three query words wrapped with quotation marks considering the following question?\n",
    "    \"\"\" + '\"' + question + '\"'"
   ]
  },
  {
   "cell_type": "code",
   "execution_count": 5,
   "id": "31f76438",
   "metadata": {},
   "outputs": [
    {
     "name": "stdout",
     "output_type": "stream",
     "text": [
      "[USER_MSG]\n"
     ]
    },
    {
     "data": {
      "text/markdown": [
       "\n",
       "    Suppose you will use Wikipedia for retrieving information. \n",
       "    Could you recommend three query words wrapped with quotation marks considering the following question?\n",
       "    \"Who is the current president of South Korea?\""
      ],
      "text/plain": [
       "<IPython.core.display.Markdown object>"
      ]
     },
     "metadata": {},
     "output_type": "display_data"
    },
    {
     "name": "stdout",
     "output_type": "stream",
     "text": [
      "[GPT_OUTPUT]\n"
     ]
    },
    {
     "data": {
      "text/markdown": [
       "Certainly! Here are three query words wrapped in quotation marks for the question \"Who is the current president of South Korea?\":\n",
       "\n",
       "1. \"Current president of South Korea\"\n",
       "2. \"President of South Korea\" \n",
       "3. \"Current leader of South Korea\""
      ],
      "text/plain": [
       "<IPython.core.display.Markdown object>"
      ]
     },
     "metadata": {},
     "output_type": "display_data"
    }
   ],
   "source": [
    "response_content = GPT.chat(\n",
    "    user_msg=user_msg,PRINT_USER_MSG=True,PRINT_GPT_OUTPUT=True,\n",
    "    RESET_CHAT=True,RETURN_RESPONSE=True)"
   ]
  },
  {
   "cell_type": "code",
   "execution_count": 6,
   "id": "90835aa3",
   "metadata": {},
   "outputs": [
    {
     "data": {
      "text/markdown": [
       "Certainly! Here are three query words wrapped in quotation marks for the question \"Who is the current president of South Korea?\":\n",
       "\n",
       "1. \"Current president of South Korea\"\n",
       "2. \"President of South Korea\" \n",
       "3. \"Current leader of South Korea\""
      ],
      "text/plain": [
       "<IPython.core.display.Markdown object>"
      ]
     },
     "metadata": {},
     "output_type": "display_data"
    }
   ],
   "source": [
    "# Print summarized sentence with a markdown format\n",
    "printmd(response_content)"
   ]
  },
  {
   "cell_type": "code",
   "execution_count": 7,
   "id": "da04d2e3",
   "metadata": {},
   "outputs": [
    {
     "name": "stdout",
     "output_type": "stream",
     "text": [
      "['Current president of South Korea', 'President of South Korea', 'Current leader of South Korea']\n"
     ]
    }
   ],
   "source": [
    "entities = extract_quoted_words(response_content)\n",
    "if len(entities) > 3: entities = entities[-3:]\n",
    "print (entities)"
   ]
  },
  {
   "cell_type": "markdown",
   "id": "79e4bf43",
   "metadata": {},
   "source": [
    "### Step 2. Query entities to `WikiBot`"
   ]
  },
  {
   "cell_type": "code",
   "execution_count": 8,
   "id": "288c9789",
   "metadata": {},
   "outputs": [
    {
     "name": "stdout",
     "output_type": "stream",
     "text": [
      "entity:[Current president of South Korea] mismatched. use [President of South Korea] instead.\n",
      " We have total [358] paragraphs.\n",
      " After filtering, we have [30] and [8] paragraphs returned (k:[5] and m:[3])\n",
      "entity:[President of South Korea] matched.\n",
      " We have total [358] paragraphs.\n",
      " After filtering, we have [30] and [8] paragraphs returned (k:[5] and m:[3])\n",
      "entity:[Current leader of South Korea] mismatched. use [List of current state leaders by date of assumption of office] instead.\n",
      " We have total [62] paragraphs.\n",
      " After filtering, we have [6] and [6] paragraphs returned (k:[5] and m:[3])\n"
     ]
    }
   ],
   "source": [
    "paragraphs_return = []\n",
    "for entity in entities:\n",
    "    paragraphs_return += wiki_search(entity=entity,VERBOSE=True)"
   ]
  },
  {
   "cell_type": "code",
   "execution_count": 9,
   "id": "92579ce3",
   "metadata": {},
   "outputs": [
    {
     "name": "stdout",
     "output_type": "stream",
     "text": [
      "Number of paragraphs [22] => unique ones [14]\n"
     ]
    }
   ],
   "source": [
    "# Get the unique elements\n",
    "paragraphs_unique = list(set(paragraphs_return))\n",
    "print (\"Number of paragraphs [%d] => unique ones [%d]\"%\n",
    "       (len(paragraphs_return),len(paragraphs_unique)))"
   ]
  },
  {
   "cell_type": "code",
   "execution_count": 10,
   "id": "512ca3f3",
   "metadata": {
    "scrolled": true
   },
   "outputs": [
    {
     "data": {
      "text/markdown": [
       "Yoon Suk Yeol, a former prosecutor general and member of the conservative People Power Party, became the current president of South Korea on May 10, 2022, after winning the 2022 presidential election with a narrow 48.5% plurality."
      ],
      "text/plain": [
       "<IPython.core.display.Markdown object>"
      ]
     },
     "metadata": {},
     "output_type": "display_data"
    },
    {
     "data": {
      "text/markdown": [
       "The current president of South Korea is not mentioned in the provided paragraph."
      ],
      "text/plain": [
       "<IPython.core.display.Markdown object>"
      ]
     },
     "metadata": {},
     "output_type": "display_data"
    },
    {
     "data": {
      "text/markdown": [
       "The Provisional Government of the Republic of Korea, established in Shanghai in September 1919, played a key role in organizing the Korean people's resistance against the Japanese occupation, and its legitimacy has been recognized and succeeded by South Korea."
      ],
      "text/plain": [
       "<IPython.core.display.Markdown object>"
      ]
     },
     "metadata": {},
     "output_type": "display_data"
    },
    {
     "data": {
      "text/markdown": [
       "The paragraph describes the National Security Council and the Peaceful Unification Advisory Council in South Korea, with the latter serving as a government sounding board and a means to provide titles and opportunities to dignitaries and others."
      ],
      "text/plain": [
       "<IPython.core.display.Markdown object>"
      ]
     },
     "metadata": {},
     "output_type": "display_data"
    },
    {
     "data": {
      "text/markdown": [
       "The information provided does not contain any relevant information about the current president of South Korea."
      ],
      "text/plain": [
       "<IPython.core.display.Markdown object>"
      ]
     },
     "metadata": {},
     "output_type": "display_data"
    },
    {
     "data": {
      "text/markdown": [
       "The paragraph states that the list includes acting presidents, but only the current period of service is listed for leaders with non-consecutive terms."
      ],
      "text/plain": [
       "<IPython.core.display.Markdown object>"
      ]
     },
     "metadata": {},
     "output_type": "display_data"
    },
    {
     "data": {
      "text/markdown": [
       "The president of South Korea is not allowed to dissolve the National Assembly, but they are permitted to take emergency measures that could amend or abolish existing laws, which must be approved by the National Assembly."
      ],
      "text/plain": [
       "<IPython.core.display.Markdown object>"
      ]
     },
     "metadata": {},
     "output_type": "display_data"
    },
    {
     "data": {
      "text/markdown": [
       "The paragraph is discussing a list of current state leaders ranked by their continuous tenure in national leadership positions, including both head of state and head of government roles for countries where they are separate, and starting from when they took office rather than independence."
      ],
      "text/plain": [
       "<IPython.core.display.Markdown object>"
      ]
     },
     "metadata": {},
     "output_type": "display_data"
    },
    {
     "data": {
      "text/markdown": [
       "The current president of South Korea is the head of state, head of government, and commander-in-chief of the Republic of Korea Armed Forces."
      ],
      "text/plain": [
       "<IPython.core.display.Markdown object>"
      ]
     },
     "metadata": {},
     "output_type": "display_data"
    },
    {
     "data": {
      "text/markdown": [
       "The current president of South Korea is unable to seek re-election due to a law that has been in place since 1981, and the presidential term has been five years since 1988."
      ],
      "text/plain": [
       "<IPython.core.display.Markdown object>"
      ]
     },
     "metadata": {},
     "output_type": "display_data"
    },
    {
     "data": {
      "text/markdown": [
       "The current president of South Korea is unknown as it is not mentioned in the given paragraph."
      ],
      "text/plain": [
       "<IPython.core.display.Markdown object>"
      ]
     },
     "metadata": {},
     "output_type": "display_data"
    },
    {
     "data": {
      "text/markdown": [
       "The current president of South Korea is directly elected for a five-year term with no possibility of re-election, and if a vacancy occurs, a successor must be elected within sixty days."
      ],
      "text/plain": [
       "<IPython.core.display.Markdown object>"
      ]
     },
     "metadata": {},
     "output_type": "display_data"
    },
    {
     "data": {
      "text/markdown": [
       "The controversial Advisory Council of Elder Statesmen in South Korea, which was expanded and given cabinet rank, drew public suspicion that it was designed to benefit a certain individual, but those concerns were rendered moot when former President Chun withdrew to a Buddhist temple in self-imposed exile."
      ],
      "text/plain": [
       "<IPython.core.display.Markdown object>"
      ]
     },
     "metadata": {},
     "output_type": "display_data"
    },
    {
     "data": {
      "text/markdown": [
       "The paragraph explains that in parliamentary systems, the head of state and head of government are separate positions, whereas in presidential systems or dictatorships, one leader holds both positions, and in semi-presidential systems, both roles may be fulfilled by different individuals."
      ],
      "text/plain": [
       "<IPython.core.display.Markdown object>"
      ]
     },
     "metadata": {},
     "output_type": "display_data"
    }
   ],
   "source": [
    "# Now summarize each paragraph into a single sentence considering the question\n",
    "summarized_sentences = []\n",
    "for p_idx,p in enumerate(paragraphs_unique):\n",
    "    user_msg = \"You are given following question: \"+question\n",
    "    user_msg += \"Could you summarize the following paragraph into one setence? \\n \"+p\n",
    "    response_content = GPT.chat(\n",
    "        user_msg=user_msg,PRINT_USER_MSG=False,PRINT_GPT_OUTPUT=False,\n",
    "        RESET_CHAT=True,RETURN_RESPONSE=True)\n",
    "    # Append summarized sentences\n",
    "    summarized_sentences.append(response_content)\n",
    "    # Print summarized sentence with a markdown format\n",
    "    printmd(response_content)"
   ]
  },
  {
   "cell_type": "markdown",
   "id": "d5286646",
   "metadata": {},
   "source": [
    "### Step 3. Answer the question using `summarized_sentences`"
   ]
  },
  {
   "cell_type": "code",
   "execution_count": 11,
   "id": "9d5ddbe4",
   "metadata": {},
   "outputs": [],
   "source": [
    "user_msg = \" \".join(summarized_sentences)\n",
    "user_msg += \" Using the information above, could you answer the following question? \"\n",
    "user_msg += question"
   ]
  },
  {
   "cell_type": "code",
   "execution_count": 12,
   "id": "d680df19",
   "metadata": {
    "scrolled": true
   },
   "outputs": [
    {
     "name": "stdout",
     "output_type": "stream",
     "text": [
      "[USER_MSG]\n"
     ]
    },
    {
     "data": {
      "text/markdown": [
       "Yoon Suk Yeol, a former prosecutor general and member of the conservative People Power Party, became the current president of South Korea on May 10, 2022, after winning the 2022 presidential election with a narrow 48.5% plurality. The current president of South Korea is not mentioned in the provided paragraph. The Provisional Government of the Republic of Korea, established in Shanghai in September 1919, played a key role in organizing the Korean people's resistance against the Japanese occupation, and its legitimacy has been recognized and succeeded by South Korea. The paragraph describes the National Security Council and the Peaceful Unification Advisory Council in South Korea, with the latter serving as a government sounding board and a means to provide titles and opportunities to dignitaries and others. The information provided does not contain any relevant information about the current president of South Korea. The paragraph states that the list includes acting presidents, but only the current period of service is listed for leaders with non-consecutive terms. The president of South Korea is not allowed to dissolve the National Assembly, but they are permitted to take emergency measures that could amend or abolish existing laws, which must be approved by the National Assembly. The paragraph is discussing a list of current state leaders ranked by their continuous tenure in national leadership positions, including both head of state and head of government roles for countries where they are separate, and starting from when they took office rather than independence. The current president of South Korea is the head of state, head of government, and commander-in-chief of the Republic of Korea Armed Forces. The current president of South Korea is unable to seek re-election due to a law that has been in place since 1981, and the presidential term has been five years since 1988. The current president of South Korea is unknown as it is not mentioned in the given paragraph. The current president of South Korea is directly elected for a five-year term with no possibility of re-election, and if a vacancy occurs, a successor must be elected within sixty days. The controversial Advisory Council of Elder Statesmen in South Korea, which was expanded and given cabinet rank, drew public suspicion that it was designed to benefit a certain individual, but those concerns were rendered moot when former President Chun withdrew to a Buddhist temple in self-imposed exile. The paragraph explains that in parliamentary systems, the head of state and head of government are separate positions, whereas in presidential systems or dictatorships, one leader holds both positions, and in semi-presidential systems, both roles may be fulfilled by different individuals. Using the information above, could you answer the following question? Who is the current president of South Korea?"
      ],
      "text/plain": [
       "<IPython.core.display.Markdown object>"
      ]
     },
     "metadata": {},
     "output_type": "display_data"
    },
    {
     "name": "stdout",
     "output_type": "stream",
     "text": [
      "[GPT_OUTPUT]\n"
     ]
    },
    {
     "data": {
      "text/markdown": [
       "The paragraph does not provide information about the current president of South Korea. Therefore, I cannot answer the question."
      ],
      "text/plain": [
       "<IPython.core.display.Markdown object>"
      ]
     },
     "metadata": {},
     "output_type": "display_data"
    }
   ],
   "source": [
    "response_content = GPT.chat(\n",
    "    user_msg=user_msg,PRINT_USER_MSG=True,PRINT_GPT_OUTPUT=True,\n",
    "    RESET_CHAT=False,RETURN_RESPONSE=True)"
   ]
  },
  {
   "cell_type": "code",
   "execution_count": 13,
   "id": "b987f6f2",
   "metadata": {},
   "outputs": [
    {
     "name": "stdout",
     "output_type": "stream",
     "text": [
      "[USER_MSG]\n"
     ]
    },
    {
     "data": {
      "text/markdown": [
       "Could you explain about this little longer?"
      ],
      "text/plain": [
       "<IPython.core.display.Markdown object>"
      ]
     },
     "metadata": {},
     "output_type": "display_data"
    },
    {
     "name": "stdout",
     "output_type": "stream",
     "text": [
      "[GPT_OUTPUT]\n"
     ]
    },
    {
     "data": {
      "text/markdown": [
       "Certainly! The provided paragraph contains information about various aspects of South Korean politics and governance, but it does not mention the current president of South Korea. It discusses the establishment of the Provisional Government of the Republic of Korea, which played a significant role in organizing resistance against Japanese occupation. It also mentions the National Security Council and the Peaceful Unification Advisory Council in South Korea, which serve different roles within the government.\n",
       "\n",
       "The paragraph goes on to mention that the president of South Korea is unable to dissolve the National Assembly but can take emergency measures that may amend or abolish existing laws with the approval of the National Assembly. It explains that the current president holds positions as the head of state, head of government, and commander-in-chief of the Republic of Korea Armed Forces.\n",
       "\n",
       "However, despite discussing various elements of South Korean politics, the paragraph does not provide any information about the current president of South Korea. Therefore, the answer to the question of who the current president is cannot be found in the given paragraph."
      ],
      "text/plain": [
       "<IPython.core.display.Markdown object>"
      ]
     },
     "metadata": {},
     "output_type": "display_data"
    }
   ],
   "source": [
    "user_msg = \"Could you explain about this little longer?\"\n",
    "response_content = GPT.chat(\n",
    "    user_msg=user_msg,PRINT_USER_MSG=True,PRINT_GPT_OUTPUT=True,\n",
    "    RESET_CHAT=False,RETURN_RESPONSE=True)"
   ]
  },
  {
   "cell_type": "code",
   "execution_count": null,
   "id": "adb3a643",
   "metadata": {},
   "outputs": [],
   "source": []
  }
 ],
 "metadata": {
  "kernelspec": {
   "display_name": "Python 3 (ipykernel)",
   "language": "python",
   "name": "python3"
  },
  "language_info": {
   "codemirror_mode": {
    "name": "ipython",
    "version": 3
   },
   "file_extension": ".py",
   "mimetype": "text/x-python",
   "name": "python",
   "nbconvert_exporter": "python",
   "pygments_lexer": "ipython3",
   "version": "3.9.16"
  }
 },
 "nbformat": 4,
 "nbformat_minor": 5
}
