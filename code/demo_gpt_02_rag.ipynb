{
 "cells": [
  {
   "cell_type": "markdown",
   "id": "9d42d686",
   "metadata": {},
   "source": [
    "### Retrieval-Augmented Generation with Wikipedia"
   ]
  },
  {
   "cell_type": "code",
   "execution_count": 1,
   "id": "0ff8898c",
   "metadata": {},
   "outputs": [
    {
     "name": "stdout",
     "output_type": "stream",
     "text": [
      "openai version:[1.3.7]\n"
     ]
    }
   ],
   "source": [
    "import os\n",
    "import openai\n",
    "from gpt_helper import GPTchatClass, printmd\n",
    "from wiki_helper import wiki_search\n",
    "from util import printmd, extract_quoted_words\n",
    "\n",
    "print(\"openai version:[%s]\" % (openai.__version__))"
   ]
  },
  {
   "cell_type": "markdown",
   "id": "1b39a3d2",
   "metadata": {},
   "source": [
    "### Instantiate GPT Agent"
   ]
  },
  {
   "cell_type": "code",
   "execution_count": 2,
   "id": "08bd57a4",
   "metadata": {},
   "outputs": [
    {
     "data": {
      "text/html": [
       "<pre style=\"white-space:pre;overflow-x:auto;line-height:normal;font-family:Menlo,'DejaVu Sans Mono',consolas,'Courier New',monospace\"><span style=\"color: #008080; text-decoration-color: #008080; font-weight: bold\">key_path:[../key/rilab_key.txt]</span>\n",
       "</pre>\n"
      ],
      "text/plain": [
       "\u001b[1;36mkey_path:\u001b[0m\u001b[1;36m[\u001b[0m\u001b[1;36m..\u001b[0m\u001b[1;36m/key/\u001b[0m\u001b[1;36mrilab_key.txt\u001b[0m\u001b[1;36m]\u001b[0m\n"
      ]
     },
     "metadata": {},
     "output_type": "display_data"
    },
    {
     "data": {
      "text/html": [
       "<pre style=\"white-space:pre;overflow-x:auto;line-height:normal;font-family:Menlo,'DejaVu Sans Mono',consolas,'Courier New',monospace\"><span style=\"color: #008080; text-decoration-color: #008080; font-weight: bold\">Chat agent using  initialized with the follow role:[Your are a helpful assistant summarizing infromation and </span>\n",
       "<span style=\"color: #008080; text-decoration-color: #008080; font-weight: bold\">answering user queries.]</span>\n",
       "</pre>\n"
      ],
      "text/plain": [
       "\u001b[1;36mChat agent using \u001b[0m\u001b[1;36m initialized with the follow role:\u001b[0m\u001b[1;36m[\u001b[0m\u001b[1;36mYour are a helpful assistant summarizing infromation and \u001b[0m\n",
       "\u001b[1;36manswering user queries.\u001b[0m\u001b[1;36m]\u001b[0m\n"
      ]
     },
     "metadata": {},
     "output_type": "display_data"
    }
   ],
   "source": [
    "GPT = GPTchatClass(\n",
    "    gpt_model=\"gpt-3.5-turbo\",  # 'gpt-3.5-turbo' / 'gpt-4'\n",
    "    role_msg=\"Your are a helpful assistant summarizing infromation and answering user queries.\",\n",
    ")"
   ]
  },
  {
   "cell_type": "markdown",
   "id": "cb1e669b",
   "metadata": {},
   "source": [
    "### Our RAG agent will use the following strategies\n",
    "We assume that a user question is given (e.g., 'Who is the current president of South Korea?').\n",
    "* Step 1. For the given question, our `GPT agent` will first generate a number of entities for searching Wikipedia.\n",
    "* Step 2. Then, our `WikiBot` will provide (i.e., crawl) related information summarized with the `GPT agent` considering the user question.\n",
    "* Step 3. Finally, the summarized texts and the original user question will be given to the `GPT agent` to answer. "
   ]
  },
  {
   "cell_type": "code",
   "execution_count": 3,
   "id": "7986bfe2",
   "metadata": {},
   "outputs": [
    {
     "name": "stdout",
     "output_type": "stream",
     "text": [
      "question: Who is the current president of South Korea?\n"
     ]
    }
   ],
   "source": [
    "question = 'Who is the current president of South Korea?'\n",
    "\"\"\"\n",
    "question = '''\n",
    "    I am an interactive humanoid robot agent. \n",
    "    I have following action capabilites:['idle','waving','greeting','raising hands','hugging','reading a book']\n",
    "    I can detect following observations:['no people','a person appears','a person waves hands','a person leaves']\n",
    "    I have a following personality:['Introverted and Childish']\n",
    "    What is the best next action when I am in ['idle'] state and observes ['a person waves hands']?\n",
    "'''\n",
    "\"\"\"\n",
    "print (\"question: %s\"%(question))"
   ]
  },
  {
   "cell_type": "markdown",
   "id": "a7786588",
   "metadata": {},
   "source": [
    "### Step 1. Generate entities for wiki search"
   ]
  },
  {
   "cell_type": "code",
   "execution_count": 4,
   "id": "a46151c3",
   "metadata": {},
   "outputs": [],
   "source": [
    "user_msg = \\\n",
    "    \"\"\"\n",
    "    Suppose you will use Wikipedia for retrieving information. \n",
    "    Could you recommend three query words wrapped with quotation marks considering the following question?\n",
    "    \"\"\" + '\"' + question + '\"'"
   ]
  },
  {
   "cell_type": "code",
   "execution_count": 5,
   "id": "31f76438",
   "metadata": {},
   "outputs": [
    {
     "data": {
      "text/html": [
       "<pre style=\"white-space:pre;overflow-x:auto;line-height:normal;font-family:Menlo,'DejaVu Sans Mono',consolas,'Courier New',monospace\"><span style=\"color: #0087d7; text-decoration-color: #0087d7; font-weight: bold\">[</span><span style=\"color: #0087d7; text-decoration-color: #0087d7\">USER_MSG</span><span style=\"color: #0087d7; text-decoration-color: #0087d7; font-weight: bold\">]</span>\n",
       "</pre>\n"
      ],
      "text/plain": [
       "\u001b[1;38;5;32m[\u001b[0m\u001b[38;5;32mUSER_MSG\u001b[0m\u001b[1;38;5;32m]\u001b[0m\n"
      ]
     },
     "metadata": {},
     "output_type": "display_data"
    },
    {
     "data": {
      "text/markdown": [
       "\n",
       "    Suppose you will use Wikipedia for retrieving information. \n",
       "    Could you recommend three query words wrapped with quotation marks considering the following question?\n",
       "    \"Who is the current president of South Korea?\""
      ],
      "text/plain": [
       "<IPython.core.display.Markdown object>"
      ]
     },
     "metadata": {},
     "output_type": "display_data"
    },
    {
     "data": {
      "text/html": [
       "<pre style=\"white-space:pre;overflow-x:auto;line-height:normal;font-family:Menlo,'DejaVu Sans Mono',consolas,'Courier New',monospace\"><span style=\"color: #00875f; text-decoration-color: #00875f; font-weight: bold\">[</span><span style=\"color: #00875f; text-decoration-color: #00875f\">GPT_OUTPUT</span><span style=\"color: #00875f; text-decoration-color: #00875f; font-weight: bold\">]</span>\n",
       "</pre>\n"
      ],
      "text/plain": [
       "\u001b[1;38;5;29m[\u001b[0m\u001b[38;5;29mGPT_OUTPUT\u001b[0m\u001b[1;38;5;29m]\u001b[0m\n"
      ]
     },
     "metadata": {},
     "output_type": "display_data"
    },
    {
     "data": {
      "text/markdown": [
       "Sure! Here are three query words wrapped with quotation marks that you can use to search for information on the current president of South Korea:\n",
       "\n",
       "1. \"current president of South Korea\"\n",
       "2. \"president of South Korea\"\n",
       "3. \"South Korea president\""
      ],
      "text/plain": [
       "<IPython.core.display.Markdown object>"
      ]
     },
     "metadata": {},
     "output_type": "display_data"
    }
   ],
   "source": [
    "response_content = GPT.chat(\n",
    "    user_msg=user_msg,PRINT_USER_MSG=True,PRINT_GPT_OUTPUT=True,\n",
    "    RESET_CHAT=True,RETURN_RESPONSE=True)"
   ]
  },
  {
   "cell_type": "code",
   "execution_count": 6,
   "id": "90835aa3",
   "metadata": {},
   "outputs": [
    {
     "data": {
      "text/markdown": [
       "Sure! Here are three query words wrapped with quotation marks that you can use to search for information on the current president of South Korea:\n",
       "\n",
       "1. \"current president of South Korea\"\n",
       "2. \"president of South Korea\"\n",
       "3. \"South Korea president\""
      ],
      "text/plain": [
       "<IPython.core.display.Markdown object>"
      ]
     },
     "metadata": {},
     "output_type": "display_data"
    }
   ],
   "source": [
    "# Print summarized sentence with a markdown format\n",
    "printmd(response_content)"
   ]
  },
  {
   "cell_type": "code",
   "execution_count": 7,
   "id": "da04d2e3",
   "metadata": {},
   "outputs": [
    {
     "name": "stdout",
     "output_type": "stream",
     "text": [
      "['current president of South Korea', 'president of South Korea', 'South Korea president']\n"
     ]
    }
   ],
   "source": [
    "entities = extract_quoted_words(response_content)\n",
    "if len(entities) > 3:\n",
    "    entities = entities[-3:]\n",
    "print(entities)"
   ]
  },
  {
   "cell_type": "markdown",
   "id": "79e4bf43",
   "metadata": {},
   "source": [
    "### Step 2. Query entities to `WikiBot`"
   ]
  },
  {
   "cell_type": "code",
   "execution_count": 8,
   "id": "288c9789",
   "metadata": {},
   "outputs": [
    {
     "name": "stdout",
     "output_type": "stream",
     "text": [
      "entity:[current president of South Korea] mismatched. use [President of South Korea] instead.\n",
      " We have total [294] paragraphs.\n",
      " After filtering, we have [31] and [8] paragraphs returned (k:[5] and m:[3])\n",
      "entity:[president of South Korea] matched.\n",
      " We have total [294] paragraphs.\n",
      " After filtering, we have [31] and [8] paragraphs returned (k:[5] and m:[3])\n",
      "entity:[South Korea president] matched.\n",
      " We have total [294] paragraphs.\n",
      " After filtering, we have [31] and [8] paragraphs returned (k:[5] and m:[3])\n"
     ]
    }
   ],
   "source": [
    "paragraphs_return = []\n",
    "for entity in entities:\n",
    "    paragraphs_return += wiki_search(entity=entity, VERBOSE=True)"
   ]
  },
  {
   "cell_type": "code",
   "execution_count": 9,
   "id": "92579ce3",
   "metadata": {},
   "outputs": [
    {
     "name": "stdout",
     "output_type": "stream",
     "text": [
      "Number of paragraphs [24] => unique ones [8]\n"
     ]
    }
   ],
   "source": [
    "# Get the unique elements\n",
    "paragraphs_unique = list(set(paragraphs_return))\n",
    "print(\n",
    "    \"Number of paragraphs [%d] => unique ones [%d]\"\n",
    "    % (len(paragraphs_return), len(paragraphs_unique))\n",
    ")"
   ]
  },
  {
   "cell_type": "code",
   "execution_count": 10,
   "id": "512ca3f3",
   "metadata": {
    "scrolled": true
   },
   "outputs": [
    {
     "data": {
      "text/markdown": [
       "The current president of South Korea is directly elected for a five-year term with no possibility of re-election and is exempt from criminal liability, except for insurrection or treason."
      ],
      "text/plain": [
       "<IPython.core.display.Markdown object>"
      ]
     },
     "metadata": {},
     "output_type": "display_data"
    },
    {
     "data": {
      "text/markdown": [
       "The current president of South Korea serves a five-year term and is not eligible for re-election."
      ],
      "text/plain": [
       "<IPython.core.display.Markdown object>"
      ]
     },
     "metadata": {},
     "output_type": "display_data"
    },
    {
     "data": {
      "text/markdown": [
       "The current president of South Korea is the head of state and government, leading the State Council and serving as the commander-in-chief of the Republic of Korea Armed Forces."
      ],
      "text/plain": [
       "<IPython.core.display.Markdown object>"
      ]
     },
     "metadata": {},
     "output_type": "display_data"
    },
    {
     "data": {
      "text/markdown": [
       "The current president of South Korea does not have the power to dissolve the National Assembly and can take emergency measures that may amend or abolish laws, but these measures must be endorsed by the National Assembly to be in effect."
      ],
      "text/plain": [
       "<IPython.core.display.Markdown object>"
      ]
     },
     "metadata": {},
     "output_type": "display_data"
    },
    {
     "data": {
      "text/markdown": [
       "The current president of South Korea chairs the National Security Council and there is also a Peaceful Unification Advisory Council, which serves as a government sounding board and provides opportunities to meet with senior officials."
      ],
      "text/plain": [
       "<IPython.core.display.Markdown object>"
      ]
     },
     "metadata": {},
     "output_type": "display_data"
    },
    {
     "data": {
      "text/markdown": [
       "The controversial Advisory Council of Elder Statesmen, which was expanded and elevated to cabinet rank, was intended to preserve the status and position of a former president but plans were announced to reduce its size and functions after the inauguration of the current president."
      ],
      "text/plain": [
       "<IPython.core.display.Markdown object>"
      ]
     },
     "metadata": {},
     "output_type": "display_data"
    },
    {
     "data": {
      "text/markdown": [
       "The current president of South Korea, Yoon Suk Yeol, assumed office on 10 May 2022 after winning the 2022 presidential election with 48.5% of the vote."
      ],
      "text/plain": [
       "<IPython.core.display.Markdown object>"
      ]
     },
     "metadata": {},
     "output_type": "display_data"
    },
    {
     "data": {
      "text/markdown": [
       "The legitimacy of the Provisional Government established in 1919 and its continuity has been recognized and succeeded by South Korea in its constitutions of 1948 and 1988."
      ],
      "text/plain": [
       "<IPython.core.display.Markdown object>"
      ]
     },
     "metadata": {},
     "output_type": "display_data"
    }
   ],
   "source": [
    "# Now summarize each paragraph into a single sentence considering the question\n",
    "summarized_sentences = []\n",
    "for p_idx, p in enumerate(paragraphs_unique):\n",
    "    user_msg = \"You are given following question: \" + question\n",
    "    user_msg += \"Could you summarize the following paragraph into one setence? \\n \" + p\n",
    "    response_content = GPT.chat(\n",
    "        user_msg=user_msg,\n",
    "        PRINT_USER_MSG=False,\n",
    "        PRINT_GPT_OUTPUT=False,\n",
    "        RESET_CHAT=True,\n",
    "        RETURN_RESPONSE=True,\n",
    "    )\n",
    "    # Append summarized sentences\n",
    "    summarized_sentences.append(response_content)\n",
    "    # Print summarized sentence with a markdown format\n",
    "    printmd(response_content)"
   ]
  },
  {
   "cell_type": "markdown",
   "id": "d5286646",
   "metadata": {},
   "source": [
    "### Step 3. Answer the question using `summarized_sentences`"
   ]
  },
  {
   "cell_type": "code",
   "execution_count": 11,
   "id": "9d5ddbe4",
   "metadata": {},
   "outputs": [],
   "source": [
    "user_msg = \" \".join(summarized_sentences)\n",
    "user_msg += \" Using the information above, could you answer the following question? \"\n",
    "user_msg += question"
   ]
  },
  {
   "cell_type": "code",
   "execution_count": 12,
   "id": "d680df19",
   "metadata": {
    "scrolled": true
   },
   "outputs": [
    {
     "data": {
      "text/html": [
       "<pre style=\"white-space:pre;overflow-x:auto;line-height:normal;font-family:Menlo,'DejaVu Sans Mono',consolas,'Courier New',monospace\"><span style=\"color: #0087d7; text-decoration-color: #0087d7; font-weight: bold\">[</span><span style=\"color: #0087d7; text-decoration-color: #0087d7\">USER_MSG</span><span style=\"color: #0087d7; text-decoration-color: #0087d7; font-weight: bold\">]</span>\n",
       "</pre>\n"
      ],
      "text/plain": [
       "\u001b[1;38;5;32m[\u001b[0m\u001b[38;5;32mUSER_MSG\u001b[0m\u001b[1;38;5;32m]\u001b[0m\n"
      ]
     },
     "metadata": {},
     "output_type": "display_data"
    },
    {
     "data": {
      "text/markdown": [
       "The current president of South Korea is directly elected for a five-year term with no possibility of re-election and is exempt from criminal liability, except for insurrection or treason. The current president of South Korea serves a five-year term and is not eligible for re-election. The current president of South Korea is the head of state and government, leading the State Council and serving as the commander-in-chief of the Republic of Korea Armed Forces. The current president of South Korea does not have the power to dissolve the National Assembly and can take emergency measures that may amend or abolish laws, but these measures must be endorsed by the National Assembly to be in effect. The current president of South Korea chairs the National Security Council and there is also a Peaceful Unification Advisory Council, which serves as a government sounding board and provides opportunities to meet with senior officials. The controversial Advisory Council of Elder Statesmen, which was expanded and elevated to cabinet rank, was intended to preserve the status and position of a former president but plans were announced to reduce its size and functions after the inauguration of the current president. The current president of South Korea, Yoon Suk Yeol, assumed office on 10 May 2022 after winning the 2022 presidential election with 48.5% of the vote. The legitimacy of the Provisional Government established in 1919 and its continuity has been recognized and succeeded by South Korea in its constitutions of 1948 and 1988. Using the information above, could you answer the following question? Who is the current president of South Korea?"
      ],
      "text/plain": [
       "<IPython.core.display.Markdown object>"
      ]
     },
     "metadata": {},
     "output_type": "display_data"
    },
    {
     "data": {
      "text/html": [
       "<pre style=\"white-space:pre;overflow-x:auto;line-height:normal;font-family:Menlo,'DejaVu Sans Mono',consolas,'Courier New',monospace\"><span style=\"color: #00875f; text-decoration-color: #00875f; font-weight: bold\">[</span><span style=\"color: #00875f; text-decoration-color: #00875f\">GPT_OUTPUT</span><span style=\"color: #00875f; text-decoration-color: #00875f; font-weight: bold\">]</span>\n",
       "</pre>\n"
      ],
      "text/plain": [
       "\u001b[1;38;5;29m[\u001b[0m\u001b[38;5;29mGPT_OUTPUT\u001b[0m\u001b[1;38;5;29m]\u001b[0m\n"
      ]
     },
     "metadata": {},
     "output_type": "display_data"
    },
    {
     "data": {
      "text/markdown": [
       "The current president of South Korea is Yoon Suk Yeol."
      ],
      "text/plain": [
       "<IPython.core.display.Markdown object>"
      ]
     },
     "metadata": {},
     "output_type": "display_data"
    }
   ],
   "source": [
    "response_content = GPT.chat(\n",
    "    user_msg=user_msg,\n",
    "    PRINT_USER_MSG=True,\n",
    "    PRINT_GPT_OUTPUT=True,\n",
    "    RESET_CHAT=False,\n",
    "    RETURN_RESPONSE=True,\n",
    ")"
   ]
  },
  {
   "cell_type": "code",
   "execution_count": 13,
   "id": "b987f6f2",
   "metadata": {},
   "outputs": [
    {
     "data": {
      "text/html": [
       "<pre style=\"white-space:pre;overflow-x:auto;line-height:normal;font-family:Menlo,'DejaVu Sans Mono',consolas,'Courier New',monospace\"><span style=\"color: #0087d7; text-decoration-color: #0087d7; font-weight: bold\">[</span><span style=\"color: #0087d7; text-decoration-color: #0087d7\">USER_MSG</span><span style=\"color: #0087d7; text-decoration-color: #0087d7; font-weight: bold\">]</span>\n",
       "</pre>\n"
      ],
      "text/plain": [
       "\u001b[1;38;5;32m[\u001b[0m\u001b[38;5;32mUSER_MSG\u001b[0m\u001b[1;38;5;32m]\u001b[0m\n"
      ]
     },
     "metadata": {},
     "output_type": "display_data"
    },
    {
     "data": {
      "text/markdown": [
       "Could you explain about this little longer?"
      ],
      "text/plain": [
       "<IPython.core.display.Markdown object>"
      ]
     },
     "metadata": {},
     "output_type": "display_data"
    },
    {
     "data": {
      "text/html": [
       "<pre style=\"white-space:pre;overflow-x:auto;line-height:normal;font-family:Menlo,'DejaVu Sans Mono',consolas,'Courier New',monospace\"><span style=\"color: #00875f; text-decoration-color: #00875f; font-weight: bold\">[</span><span style=\"color: #00875f; text-decoration-color: #00875f\">GPT_OUTPUT</span><span style=\"color: #00875f; text-decoration-color: #00875f; font-weight: bold\">]</span>\n",
       "</pre>\n"
      ],
      "text/plain": [
       "\u001b[1;38;5;29m[\u001b[0m\u001b[38;5;29mGPT_OUTPUT\u001b[0m\u001b[1;38;5;29m]\u001b[0m\n"
      ]
     },
     "metadata": {},
     "output_type": "display_data"
    },
    {
     "data": {
      "text/markdown": [
       "Certainly! Yoon Suk Yeol is the current president of South Korea. He assumed office on 10th May 2022 after winning the 2022 presidential election with 48.5% of the vote. Yoon Suk Yeol is a former prosecutor general and member of the conservative People Power Party. As the president, he serves a five-year term and is not eligible for re-election. He is also exempt from criminal liability, except for insurrection or treason. As the head of state and government, Yoon Suk Yeol leads the State Council and acts as the commander-in-chief of the Republic of Korea Armed Forces. He chairs the National Security Council and also oversees the Peaceful Unification Advisory Council, a government advisory board. It is important to note that the president does not have the power to dissolve the National Assembly, and any emergency measures taken by the president must be endorsed by the National Assembly to be in effect. The Provisional Government established in 1919 holds legitimacy and continues to have its role recognized in the constitutions of South Korea."
      ],
      "text/plain": [
       "<IPython.core.display.Markdown object>"
      ]
     },
     "metadata": {},
     "output_type": "display_data"
    }
   ],
   "source": [
    "user_msg = \"Could you explain about this little longer?\"\n",
    "response_content = GPT.chat(\n",
    "    user_msg=user_msg,\n",
    "    PRINT_USER_MSG=True,\n",
    "    PRINT_GPT_OUTPUT=True,\n",
    "    RESET_CHAT=False,\n",
    "    RETURN_RESPONSE=True,\n",
    ")"
   ]
  }
 ],
 "metadata": {
  "kernelspec": {
   "display_name": "Python 3 (ipykernel)",
   "language": "python",
   "name": "python3"
  },
  "language_info": {
   "codemirror_mode": {
    "name": "ipython",
    "version": 3
   },
   "file_extension": ".py",
   "mimetype": "text/x-python",
   "name": "python",
   "nbconvert_exporter": "python",
   "pygments_lexer": "ipython3",
   "version": "3.10.12"
  }
 },
 "nbformat": 4,
 "nbformat_minor": 5
}
