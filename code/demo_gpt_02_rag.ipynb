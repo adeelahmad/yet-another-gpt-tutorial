{
 "cells": [
  {
   "cell_type": "markdown",
   "id": "9d42d686",
   "metadata": {},
   "source": [
    "### Retrieval-Augmented Generation with Wikipedia"
   ]
  },
  {
   "cell_type": "code",
   "execution_count": 1,
   "id": "0ff8898c",
   "metadata": {},
   "outputs": [
    {
     "name": "stdout",
     "output_type": "stream",
     "text": [
      "openai version:[0.28.0]\n"
     ]
    }
   ],
   "source": [
    "import os\n",
    "import openai\n",
    "from gpt_helper import set_openai_api_key_from_txt,GPTchatClass,printmd\n",
    "from wiki_helper import wiki_search\n",
    "from util import printmd,extract_quoted_words\n",
    "print (\"openai version:[%s]\"%(openai.__version__))"
   ]
  },
  {
   "cell_type": "markdown",
   "id": "1b39a3d2",
   "metadata": {},
   "source": [
    "### Instantiate GPT Agent"
   ]
  },
  {
   "cell_type": "code",
   "execution_count": 2,
   "id": "08bd57a4",
   "metadata": {},
   "outputs": [
    {
     "name": "stdout",
     "output_type": "stream",
     "text": [
      "OpenAI API Key Ready from [../key/rilab_key.txt].\n",
      "Chat agent using [gpt-3.5-turbo] initialized with the follow role:[Your are a helpful assistant summarizing infromation and answering user queries.]\n"
     ]
    }
   ],
   "source": [
    "set_openai_api_key_from_txt(key_path='../key/rilab_key.txt')\n",
    "GPT = GPTchatClass(\n",
    "    gpt_model='gpt-3.5-turbo', # 'gpt-3.5-turbo' / 'gpt-4'\n",
    "    role_msg='Your are a helpful assistant summarizing infromation and answering user queries.')"
   ]
  },
  {
   "cell_type": "markdown",
   "id": "cb1e669b",
   "metadata": {},
   "source": [
    "### Our RAG agent will use the following strategies\n",
    "We assume that a user question is given (e.g., 'Who is the current president of South Korea?').\n",
    "* Step 1. For the given question, our `GPT agent` will first generate a number of entities for searching Wikipedia.\n",
    "* Step 2. Then, our `WikiBot` will provide (i.e., crawl) related information summarized with the `GPT agent` considering the user question.\n",
    "* Step 3. Finally, the summarized texts and the original user question will be given to the `GPT agent` to answer. "
   ]
  },
  {
   "cell_type": "code",
   "execution_count": 3,
   "id": "7986bfe2",
   "metadata": {},
   "outputs": [
    {
     "name": "stdout",
     "output_type": "stream",
     "text": [
      "question: Who is the current president of South Korea?\n"
     ]
    }
   ],
   "source": [
    "question = 'Who is the current president of South Korea?'\n",
    "\"\"\"\n",
    "question = '''\n",
    "    I am an interactive humanoid robot agent. \n",
    "    I have following action capabilites:['idle','waving','greeting','raising hands','hugging','reading a book']\n",
    "    I can detect following observations:['no people','a person appears','a person waves hands','a person leaves']\n",
    "    I have a following personality:['Introverted and Childish']\n",
    "    What is the best next action when I am in ['idle'] state and observes ['a person waves hands']?\n",
    "'''\n",
    "\"\"\"\n",
    "print (\"question: %s\"%(question))"
   ]
  },
  {
   "cell_type": "markdown",
   "id": "a7786588",
   "metadata": {},
   "source": [
    "### Step 1. Generate entities for wiki search"
   ]
  },
  {
   "cell_type": "code",
   "execution_count": 4,
   "id": "a46151c3",
   "metadata": {},
   "outputs": [],
   "source": [
    "user_msg = \\\n",
    "    \"\"\"\n",
    "    Suppose you will use Wikipedia for retrieving information. \n",
    "    Could you recommend three query words wrapped with quotation marks considering the following question?\n",
    "    \"\"\" + '\"' + question + '\"'"
   ]
  },
  {
   "cell_type": "code",
   "execution_count": 5,
   "id": "31f76438",
   "metadata": {},
   "outputs": [
    {
     "name": "stdout",
     "output_type": "stream",
     "text": [
      "[USER_MSG]\n"
     ]
    },
    {
     "data": {
      "text/markdown": [
       "\n",
       "    Suppose you will use Wikipedia for retrieving information. \n",
       "    Could you recommend three query words wrapped with quotation marks considering the following question?\n",
       "    \"Who is the current president of South Korea?\""
      ],
      "text/plain": [
       "<IPython.core.display.Markdown object>"
      ]
     },
     "metadata": {},
     "output_type": "display_data"
    },
    {
     "name": "stdout",
     "output_type": "stream",
     "text": [
      "[GPT_OUTPUT]\n"
     ]
    },
    {
     "data": {
      "text/markdown": [
       "Sure! Here are three query words you can use to search for the current president of South Korea on Wikipedia:\n",
       "\n",
       "1. \"Current president of South Korea\"\n",
       "2. \"President of South Korea\"\n",
       "3. \"South Korean president\"\n",
       "\n",
       "By putting these phrases in quotation marks, it will help narrow down the search results and prioritize pages that contain the exact phrase you're looking for."
      ],
      "text/plain": [
       "<IPython.core.display.Markdown object>"
      ]
     },
     "metadata": {},
     "output_type": "display_data"
    }
   ],
   "source": [
    "response_content = GPT.chat(\n",
    "    user_msg=user_msg,PRINT_USER_MSG=True,PRINT_GPT_OUTPUT=True,\n",
    "    RESET_CHAT=True,RETURN_RESPONSE=True)"
   ]
  },
  {
   "cell_type": "code",
   "execution_count": 6,
   "id": "90835aa3",
   "metadata": {},
   "outputs": [
    {
     "data": {
      "text/markdown": [
       "Sure! Here are three query words you can use to search for the current president of South Korea on Wikipedia:\n",
       "\n",
       "1. \"Current president of South Korea\"\n",
       "2. \"President of South Korea\"\n",
       "3. \"South Korean president\"\n",
       "\n",
       "By putting these phrases in quotation marks, it will help narrow down the search results and prioritize pages that contain the exact phrase you're looking for."
      ],
      "text/plain": [
       "<IPython.core.display.Markdown object>"
      ]
     },
     "metadata": {},
     "output_type": "display_data"
    }
   ],
   "source": [
    "# Print summarized sentence with a markdown format\n",
    "printmd(response_content)"
   ]
  },
  {
   "cell_type": "code",
   "execution_count": 7,
   "id": "da04d2e3",
   "metadata": {},
   "outputs": [
    {
     "name": "stdout",
     "output_type": "stream",
     "text": [
      "['Current president of South Korea', 'President of South Korea', 'South Korean president']\n"
     ]
    }
   ],
   "source": [
    "entities = extract_quoted_words(response_content)\n",
    "if len(entities) > 3: entities = entities[-3:]\n",
    "print (entities)"
   ]
  },
  {
   "cell_type": "markdown",
   "id": "79e4bf43",
   "metadata": {},
   "source": [
    "### Step 2. Query entities to `WikiBot`"
   ]
  },
  {
   "cell_type": "code",
   "execution_count": 8,
   "id": "288c9789",
   "metadata": {},
   "outputs": [
    {
     "name": "stdout",
     "output_type": "stream",
     "text": [
      "entity:[Current president of South Korea] mismatched. use [President of South Korea] instead.\n",
      " We have total [293] paragraphs.\n",
      " After filtering, we have [31] and [8] paragraphs returned (k:[5] and m:[3])\n",
      "entity:[President of South Korea] matched.\n",
      " We have total [293] paragraphs.\n",
      " After filtering, we have [31] and [8] paragraphs returned (k:[5] and m:[3])\n",
      "entity:[South Korean president] matched.\n",
      " We have total [293] paragraphs.\n",
      " After filtering, we have [31] and [8] paragraphs returned (k:[5] and m:[3])\n"
     ]
    }
   ],
   "source": [
    "paragraphs_return = []\n",
    "for entity in entities:\n",
    "    paragraphs_return += wiki_search(entity=entity,VERBOSE=True)"
   ]
  },
  {
   "cell_type": "code",
   "execution_count": 9,
   "id": "92579ce3",
   "metadata": {},
   "outputs": [
    {
     "name": "stdout",
     "output_type": "stream",
     "text": [
      "Number of paragraphs [24] => unique ones [8]\n"
     ]
    }
   ],
   "source": [
    "# Get the unique elements\n",
    "paragraphs_unique = list(set(paragraphs_return))\n",
    "print (\"Number of paragraphs [%d] => unique ones [%d]\"%\n",
    "       (len(paragraphs_return),len(paragraphs_unique)))"
   ]
  },
  {
   "cell_type": "code",
   "execution_count": 10,
   "id": "512ca3f3",
   "metadata": {
    "scrolled": true
   },
   "outputs": [
    {
     "data": {
      "text/markdown": [
       "The current president of South Korea is directly elected for a five-year term with no possibility of re-election, and in case of a vacancy, a successor must be elected within sixty days."
      ],
      "text/plain": [
       "<IPython.core.display.Markdown object>"
      ]
     },
     "metadata": {},
     "output_type": "display_data"
    },
    {
     "data": {
      "text/markdown": [
       "The current president of South Korea is the head of state and government, leading the State Council and serving as the commander-in-chief of the Armed Forces."
      ],
      "text/plain": [
       "<IPython.core.display.Markdown object>"
      ]
     },
     "metadata": {},
     "output_type": "display_data"
    },
    {
     "data": {
      "text/markdown": [
       "The current president of South Korea is not mentioned in the given paragraph"
      ],
      "text/plain": [
       "<IPython.core.display.Markdown object>"
      ]
     },
     "metadata": {},
     "output_type": "display_data"
    },
    {
     "data": {
      "text/markdown": [
       "The presidential term in South Korea is currently set at five years since 1988, with the president being barred from re-election since 1981."
      ],
      "text/plain": [
       "<IPython.core.display.Markdown object>"
      ]
     },
     "metadata": {},
     "output_type": "display_data"
    },
    {
     "data": {
      "text/markdown": [
       "The Provisional Government of the Republic of Korea established in September 1919 was recognized and succeeded by South Korea and its current Constitution."
      ],
      "text/plain": [
       "<IPython.core.display.Markdown object>"
      ]
     },
     "metadata": {},
     "output_type": "display_data"
    },
    {
     "data": {
      "text/markdown": [
       "The paragraph describes the National Security Council and the Peaceful Unification Advisory Council in South Korea, their roles and membership."
      ],
      "text/plain": [
       "<IPython.core.display.Markdown object>"
      ]
     },
     "metadata": {},
     "output_type": "display_data"
    },
    {
     "data": {
      "text/markdown": [
       "Yoon Suk Yeol, a former prosecutor general and member of the conservative People Power Party, became the president of South Korea on May 10, 2022, after winning the 2022 presidential election with a narrow 48.5% of the votes, defeating Lee Jae-myung from the Democratic Party."
      ],
      "text/plain": [
       "<IPython.core.display.Markdown object>"
      ]
     },
     "metadata": {},
     "output_type": "display_data"
    },
    {
     "data": {
      "text/markdown": [
       "The paragraph discusses the controversial Advisory Council of Elder Statesmen in South Korea, which was expanded and elevated to cabinet rank before Roh Tae Woo became president, leading to suspicions of it being designed to benefit a specific individual. However, these suspicions became irrelevant when former President Chun withdrew from politics in November 1988."
      ],
      "text/plain": [
       "<IPython.core.display.Markdown object>"
      ]
     },
     "metadata": {},
     "output_type": "display_data"
    }
   ],
   "source": [
    "# Now summarize each paragraph into a single sentence considering the question\n",
    "summarized_sentences = []\n",
    "for p_idx,p in enumerate(paragraphs_unique):\n",
    "    user_msg = \"You are given following question: \"+question\n",
    "    user_msg += \"Could you summarize the following paragraph into one setence? \\n \"+p\n",
    "    response_content = GPT.chat(\n",
    "        user_msg=user_msg,PRINT_USER_MSG=False,PRINT_GPT_OUTPUT=False,\n",
    "        RESET_CHAT=True,RETURN_RESPONSE=True)\n",
    "    # Append summarized sentences\n",
    "    summarized_sentences.append(response_content)\n",
    "    # Print summarized sentence with a markdown format\n",
    "    printmd(response_content)"
   ]
  },
  {
   "cell_type": "markdown",
   "id": "d5286646",
   "metadata": {},
   "source": [
    "### Step 3. Answer the question using `summarized_sentences`"
   ]
  },
  {
   "cell_type": "code",
   "execution_count": 11,
   "id": "9d5ddbe4",
   "metadata": {},
   "outputs": [],
   "source": [
    "user_msg = \" \".join(summarized_sentences)\n",
    "user_msg += \" Using the information above, could you answer the following question? \"\n",
    "user_msg += question"
   ]
  },
  {
   "cell_type": "code",
   "execution_count": 12,
   "id": "d680df19",
   "metadata": {
    "scrolled": true
   },
   "outputs": [
    {
     "name": "stdout",
     "output_type": "stream",
     "text": [
      "[USER_MSG]\n"
     ]
    },
    {
     "data": {
      "text/markdown": [
       "The current president of South Korea is directly elected for a five-year term with no possibility of re-election, and in case of a vacancy, a successor must be elected within sixty days. The current president of South Korea is the head of state and government, leading the State Council and serving as the commander-in-chief of the Armed Forces. The current president of South Korea is not mentioned in the given paragraph The presidential term in South Korea is currently set at five years since 1988, with the president being barred from re-election since 1981. The Provisional Government of the Republic of Korea established in September 1919 was recognized and succeeded by South Korea and its current Constitution. The paragraph describes the National Security Council and the Peaceful Unification Advisory Council in South Korea, their roles and membership. Yoon Suk Yeol, a former prosecutor general and member of the conservative People Power Party, became the president of South Korea on May 10, 2022, after winning the 2022 presidential election with a narrow 48.5% of the votes, defeating Lee Jae-myung from the Democratic Party. The paragraph discusses the controversial Advisory Council of Elder Statesmen in South Korea, which was expanded and elevated to cabinet rank before Roh Tae Woo became president, leading to suspicions of it being designed to benefit a specific individual. However, these suspicions became irrelevant when former President Chun withdrew from politics in November 1988. Using the information above, could you answer the following question? Who is the current president of South Korea?"
      ],
      "text/plain": [
       "<IPython.core.display.Markdown object>"
      ]
     },
     "metadata": {},
     "output_type": "display_data"
    },
    {
     "name": "stdout",
     "output_type": "stream",
     "text": [
      "[GPT_OUTPUT]\n"
     ]
    },
    {
     "data": {
      "text/markdown": [
       "The current president of South Korea is Yoon Suk Yeol, who took office on May 10, 2022, after winning the 2022 presidential election."
      ],
      "text/plain": [
       "<IPython.core.display.Markdown object>"
      ]
     },
     "metadata": {},
     "output_type": "display_data"
    }
   ],
   "source": [
    "response_content = GPT.chat(\n",
    "    user_msg=user_msg,PRINT_USER_MSG=True,PRINT_GPT_OUTPUT=True,\n",
    "    RESET_CHAT=False,RETURN_RESPONSE=True)"
   ]
  },
  {
   "cell_type": "code",
   "execution_count": null,
   "id": "b987f6f2",
   "metadata": {},
   "outputs": [],
   "source": [
    "user_msg = \"Could you explain about this little longer?\"\n",
    "response_content = GPT.chat(\n",
    "    user_msg=user_msg,PRINT_USER_MSG=True,PRINT_GPT_OUTPUT=True,\n",
    "    RESET_CHAT=False,RETURN_RESPONSE=True)"
   ]
  },
  {
   "cell_type": "code",
   "execution_count": null,
   "id": "adb3a643",
   "metadata": {},
   "outputs": [],
   "source": []
  }
 ],
 "metadata": {
  "kernelspec": {
   "display_name": "Python 3 (ipykernel)",
   "language": "python",
   "name": "python3"
  },
  "language_info": {
   "codemirror_mode": {
    "name": "ipython",
    "version": 3
   },
   "file_extension": ".py",
   "mimetype": "text/x-python",
   "name": "python",
   "nbconvert_exporter": "python",
   "pygments_lexer": "ipython3",
   "version": "3.9.16"
  }
 },
 "nbformat": 4,
 "nbformat_minor": 5
}
